{
 "cells": [
  {
   "cell_type": "code",
   "execution_count": 1,
   "metadata": {},
   "outputs": [],
   "source": [
    "from pandas.io.json import json_normalize # transform json into pandas dataframe\n",
    "import matplotlib.cm as cm #plotting\n",
    "import matplotlib.colors as colors\n",
    "import matplotlib.pyplot as py\n",
    "import json\n",
    "import requests\n",
    "import numpy as np  # data vectors\n",
    "import pandas as pd # data analysis\n",
    "from police_api import PoliceAPI\n",
    "api = PoliceAPI()"
   ]
  },
  {
   "cell_type": "code",
   "execution_count": 2,
   "metadata": {},
   "outputs": [
    {
     "data": {
      "text/plain": [
       "[<Force> Avon and Somerset Constabulary,\n",
       " <Force> Bedfordshire Police,\n",
       " <Force> Cambridgeshire Constabulary,\n",
       " <Force> Cheshire Constabulary,\n",
       " <Force> City of London Police,\n",
       " <Force> Cleveland Police,\n",
       " <Force> Cumbria Constabulary,\n",
       " <Force> Derbyshire Constabulary,\n",
       " <Force> Devon & Cornwall Police,\n",
       " <Force> Dorset Police,\n",
       " <Force> Durham Constabulary,\n",
       " <Force> Dyfed-Powys Police,\n",
       " <Force> Essex Police,\n",
       " <Force> Gloucestershire Constabulary,\n",
       " <Force> Greater Manchester Police,\n",
       " <Force> Gwent Police,\n",
       " <Force> Hampshire Constabulary,\n",
       " <Force> Hertfordshire Constabulary,\n",
       " <Force> Humberside Police,\n",
       " <Force> Kent Police,\n",
       " <Force> Lancashire Constabulary,\n",
       " <Force> Leicestershire Police,\n",
       " <Force> Lincolnshire Police,\n",
       " <Force> Merseyside Police,\n",
       " <Force> Metropolitan Police Service,\n",
       " <Force> Norfolk Constabulary,\n",
       " <Force> North Wales Police,\n",
       " <Force> North Yorkshire Police,\n",
       " <Force> Northamptonshire Police,\n",
       " <Force> Northumbria Police,\n",
       " <Force> Nottinghamshire Police,\n",
       " <Force> Police Service of Northern Ireland,\n",
       " <Force> South Wales Police,\n",
       " <Force> South Yorkshire Police,\n",
       " <Force> Staffordshire Police,\n",
       " <Force> Suffolk Constabulary,\n",
       " <Force> Surrey Police,\n",
       " <Force> Sussex Police,\n",
       " <Force> Thames Valley Police,\n",
       " <Force> Warwickshire Police,\n",
       " <Force> West Mercia Police,\n",
       " <Force> West Midlands Police,\n",
       " <Force> West Yorkshire Police,\n",
       " <Force> Wiltshire Police]"
      ]
     },
     "execution_count": 2,
     "metadata": {},
     "output_type": "execute_result"
    }
   ],
   "source": [
    "forces = api.get_forces()\n",
    "forces"
   ]
  },
  {
   "cell_type": "code",
   "execution_count": 3,
   "metadata": {},
   "outputs": [],
   "source": [
    "def getIdName(records, name=None):\n",
    "    ''' Get id force by name. If no name, return a dict of name:id mappings. '''\n",
    "    if name:\n",
    "        return {r.name:r.id for r in records if name.lower() in r.name.lower()}\n",
    "    return {r.name:r.id for r in records}"
   ]
  },
  {
   "cell_type": "code",
   "execution_count": 4,
   "metadata": {},
   "outputs": [
    {
     "data": {
      "text/plain": [
       "{'Avon and Somerset Constabulary': 'avon-and-somerset',\n",
       " 'Bedfordshire Police': 'bedfordshire',\n",
       " 'Cambridgeshire Constabulary': 'cambridgeshire',\n",
       " 'Cheshire Constabulary': 'cheshire',\n",
       " 'City of London Police': 'city-of-london',\n",
       " 'Cleveland Police': 'cleveland',\n",
       " 'Cumbria Constabulary': 'cumbria',\n",
       " 'Derbyshire Constabulary': 'derbyshire',\n",
       " 'Devon & Cornwall Police': 'devon-and-cornwall',\n",
       " 'Dorset Police': 'dorset',\n",
       " 'Durham Constabulary': 'durham',\n",
       " 'Dyfed-Powys Police': 'dyfed-powys',\n",
       " 'Essex Police': 'essex',\n",
       " 'Gloucestershire Constabulary': 'gloucestershire',\n",
       " 'Greater Manchester Police': 'greater-manchester',\n",
       " 'Gwent Police': 'gwent',\n",
       " 'Hampshire Constabulary': 'hampshire',\n",
       " 'Hertfordshire Constabulary': 'hertfordshire',\n",
       " 'Humberside Police': 'humberside',\n",
       " 'Kent Police': 'kent',\n",
       " 'Lancashire Constabulary': 'lancashire',\n",
       " 'Leicestershire Police': 'leicestershire',\n",
       " 'Lincolnshire Police': 'lincolnshire',\n",
       " 'Merseyside Police': 'merseyside',\n",
       " 'Metropolitan Police Service': 'metropolitan',\n",
       " 'Norfolk Constabulary': 'norfolk',\n",
       " 'North Wales Police': 'north-wales',\n",
       " 'North Yorkshire Police': 'north-yorkshire',\n",
       " 'Northamptonshire Police': 'northamptonshire',\n",
       " 'Northumbria Police': 'northumbria',\n",
       " 'Nottinghamshire Police': 'nottinghamshire',\n",
       " 'Police Service of Northern Ireland': 'northern-ireland',\n",
       " 'South Wales Police': 'south-wales',\n",
       " 'South Yorkshire Police': 'south-yorkshire',\n",
       " 'Staffordshire Police': 'staffordshire',\n",
       " 'Suffolk Constabulary': 'suffolk',\n",
       " 'Surrey Police': 'surrey',\n",
       " 'Sussex Police': 'sussex',\n",
       " 'Thames Valley Police': 'thames-valley',\n",
       " 'Warwickshire Police': 'warwickshire',\n",
       " 'West Mercia Police': 'west-mercia',\n",
       " 'West Midlands Police': 'west-midlands',\n",
       " 'West Yorkshire Police': 'west-yorkshire',\n",
       " 'Wiltshire Police': 'wiltshire'}"
      ]
     },
     "execution_count": 4,
     "metadata": {},
     "output_type": "execute_result"
    }
   ],
   "source": [
    "getIdName(forces)"
   ]
  },
  {
   "cell_type": "code",
   "execution_count": 7,
   "metadata": {},
   "outputs": [
    {
     "data": {
      "text/plain": [
       "{'Thames Valley Police': 'thames-valley'}"
      ]
     },
     "execution_count": 7,
     "metadata": {},
     "output_type": "execute_result"
    }
   ],
   "source": [
    "getIdName(forces, 'Thames Valley Police')"
   ]
  },
  {
   "cell_type": "code",
   "execution_count": 8,
   "metadata": {},
   "outputs": [],
   "source": [
    "force = api.get_force('thames-valley')"
   ]
  },
  {
   "cell_type": "code",
   "execution_count": 9,
   "metadata": {},
   "outputs": [],
   "source": [
    "def getNameId(records, rid=None):\n",
    "    ''' Get record name by id. '''\n",
    "    if rid:\n",
    "        return {r.name:r.id for r in records if rid == r.id}\n",
    "    return {r.name:r.id for r in records}"
   ]
  },
  {
   "cell_type": "code",
   "execution_count": 10,
   "metadata": {},
   "outputs": [
    {
     "data": {
      "text/plain": [
       "{' Wing and Ivinghoe': 'N416',\n",
       " 'Abbey / Battle': 'N464',\n",
       " 'Abingdon Outer': 'N375',\n",
       " 'Abingdon Town': 'N376',\n",
       " 'Amersham': 'N430',\n",
       " 'Ascot': 'N390',\n",
       " 'Aylesbury East': 'N411',\n",
       " 'Aylesbury North ': 'N412',\n",
       " 'Aylesbury South': 'N413',\n",
       " 'Aylesbury Town Centre': 'N106',\n",
       " 'Aylesbury West': 'N414',\n",
       " 'Banbury Rural': 'N425',\n",
       " 'Banbury Town': 'N426',\n",
       " 'Beaconsfield': 'N478',\n",
       " 'Bicester Rural': 'N427',\n",
       " 'Bicester Town': 'N428',\n",
       " 'Bracknell Central North': 'N421',\n",
       " 'Bracknell Central South': 'N422',\n",
       " 'Bracknell Northern Parishes': 'N423',\n",
       " 'Bracknell Town Centre': 'N289',\n",
       " 'Bradwell / Stantonbury': 'N434',\n",
       " 'Britwell / Haymill': 'N457',\n",
       " 'Buckingham and District': 'N415',\n",
       " 'Bucklebury / Downlands': 'N469',\n",
       " 'Burnham / Farnhams / Taplow': 'N475',\n",
       " 'Calcot / Tilehurst': 'N470',\n",
       " 'Campbell Park South / Woughton': 'N435',\n",
       " 'Carterton / Bampton / Burford': 'N385',\n",
       " 'Central Bletchley / Fenny Stratford': 'N436',\n",
       " 'Chalfonts': 'N431',\n",
       " 'Chalvey / Upton / Town': 'N458',\n",
       " 'Chepping Wye Valley': 'N404',\n",
       " 'Chesham': 'N432',\n",
       " 'Chipping Norton': 'N386',\n",
       " 'Cippenham': 'N459',\n",
       " 'Colnbrook / Poyle / Foxborough': 'N460',\n",
       " 'Crowthorne': 'N305',\n",
       " 'Danesborough / Walton': 'N438',\n",
       " 'Denham / Gerrards Cross': 'N476',\n",
       " 'Didcot': 'N377',\n",
       " 'Earley': 'N397',\n",
       " 'Eynsham': 'N387',\n",
       " 'Faringdon': 'N378',\n",
       " 'Farnham / Baylis / Stoke': 'N461',\n",
       " 'Fields': 'N398',\n",
       " 'Finchampstead': 'N399',\n",
       " 'Great Linford': 'N439',\n",
       " 'Haddenham / Long Crendon': 'N417',\n",
       " 'Henley': 'N379',\n",
       " 'Hungerford / Lambourn District': 'N471',\n",
       " 'Iver / Stoke Poges / Wexham': 'N477',\n",
       " 'Kentwood / Tilehurst': 'N454',\n",
       " 'Kidlington': 'N429',\n",
       " 'Langley / Kedermister': 'N462',\n",
       " 'Loughton Park': 'N440',\n",
       " 'Maidenhead Central': 'N391',\n",
       " 'Maidenhead South': 'N392',\n",
       " 'Maidenhead West': 'N393',\n",
       " 'Mapledurham / Thames': 'N465',\n",
       " 'Marlow': 'N405',\n",
       " 'Marlow South West Rural': 'N406',\n",
       " 'Middleton District': 'N441',\n",
       " 'Minster / Katesgrove': 'N455',\n",
       " 'Missendens': 'N433',\n",
       " 'Mk City Centre / Campbell Park': 'N337',\n",
       " 'Newbury Outer': 'N472',\n",
       " 'Newbury Town Centre': 'N200',\n",
       " 'Newport Pagnell': 'N442',\n",
       " 'Oxford Barton / Risinghurst': 'N447',\n",
       " 'Oxford Central': 'N448',\n",
       " 'Oxford Cowley': 'N449',\n",
       " 'Oxford East': 'N450',\n",
       " 'Oxford North': 'N451',\n",
       " 'Oxford North East': 'N452',\n",
       " 'Oxford South East': 'N453',\n",
       " 'Pangbourne / Burghfield': 'N473',\n",
       " 'Peppard / Caversham': 'N466',\n",
       " 'Princes Risborough': 'N407',\n",
       " 'Redlands / Park': 'N468',\n",
       " 'Rural Milton Keynes': 'N443',\n",
       " 'Ruscote / Neithrop / Hardwick': 'N348',\n",
       " 'Sandhurst': 'N424',\n",
       " 'Shenley Brook End / Tattenhoe': 'N444',\n",
       " 'Southcote / Norcot': 'N456',\n",
       " 'Stony Stratford / Wolverton': 'N445',\n",
       " 'Thame / Watlington / Chinnor': 'N380',\n",
       " 'Thatcham, Aldermaston and Brimpton': 'N474',\n",
       " 'Twyford': 'N400',\n",
       " 'Waddesdon': 'N418',\n",
       " 'Wallingford / Berinsfield / Cholsey': 'N381',\n",
       " 'Wantage / Grove': 'N382',\n",
       " 'Wendover': 'N419',\n",
       " 'West Bletchley': 'N446',\n",
       " 'Wexham Lea / Central': 'N463',\n",
       " 'Wheatley / Chalgrove': 'N383',\n",
       " 'Whitley / Church': 'N467',\n",
       " 'Windsor Central': 'N394',\n",
       " 'Windsor East': 'N395',\n",
       " 'Windsor West': 'N396',\n",
       " 'Winnersh': 'N401',\n",
       " 'Winslow and District': 'N420',\n",
       " 'Witney': 'N388',\n",
       " 'Wokingham Town': 'N402',\n",
       " 'Woodley': 'N403',\n",
       " 'Woodstock': 'N389',\n",
       " 'Wycombe East': 'N408',\n",
       " 'Wycombe South': 'N409',\n",
       " 'Wycombe West': 'N410'}"
      ]
     },
     "execution_count": 10,
     "metadata": {},
     "output_type": "execute_result"
    }
   ],
   "source": [
    "areas = getNameId(force.neighbourhoods)\n",
    "areas"
   ]
  },
  {
   "cell_type": "code",
   "execution_count": 27,
   "metadata": {},
   "outputs": [
    {
     "name": "stdout",
     "output_type": "stream",
     "text": [
      "['2020-08', '2020-07', '2020-06', '2020-05', '2020-04', '2020-03', '2020-02', '2020-01', '2019-12', '2019-11', '2019-10', '2019-09', '2019-08', '2019-07', '2019-06', '2019-05', '2019-04', '2019-03', '2019-02', '2019-01', '2018-12', '2018-11', '2018-10', '2018-09', '2018-08', '2018-07', '2018-06', '2018-05', '2018-04', '2018-03', '2018-02', '2018-01', '2017-12', '2017-11', '2017-10', '2017-09']\n"
     ]
    }
   ],
   "source": [
    "\n",
    "#Show dates available\n",
    "print( api.get_dates() )"
   ]
  },
  {
   "cell_type": "code",
   "execution_count": 28,
   "metadata": {},
   "outputs": [
    {
     "data": {
      "text/plain": [
       "[<Neighbourhood.Priority> <p>Burglary</p>,\n",
       " <Neighbourhood.Priority> <p>Violent Crime</p>,\n",
       " <Neighbourhood.Priority> <p>Anti-social Behaviour</p>]"
      ]
     },
     "execution_count": 28,
     "metadata": {},
     "output_type": "execute_result"
    }
   ],
   "source": [
    "neighbourhood = force.get_neighbourhood( areas['Abingdon Outer'] )\n",
    "neighbourhood.priorities"
   ]
  },
  {
   "cell_type": "code",
   "execution_count": 29,
   "metadata": {},
   "outputs": [
    {
     "data": {
      "text/plain": [
       "[<Neighbourhood.Priority> <p>Burglary</p>,\n",
       " <Neighbourhood.Priority> <p>Violent Crime</p>,\n",
       " <Neighbourhood.Priority> <p>Anti-social behaviour</p>]"
      ]
     },
     "execution_count": 29,
     "metadata": {},
     "output_type": "execute_result"
    }
   ],
   "source": [
    "neighbourhood2 = force.get_neighbourhood( areas['Abingdon Town'] )\n",
    "neighbourhood2.priorities"
   ]
  },
  {
   "cell_type": "code",
   "execution_count": 30,
   "metadata": {},
   "outputs": [],
   "source": [
    "boundary = neighbourhood.boundary\n",
    "boundary2 = neighbourhood2.boundary"
   ]
  },
  {
   "cell_type": "code",
   "execution_count": 31,
   "metadata": {},
   "outputs": [],
   "source": [
    "def geoJsonFromNeighbourhoodBoundary(boundary):\n",
    "    ''' Generate geojson polygon from police API boundary. '''\n",
    "    geojson = {\"type\": \"FeatureCollection\",\n",
    "               \"features\": [\n",
    "                   {\n",
    "                       \"type\": \"Feature\",\n",
    "                       \"properties\": {},\n",
    "                       \"geometry\": {\n",
    "                           \"type\": \"Polygon\",\n",
    "                           \"coordinates\":  [[[ll[1],ll[0]] for ll in boundary]]\n",
    "                       }\n",
    "                   }\n",
    "               ]\n",
    "              }\n",
    "    return geojson\n",
    "#geojson"
   ]
  },
  {
   "cell_type": "code",
   "execution_count": 32,
   "metadata": {
    "scrolled": true
   },
   "outputs": [
    {
     "data": {
      "text/html": [
       "<div style=\"width:100%;\"><div style=\"position:relative;width:100%;height:0;padding-bottom:60%;\"><span style=\"color:#565656\">Make this Notebook Trusted to load map: File -> Trust Notebook</span><iframe src=\"about:blank\" style=\"position:absolute;width:100%;height:100%;left:0;top:0;border:none !important;\" data-html=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 onload=\"this.contentDocument.open();this.contentDocument.write(atob(this.getAttribute('data-html')));this.contentDocument.close();\" allowfullscreen webkitallowfullscreen mozallowfullscreen></iframe></div></div>"
      ],
      "text/plain": [
       "<folium.folium.Map at 0x7fe53e4457f0>"
      ]
     },
     "execution_count": 32,
     "metadata": {},
     "output_type": "execute_result"
    }
   ],
   "source": [
    "import folium\n",
    "import json\n",
    "\n",
    "m = folium.Map(\n",
    "    location=boundary[0], #Just pick the first point in boundary to centre map - rough and ready!\n",
    "    #Note that the default location is in lat/lon order\n",
    "    tiles='Mapbox Bright',\n",
    "    zoom_start=11\n",
    ")\n",
    "\n",
    "folium.GeoJson(\n",
    "    geoJsonFromNeighbourhoodBoundary(boundary),\n",
    "    name='geojson'\n",
    ").add_to(m)\n",
    "\n",
    "#folium.GeoJson(\n",
    "#    geoJsonFromNeighbourhoodBoundary(boundary2),\n",
    "#    name='geojson2'\n",
    "#).add_to(m)\n",
    "\n",
    "m"
   ]
  },
  {
   "cell_type": "code",
   "execution_count": 33,
   "metadata": {},
   "outputs": [
    {
     "data": {
      "application/vnd.jupyter.widget-view+json": {
       "model_id": "78a2065f25664224b14e13ef96d7fe34",
       "version_major": 2,
       "version_minor": 0
      },
      "text/plain": [
       "interactive(children=(Select(description='Police Force:', options={'Avon and Somerset Constabulary': 'avon-and…"
      ]
     },
     "metadata": {},
     "output_type": "display_data"
    }
   ],
   "source": [
    "from ipywidgets import widgets, interact\n",
    "\n",
    "\n",
    "#Note that we are seeding both widgets with values from the API\n",
    "\n",
    "force_widget = widgets.Select(options=getIdName(forces),\n",
    "                              description='Police Force:',\n",
    "                              disabled=False )\n",
    "\n",
    "area_widget = widgets.Select(options=getNameId(force.neighbourhoods),\n",
    "                              description='Neigbourhood areas:',\n",
    "                              disabled=False )\n",
    "\n",
    "def update_area_widget(*args):\n",
    "    ''' Update neighbourhoods widget. Also update the force global variable. '''\n",
    "    global force\n",
    "    force = api.get_force(force_widget.value)\n",
    "    area = getNameId(force.neighbourhoods)\n",
    "    area_widget.options = getNameId(force.neighbourhoods)\n",
    "    \n",
    "force_widget.observe(update_area_widget, 'value')\n",
    "\n",
    "def mapper(force_i, area_i):\n",
    "    ''' Generate map for selected area. Also set global boundary for use elsewhere. '''\n",
    "    global boundary\n",
    "    neighbourhood = force.get_neighbourhood( area_widget.value )\n",
    "    boundary = neighbourhood.boundary\n",
    "    m = createFoliumMap(boundary)\n",
    "    print(force_i, area_i)\n",
    "    return m\n",
    "    \n",
    "interact(mapper,force_i=force_widget, area_i=area_widget);"
   ]
  },
  {
   "cell_type": "code",
   "execution_count": 113,
   "metadata": {},
   "outputs": [],
   "source": [
    "crimes = api.get_crimes_area(neighbourhood.boundary, date='2019-01')\n"
   ]
  },
  {
   "cell_type": "code",
   "execution_count": 114,
   "metadata": {},
   "outputs": [
    {
     "data": {
      "text/plain": [
       "(1203149, '51.715803', '-1.243142', 'On or near River View')"
      ]
     },
     "execution_count": 114,
     "metadata": {},
     "output_type": "execute_result"
    }
   ],
   "source": [
    "crimes[0].location.id, crimes[0].location.latitude, crimes[0].location.longitude, crimes[0].location.name"
   ]
  },
  {
   "cell_type": "code",
   "execution_count": 115,
   "metadata": {},
   "outputs": [
    {
     "data": {
      "text/plain": [
       "('anti-social-behaviour', 'Anti-social behaviour')"
      ]
     },
     "execution_count": 115,
     "metadata": {},
     "output_type": "execute_result"
    }
   ],
   "source": [
    "\n",
    "#Upack category details\n",
    "crimes[0].category.id, crimes[0].category.name"
   ]
  },
  {
   "cell_type": "code",
   "execution_count": 116,
   "metadata": {},
   "outputs": [],
   "source": [
    "import pandas as pd\n",
    "\n",
    "\n",
    "def setCrimesAsDataFrame(crimes, df=None):\n",
    "    ''' Convert crimes result to dataframe. '''\n",
    "    if df is None:\n",
    "        df=pd.DataFrame(columns = ['cid','type', 'month','name','lid','location','lat','lon'])\n",
    "        #[int, object, object, int, object, float, float]\n",
    "    for c in crimes:\n",
    "        df = df.append({'cid':c.id,'type':c.category.id, 'month':c.month, 'name':c.category.name,\n",
    "                            'lat':c.location.latitude,'lon':c.location.longitude, \n",
    "                        'lid':c.location.id,'location':c.location.name }, ignore_index=True)\n",
    "\n",
    "    df['lat']=df['lat'].astype(float)\n",
    "    df['lon']=df['lon'].astype(float)\n",
    "    \n",
    "    return df"
   ]
  },
  {
   "cell_type": "code",
   "execution_count": 117,
   "metadata": {},
   "outputs": [
    {
     "data": {
      "text/html": [
       "<div>\n",
       "<style scoped>\n",
       "    .dataframe tbody tr th:only-of-type {\n",
       "        vertical-align: middle;\n",
       "    }\n",
       "\n",
       "    .dataframe tbody tr th {\n",
       "        vertical-align: top;\n",
       "    }\n",
       "\n",
       "    .dataframe thead th {\n",
       "        text-align: right;\n",
       "    }\n",
       "</style>\n",
       "<table border=\"1\" class=\"dataframe\">\n",
       "  <thead>\n",
       "    <tr style=\"text-align: right;\">\n",
       "      <th></th>\n",
       "      <th>cid</th>\n",
       "      <th>type</th>\n",
       "      <th>month</th>\n",
       "      <th>name</th>\n",
       "      <th>lid</th>\n",
       "      <th>location</th>\n",
       "      <th>lat</th>\n",
       "      <th>lon</th>\n",
       "    </tr>\n",
       "  </thead>\n",
       "  <tbody>\n",
       "    <tr>\n",
       "      <th>0</th>\n",
       "      <td>71357302</td>\n",
       "      <td>anti-social-behaviour</td>\n",
       "      <td>2019-01</td>\n",
       "      <td>Anti-social behaviour</td>\n",
       "      <td>1203149</td>\n",
       "      <td>On or near River View</td>\n",
       "      <td>51.715803</td>\n",
       "      <td>-1.243142</td>\n",
       "    </tr>\n",
       "    <tr>\n",
       "      <th>1</th>\n",
       "      <td>71357618</td>\n",
       "      <td>anti-social-behaviour</td>\n",
       "      <td>2019-01</td>\n",
       "      <td>Anti-social behaviour</td>\n",
       "      <td>1204410</td>\n",
       "      <td>On or near Kenilworth Road</td>\n",
       "      <td>51.731938</td>\n",
       "      <td>-1.331346</td>\n",
       "    </tr>\n",
       "    <tr>\n",
       "      <th>2</th>\n",
       "      <td>71356895</td>\n",
       "      <td>anti-social-behaviour</td>\n",
       "      <td>2019-01</td>\n",
       "      <td>Anti-social behaviour</td>\n",
       "      <td>1200398</td>\n",
       "      <td>On or near Park/open Space</td>\n",
       "      <td>51.646745</td>\n",
       "      <td>-1.294400</td>\n",
       "    </tr>\n",
       "    <tr>\n",
       "      <th>3</th>\n",
       "      <td>71357059</td>\n",
       "      <td>anti-social-behaviour</td>\n",
       "      <td>2019-01</td>\n",
       "      <td>Anti-social behaviour</td>\n",
       "      <td>1204543</td>\n",
       "      <td>On or near Stone Close</td>\n",
       "      <td>51.752021</td>\n",
       "      <td>-1.310551</td>\n",
       "    </tr>\n",
       "    <tr>\n",
       "      <th>4</th>\n",
       "      <td>71358166</td>\n",
       "      <td>anti-social-behaviour</td>\n",
       "      <td>2019-01</td>\n",
       "      <td>Anti-social behaviour</td>\n",
       "      <td>1200222</td>\n",
       "      <td>On or near Tyrrell's Way</td>\n",
       "      <td>51.630797</td>\n",
       "      <td>-1.286022</td>\n",
       "    </tr>\n",
       "  </tbody>\n",
       "</table>\n",
       "</div>"
      ],
      "text/plain": [
       "        cid                   type    month                   name      lid  \\\n",
       "0  71357302  anti-social-behaviour  2019-01  Anti-social behaviour  1203149   \n",
       "1  71357618  anti-social-behaviour  2019-01  Anti-social behaviour  1204410   \n",
       "2  71356895  anti-social-behaviour  2019-01  Anti-social behaviour  1200398   \n",
       "3  71357059  anti-social-behaviour  2019-01  Anti-social behaviour  1204543   \n",
       "4  71358166  anti-social-behaviour  2019-01  Anti-social behaviour  1200222   \n",
       "\n",
       "                     location        lat       lon  \n",
       "0       On or near River View  51.715803 -1.243142  \n",
       "1  On or near Kenilworth Road  51.731938 -1.331346  \n",
       "2  On or near Park/open Space  51.646745 -1.294400  \n",
       "3      On or near Stone Close  51.752021 -1.310551  \n",
       "4    On or near Tyrrell's Way  51.630797 -1.286022  "
      ]
     },
     "execution_count": 117,
     "metadata": {},
     "output_type": "execute_result"
    }
   ],
   "source": [
    "df = setCrimesAsDataFrame(crimes)\n",
    "df.head()"
   ]
  },
  {
   "cell_type": "code",
   "execution_count": 118,
   "metadata": {},
   "outputs": [
    {
     "data": {
      "text/plain": [
       "[[51.630797, -1.286022, 3.0],\n",
       " [51.631053, -1.283692, 1.0],\n",
       " [51.63512, -1.276808, 1.0]]"
      ]
     },
     "execution_count": 118,
     "metadata": {},
     "output_type": "execute_result"
    }
   ],
   "source": [
    "#Recall that the Heatmap plugin expects data in the form [[Latitude, Longitude, count], ...]\n",
    "\n",
    "data = df.groupby(['lat','lon']).size().reset_index().values.tolist()\n",
    "data[:3]"
   ]
  },
  {
   "cell_type": "code",
   "execution_count": 119,
   "metadata": {},
   "outputs": [
    {
     "data": {
      "text/html": [
       "<div style=\"width:100%;\"><div style=\"position:relative;width:100%;height:0;padding-bottom:60%;\"><span style=\"color:#565656\">Make this Notebook Trusted to load map: File -> Trust Notebook</span><iframe src=\"about:blank\" style=\"position:absolute;width:100%;height:100%;left:0;top:0;border:none !important;\" data-html=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 onload=\"this.contentDocument.open();this.contentDocument.write(atob(this.getAttribute('data-html')));this.contentDocument.close();\" allowfullscreen webkitallowfullscreen mozallowfullscreen></iframe></div></div>"
      ],
      "text/plain": [
       "<folium.folium.Map at 0x7fddfffc0f70>"
      ]
     },
     "execution_count": 119,
     "metadata": {},
     "output_type": "execute_result"
    }
   ],
   "source": [
    "from folium.plugins import HeatMap\n",
    "\n",
    "m = folium.Map(data[0][:2], zoom_start=12)\n",
    "\n",
    "\n",
    "HeatMap(data).add_to(m)\n",
    "\n",
    "m"
   ]
  },
  {
   "cell_type": "code",
   "execution_count": 120,
   "metadata": {},
   "outputs": [
    {
     "data": {
      "text/plain": [
       "{'Anti-social behaviour': 'anti-social-behaviour',\n",
       " 'Bicycle theft': 'bicycle-theft',\n",
       " 'Burglary': 'burglary',\n",
       " 'Criminal damage and arson': 'criminal-damage-arson',\n",
       " 'Other theft': 'other-theft',\n",
       " 'Public order': 'public-order',\n",
       " 'Shoplifting': 'shoplifting',\n",
       " 'Vehicle crime': 'vehicle-crime',\n",
       " 'Violence and sexual offences': 'violent-crime',\n",
       " 'Other crime': 'other-crime'}"
      ]
     },
     "execution_count": 120,
     "metadata": {},
     "output_type": "execute_result"
    }
   ],
   "source": [
    "crime_types = df[['name','type']].drop_duplicates().set_index('name')['type'].to_dict()\n",
    "crime_types\n"
   ]
  },
  {
   "cell_type": "code",
   "execution_count": 121,
   "metadata": {},
   "outputs": [
    {
     "data": {
      "application/vnd.jupyter.widget-view+json": {
       "model_id": "182a92ae4021482fb4a3d7425b5437b5",
       "version_major": 2,
       "version_minor": 0
      },
      "text/plain": [
       "interactive(children=(Select(description='Police Force:', options={'Avon and Somerset Constabulary': 'avon-and…"
      ]
     },
     "metadata": {},
     "output_type": "display_data"
    }
   ],
   "source": [
    "crime_widget = widgets.Select(options=crime_types,\n",
    "                              description='Crime:',\n",
    "                              disabled=False )\n",
    "\n",
    "\n",
    "def crime_heatmap(force_i, area_i, crime_i):\n",
    "    ''' Create a heatmap. '''\n",
    "    m = mapper(force_i, area_i)\n",
    "    \n",
    "    crimes = api.get_crimes_area(boundary, date='2019-01')\n",
    "    df = setCrimesAsDataFrame(crimes)\n",
    "    df = df[df['type']==crime_i]\n",
    "    data = df.groupby(['lat','lon']).size().reset_index().values.tolist()\n",
    "\n",
    "    HeatMap(data).add_to(m)\n",
    "    \n",
    "    return m\n",
    "\n",
    "\n",
    "\n",
    "interact(crime_heatmap,force_i=force_widget, area_i=area_widget, crime_i=crime_widget);\n",
    "\n",
    "#Avon and Somerset, Aldershot South works.."
   ]
  },
  {
   "cell_type": "code",
   "execution_count": 122,
   "metadata": {},
   "outputs": [
    {
     "data": {
      "text/plain": [
       "['2018-12',\n",
       " '2018-11',\n",
       " '2018-10',\n",
       " '2018-09',\n",
       " '2018-08',\n",
       " '2018-07',\n",
       " '2018-06',\n",
       " '2018-05',\n",
       " '2018-04',\n",
       " '2018-03',\n",
       " '2018-02',\n",
       " '2018-01']"
      ]
     },
     "execution_count": 122,
     "metadata": {},
     "output_type": "execute_result"
    }
   ],
   "source": [
    "dates_2018 = [d for d in api.get_dates() if '2018' in d]\n",
    "dates_2018"
   ]
  },
  {
   "cell_type": "code",
   "execution_count": 124,
   "metadata": {},
   "outputs": [
    {
     "data": {
      "text/html": [
       "<div>\n",
       "<style scoped>\n",
       "    .dataframe tbody tr th:only-of-type {\n",
       "        vertical-align: middle;\n",
       "    }\n",
       "\n",
       "    .dataframe tbody tr th {\n",
       "        vertical-align: top;\n",
       "    }\n",
       "\n",
       "    .dataframe thead th {\n",
       "        text-align: right;\n",
       "    }\n",
       "</style>\n",
       "<table border=\"1\" class=\"dataframe\">\n",
       "  <thead>\n",
       "    <tr style=\"text-align: right;\">\n",
       "      <th></th>\n",
       "      <th>cid</th>\n",
       "      <th>type</th>\n",
       "      <th>month</th>\n",
       "      <th>name</th>\n",
       "      <th>lid</th>\n",
       "      <th>location</th>\n",
       "      <th>lat</th>\n",
       "      <th>lon</th>\n",
       "    </tr>\n",
       "  </thead>\n",
       "  <tbody>\n",
       "    <tr>\n",
       "      <th>0</th>\n",
       "      <td>70604614</td>\n",
       "      <td>anti-social-behaviour</td>\n",
       "      <td>2018-12</td>\n",
       "      <td>Anti-social behaviour</td>\n",
       "      <td>1203344</td>\n",
       "      <td>On or near White Barn</td>\n",
       "      <td>51.722011</td>\n",
       "      <td>-1.308054</td>\n",
       "    </tr>\n",
       "    <tr>\n",
       "      <th>1</th>\n",
       "      <td>70604575</td>\n",
       "      <td>anti-social-behaviour</td>\n",
       "      <td>2018-12</td>\n",
       "      <td>Anti-social behaviour</td>\n",
       "      <td>1200224</td>\n",
       "      <td>On or near Barrett's Way</td>\n",
       "      <td>51.631053</td>\n",
       "      <td>-1.283692</td>\n",
       "    </tr>\n",
       "    <tr>\n",
       "      <th>2</th>\n",
       "      <td>70605679</td>\n",
       "      <td>anti-social-behaviour</td>\n",
       "      <td>2018-12</td>\n",
       "      <td>Anti-social behaviour</td>\n",
       "      <td>1184472</td>\n",
       "      <td>On or near Harwell Road</td>\n",
       "      <td>51.631466</td>\n",
       "      <td>-1.279221</td>\n",
       "    </tr>\n",
       "    <tr>\n",
       "      <th>3</th>\n",
       "      <td>70605476</td>\n",
       "      <td>anti-social-behaviour</td>\n",
       "      <td>2018-12</td>\n",
       "      <td>Anti-social behaviour</td>\n",
       "      <td>1204586</td>\n",
       "      <td>On or near West Way</td>\n",
       "      <td>51.753314</td>\n",
       "      <td>-1.292089</td>\n",
       "    </tr>\n",
       "    <tr>\n",
       "      <th>4</th>\n",
       "      <td>70605363</td>\n",
       "      <td>anti-social-behaviour</td>\n",
       "      <td>2018-12</td>\n",
       "      <td>Anti-social behaviour</td>\n",
       "      <td>1200367</td>\n",
       "      <td>On or near Manor Close</td>\n",
       "      <td>51.645903</td>\n",
       "      <td>-1.313303</td>\n",
       "    </tr>\n",
       "  </tbody>\n",
       "</table>\n",
       "</div>"
      ],
      "text/plain": [
       "        cid                   type    month                   name      lid  \\\n",
       "0  70604614  anti-social-behaviour  2018-12  Anti-social behaviour  1203344   \n",
       "1  70604575  anti-social-behaviour  2018-12  Anti-social behaviour  1200224   \n",
       "2  70605679  anti-social-behaviour  2018-12  Anti-social behaviour  1184472   \n",
       "3  70605476  anti-social-behaviour  2018-12  Anti-social behaviour  1204586   \n",
       "4  70605363  anti-social-behaviour  2018-12  Anti-social behaviour  1200367   \n",
       "\n",
       "                   location        lat       lon  \n",
       "0     On or near White Barn  51.722011 -1.308054  \n",
       "1  On or near Barrett's Way  51.631053 -1.283692  \n",
       "2   On or near Harwell Road  51.631466 -1.279221  \n",
       "3       On or near West Way  51.753314 -1.292089  \n",
       "4    On or near Manor Close  51.645903 -1.313303  "
      ]
     },
     "execution_count": 124,
     "metadata": {},
     "output_type": "execute_result"
    }
   ],
   "source": [
    "crimes_2018= pd.DataFrame()\n",
    "\n",
    "for d in dates_2018:\n",
    "    tmp = api.get_crimes_area(boundary, date=d)\n",
    "    crimes_2018 = pd.concat([crimes_2018, setCrimesAsDataFrame(tmp)])\n",
    "    \n",
    "crimes_2018.head()"
   ]
  },
  {
   "cell_type": "code",
   "execution_count": 125,
   "metadata": {},
   "outputs": [],
   "source": [
    "overall_data = []\n",
    "\n",
    "for d in dates_2018:\n",
    "    tmp_crimes = api.get_crimes_area(boundary, date=d)\n",
    "    df = setCrimesAsDataFrame(tmp_crimes)\n",
    "    period_data = df.groupby(['lat','lon']).size().reset_index().values.tolist()\n",
    "    overall_data.append(period_data)"
   ]
  },
  {
   "cell_type": "code",
   "execution_count": 151,
   "metadata": {},
   "outputs": [
    {
     "data": {
      "text/html": [
       "<div style=\"width:100%;\"><div style=\"position:relative;width:100%;height:0;padding-bottom:60%;\"><span style=\"color:#565656\">Make this Notebook Trusted to load map: File -> Trust Notebook</span><iframe src=\"about:blank\" style=\"position:absolute;width:100%;height:100%;left:0;top:0;border:none !important;\" data-html=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 onload=\"this.contentDocument.open();this.contentDocument.write(atob(this.getAttribute('data-html')));this.contentDocument.close();\" allowfullscreen webkitallowfullscreen mozallowfullscreen></iframe></div></div>"
      ],
      "text/plain": [
       "<folium.folium.Map at 0x7fde00f50b20>"
      ]
     },
     "execution_count": 151,
     "metadata": {},
     "output_type": "execute_result"
    }
   ],
   "source": [
    "from folium.plugins import HeatMapWithTime\n",
    "\n",
    "m = folium.Map(overall_data[0][0][:2], tiles='stamentoner', zoom_start=13)\n",
    "\n",
    "HeatMapWithTime(overall_data).add_to(m)\n",
    "\n",
    "m"
   ]
  },
  {
   "cell_type": "code",
   "execution_count": 127,
   "metadata": {},
   "outputs": [
    {
     "data": {
      "text/html": [
       "<div>\n",
       "<style scoped>\n",
       "    .dataframe tbody tr th:only-of-type {\n",
       "        vertical-align: middle;\n",
       "    }\n",
       "\n",
       "    .dataframe tbody tr th {\n",
       "        vertical-align: top;\n",
       "    }\n",
       "\n",
       "    .dataframe thead th {\n",
       "        text-align: right;\n",
       "    }\n",
       "</style>\n",
       "<table border=\"1\" class=\"dataframe\">\n",
       "  <thead>\n",
       "    <tr style=\"text-align: right;\">\n",
       "      <th></th>\n",
       "      <th>lat</th>\n",
       "      <th>lon</th>\n",
       "      <th>Count</th>\n",
       "    </tr>\n",
       "  </thead>\n",
       "  <tbody>\n",
       "    <tr>\n",
       "      <th>0</th>\n",
       "      <td>51.630797</td>\n",
       "      <td>-1.286022</td>\n",
       "      <td>1</td>\n",
       "    </tr>\n",
       "    <tr>\n",
       "      <th>1</th>\n",
       "      <td>51.750255</td>\n",
       "      <td>-1.297888</td>\n",
       "      <td>1</td>\n",
       "    </tr>\n",
       "    <tr>\n",
       "      <th>2</th>\n",
       "      <td>51.775622</td>\n",
       "      <td>-1.313453</td>\n",
       "      <td>1</td>\n",
       "    </tr>\n",
       "  </tbody>\n",
       "</table>\n",
       "</div>"
      ],
      "text/plain": [
       "         lat       lon  Count\n",
       "0  51.630797 -1.286022      1\n",
       "1  51.750255 -1.297888      1\n",
       "2  51.775622 -1.313453      1"
      ]
     },
     "execution_count": 127,
     "metadata": {},
     "output_type": "execute_result"
    }
   ],
   "source": [
    "#For a particular crime type, get the count of crimes by location\n",
    "crimes = setCrimesAsDataFrame( api.get_crimes_area(boundary, date='2019-01') )\n",
    "public_order_crime = crimes[crimes['type']=='public-order']\n",
    "public_order_crime_count_by_location = public_order_crime.groupby(['lat','lon']).size().to_frame('Count').reset_index()\n",
    "public_order_crime_count_by_location.head()"
   ]
  },
  {
   "cell_type": "code",
   "execution_count": 130,
   "metadata": {},
   "outputs": [],
   "source": [
    "#For convenience, let's go back to using the df name...\n",
    "df = public_order_crime_count_by_location.reset_index()"
   ]
  },
  {
   "cell_type": "code",
   "execution_count": 131,
   "metadata": {},
   "outputs": [
    {
     "data": {
      "text/html": [
       "<div>\n",
       "<style scoped>\n",
       "    .dataframe tbody tr th:only-of-type {\n",
       "        vertical-align: middle;\n",
       "    }\n",
       "\n",
       "    .dataframe tbody tr th {\n",
       "        vertical-align: top;\n",
       "    }\n",
       "\n",
       "    .dataframe thead th {\n",
       "        text-align: right;\n",
       "    }\n",
       "</style>\n",
       "<table border=\"1\" class=\"dataframe\">\n",
       "  <thead>\n",
       "    <tr style=\"text-align: right;\">\n",
       "      <th></th>\n",
       "      <th>index</th>\n",
       "      <th>lat</th>\n",
       "      <th>lon</th>\n",
       "      <th>Count</th>\n",
       "      <th>Coordinates</th>\n",
       "      <th>RCoordinates</th>\n",
       "    </tr>\n",
       "  </thead>\n",
       "  <tbody>\n",
       "    <tr>\n",
       "      <th>0</th>\n",
       "      <td>a_0</td>\n",
       "      <td>51.630797</td>\n",
       "      <td>-1.286022</td>\n",
       "      <td>1</td>\n",
       "      <td>POINT (-1.28602 51.63080)</td>\n",
       "      <td>POINT (51.630797 -1.286022)</td>\n",
       "    </tr>\n",
       "    <tr>\n",
       "      <th>1</th>\n",
       "      <td>a_1</td>\n",
       "      <td>51.750255</td>\n",
       "      <td>-1.297888</td>\n",
       "      <td>1</td>\n",
       "      <td>POINT (-1.29789 51.75026)</td>\n",
       "      <td>POINT (51.750255 -1.297888)</td>\n",
       "    </tr>\n",
       "    <tr>\n",
       "      <th>2</th>\n",
       "      <td>a_2</td>\n",
       "      <td>51.775622</td>\n",
       "      <td>-1.313453</td>\n",
       "      <td>1</td>\n",
       "      <td>POINT (-1.31345 51.77562)</td>\n",
       "      <td>POINT (51.775622 -1.313453)</td>\n",
       "    </tr>\n",
       "  </tbody>\n",
       "</table>\n",
       "</div>"
      ],
      "text/plain": [
       "  index        lat       lon  Count                Coordinates  \\\n",
       "0   a_0  51.630797 -1.286022      1  POINT (-1.28602 51.63080)   \n",
       "1   a_1  51.750255 -1.297888      1  POINT (-1.29789 51.75026)   \n",
       "2   a_2  51.775622 -1.313453      1  POINT (-1.31345 51.77562)   \n",
       "\n",
       "                  RCoordinates  \n",
       "0  POINT (51.630797 -1.286022)  \n",
       "1  POINT (51.750255 -1.297888)  \n",
       "2  POINT (51.775622 -1.313453)  "
      ]
     },
     "execution_count": 131,
     "metadata": {},
     "output_type": "execute_result"
    }
   ],
   "source": [
    "#https://geopandas.readthedocs.io/en/latest/gallery/create_geopandas_from_pandas.html\n",
    "import geopandas\n",
    "from shapely.geometry import Point\n",
    "\n",
    "df['Coordinates'] = list(zip(df['lon'], df['lat']))\n",
    "df['Coordinates'] = df['Coordinates'].apply(Point)\n",
    "\n",
    "df['RCoordinates'] = list(zip(df['lat'], df['lon']))\n",
    "df['RCoordinates'] = df['RCoordinates'].apply(Point)\n",
    "gdf = geopandas.GeoDataFrame(df, geometry='Coordinates')\n",
    "\n",
    "#Avoid ambiguity about whether index is int or string\n",
    "gdf['index'] = gdf['index'].apply(lambda x: 'a_{}'.format(x))\n",
    "\n",
    "gdf.head()"
   ]
  },
  {
   "cell_type": "code",
   "execution_count": 132,
   "metadata": {},
   "outputs": [
    {
     "name": "stderr",
     "output_type": "stream",
     "text": [
      "/Users/mavrioz/opt/anaconda3/lib/python3.8/site-packages/pyproj/crs/crs.py:53: FutureWarning: '+init=<authority>:<code>' syntax is deprecated. '<authority>:<code>' is the preferred initialization method. When making the change, be mindful of axis order changes: https://pyproj4.github.io/pyproj/stable/gotchas.html#axis-order-changes-in-proj-6\n",
      "  return _prepare_from_string(\" \".join(pjargs))\n"
     ]
    },
    {
     "data": {
      "text/plain": [
       "<Geographic 2D CRS: +init=epsg:4326  +type=crs>\n",
       "Name: WGS 84\n",
       "Axis Info [ellipsoidal]:\n",
       "- lon[east]: Longitude (degree)\n",
       "- lat[north]: Latitude (degree)\n",
       "Area of Use:\n",
       "- name: World\n",
       "- bounds: (-180.0, -90.0, 180.0, 90.0)\n",
       "Datum: World Geodetic System 1984\n",
       "- Ellipsoid: WGS 84\n",
       "- Prime Meridian: Greenwich"
      ]
     },
     "execution_count": 132,
     "metadata": {},
     "output_type": "execute_result"
    }
   ],
   "source": [
    "gdf.crs = {'init' :'epsg:4326 '}\n",
    "gdf.crs"
   ]
  },
  {
   "cell_type": "code",
   "execution_count": 133,
   "metadata": {},
   "outputs": [
    {
     "data": {
      "text/plain": [
       "[(51.71444649741, -1.2352394640321), (51.713839174699, -1.2353148374778)]"
      ]
     },
     "execution_count": 133,
     "metadata": {},
     "output_type": "execute_result"
    }
   ],
   "source": [
    "#Check how the boundary co-ordinates are presented\n",
    "boundary[:2]\n",
    "#Looks like: lat, lon"
   ]
  },
  {
   "cell_type": "code",
   "execution_count": 138,
   "metadata": {},
   "outputs": [],
   "source": [
    "#https://github.com/WZBSocialScienceCenter/geovoronoi/blob/master/examples/using_geopandas.py\n",
    "\n",
    "from geovoronoi.plotting import subplot_for_map, plot_voronoi_polys_with_points_in_area\n",
    "from geovoronoi import voronoi_regions_from_coords, points_to_coords\n",
    "\n",
    "\n",
    "# convert the pandas Series of Point objects to NumPy array of coordinates\n",
    "coords = points_to_coords(gdf.Coordinates)\n",
    "Rcoords = points_to_coords(gdf.RCoordinates)\n",
    "\n",
    "# Calculate the Voronoi regions for the identifed points and then \n",
    "# clip within the geographic area shape\n",
    "poly_shapes, pts, poly_to_pt_assignments = voronoi_regions_from_coords(coords, boundary_shape)"
   ]
  },
  {
   "cell_type": "code",
   "execution_count": 139,
   "metadata": {},
   "outputs": [
    {
     "data": {
      "image/svg+xml": [
       "<svg xmlns=\"http://www.w3.org/2000/svg\" xmlns:xlink=\"http://www.w3.org/1999/xlink\" width=\"100.0\" height=\"100.0\" viewBox=\"-1.412855130204468 51.60965734836243 0.20117815170033615 0.1879300357311351\" preserveAspectRatio=\"xMinYMin meet\"><g transform=\"matrix(1,0,0,-1,0,103.40724473245601)\"><path fill-rule=\"evenodd\" fill=\"#66cc99\" stroke=\"#555555\" stroke-width=\"0.004023563034006723\" opacity=\"0.6\" d=\"M -1.2352394640321,51.71444649741 L -1.2353148374778,51.713839174699 L -1.2352953486586,51.713793192201 L -1.2350382503666,51.713760948951 L -1.2350500361471,51.71331955192 L -1.2349321143801,51.713016676189 L -1.2346844044673,51.712771398982 L -1.2340551349856,51.712322230086 L -1.2338856182895,51.712161079903 L -1.2336138282407,51.711799655391 L -1.2340920531593,51.711678692049 L -1.2343699005072,51.711681401195 L -1.2352443662473,51.711580096823 L -1.2353070200826,51.711555328721 L -1.235356399022,51.711459442797 L -1.2352849413573,51.71114787823 L -1.2349055633965,51.710729111362 L -1.2346031495927,51.710295559137 L -1.2344659980804,51.709760581382 L -1.2344810067931,51.709385740894 L -1.2347060009472,51.708831542042 L -1.2347833538071,51.70844991428 L -1.2347965133365,51.70784128714 L -1.2347117748562,51.707631237554 L -1.23447676994,51.707406722383 L -1.2341718891664,51.707292344832 L -1.2329636305806,51.707453503593 L -1.2328753263028,51.706941320721 L -1.2328735115156,51.706449483146 L -1.2329972234121,51.705209486793 L -1.23317968996,51.704688280898 L -1.2332258112039,51.704356801594 L -1.2332104833639,51.70423621774 L -1.233077325488,51.704066311939 L -1.232657510256,51.704075260772 L -1.2322586177267,51.703873947549 L -1.2312621560209,51.703667827162 L -1.2310812581414,51.703497606824 L -1.2305653666724,51.7027722266 L -1.2303100337496,51.702298509683 L -1.2303349681782,51.702193474308 L -1.2302432568005,51.701884470844 L -1.2303080634506,51.701817460202 L -1.2300869600237,51.701373638265 L -1.2301391429078,51.701197749818 L -1.230251420705,51.70114723453 L -1.2302963514277,51.701057615374 L -1.230268954342,51.700966623432 L -1.2302946047628,51.700819333436 L -1.2302381658984,51.700649027506 L -1.2300868764719,51.700440336651 L -1.2300024173564,51.700215899004 L -1.2299955362915,51.700109756102 L -1.2300700283513,51.699983466175 L -1.2300628158771,51.699726266567 L -1.2301470535469,51.699622518778 L -1.2308526446349,51.699312441217 L -1.2305120459483,51.698662835237 L -1.2296787628267,51.697630565449 L -1.2289699198928,51.696600005011 L -1.2287092190009,51.696360023816 L -1.2284338500372,51.696217052292 L -1.228271178049,51.69599839368 L -1.227717636207,51.695452579482 L -1.2272431929182,51.695190510204 L -1.2267803142236,51.694759477675 L -1.2262428439974,51.694461024231 L -1.2261770278306,51.694332913729 L -1.2259226220027,51.694149613155 L -1.2257761737511,51.693913974245 L -1.2256358152409,51.693575873839 L -1.2254367399959,51.693372256598 L -1.2243314171667,51.692778730691 L -1.2240439075748,51.692501697383 L -1.2235738193951,51.691818846302 L -1.2232984158801,51.691511320459 L -1.2229573673614,51.690813135003 L -1.2228470775832,51.6904950108 L -1.2227248492581,51.689860311652 L -1.2224245096818,51.688982566401 L -1.2221190089978,51.688237858235 L -1.222092459652,51.687676621439 L -1.2221130836993,51.687401622215 L -1.2222119561725,51.686865492144 L -1.2222785084604,51.686695995778 L -1.2222655844039,51.6866059966 L -1.2224133530295,51.686086374326 L -1.2223628393969,51.685910708456 L -1.222227914344,51.685680535752 L -1.2218319563743,51.685320058211 L -1.2219141249008,51.685167749008 L -1.2217541870782,51.684878067085 L -1.2218086012281,51.684572720888 L -1.2219882901385,51.684300572984 L -1.2227283330587,51.683488154398 L -1.2228546686716,51.683290280629 L -1.2229865116862,51.683193146478 L -1.2230045283095,51.683070083827 L -1.2231091058418,51.682875662466 L -1.2236207261729,51.682392610367 L -1.2237894608191,51.682337079331 L -1.2239569003374,51.682188029242 L -1.2242733334361,51.682038164214 L -1.2246428083597,51.681746584634 L -1.2248355696486,51.681300085947 L -1.2249218635072,51.680905034738 L -1.2250746240424,51.680598537204 L -1.2250651602434,51.680559811895 L -1.2251384215354,51.680504548456 L -1.22545910692,51.679934811128 L -1.2255894423989,51.679840361515 L -1.2255862076028,51.679775602306 L -1.2257571009687,51.679507886246 L -1.2260636498447,51.679172728953 L -1.2262981952134,51.67864917708 L -1.2264345821402,51.678114188954 L -1.2266369592463,51.677525686665 L -1.2266498400471,51.676854115546 L -1.2266174535729,51.676632714511 L -1.2268056744739,51.676110654846 L -1.22701796208,51.675873779877 L -1.2272173177871,51.675716842756 L -1.2277853036716,51.675398685142 L -1.2279622097525,51.675371075095 L -1.228452533936,51.675197165222 L -1.2285854579205,51.675289749945 L -1.2290128139676,51.675332116606 L -1.2293229712621,51.675207372646 L -1.2295886785238,51.675145276118 L -1.2297974910226,51.674941641454 L -1.2303460242285,51.674831044846 L -1.2303617498474,51.67467110129 L -1.2305636173282,51.67427949994 L -1.2305293555408,51.674167782488 L -1.2303662486492,51.673978794506 L -1.2304307720756,51.673840749818 L -1.2305560757106,51.673273315071 L -1.2307339621118,51.673016427056 L -1.2310917540702,51.672724750548 L -1.2317654271971,51.672395576383 L -1.2320298359175,51.672323575342 L -1.2323970396771,51.672158734856 L -1.2325202635545,51.672140657811 L -1.2327494625665,51.672012678619 L -1.2337160696504,51.671633255531 L -1.2342052582587,51.671351417691 L -1.2344250155736,51.671268330616 L -1.2345406734323,51.671269983206 L -1.2346157024239,51.671194045169 L -1.2350102085176,51.671038365736 L -1.2360479369366,51.670726821841 L -1.2363480884976,51.670592103787 L -1.2374608805916,51.670201011915 L -1.2381065133679,51.670073026453 L -1.2386790358151,51.669906799993 L -1.2396060469694,51.669727579813 L -1.2398002592503,51.669700963105 L -1.2400412674804,51.669729496159 L -1.2401183494501,51.669703020495 L -1.2401325200317,51.669633878486 L -1.2401896153216,51.669591988181 L -1.2405227044288,51.669561772483 L -1.2407371990575,51.669446270631 L -1.2409600862907,51.669434223496 L -1.241307012162,51.669354642353 L -1.242193715437,51.668989919057 L -1.2425003333326,51.668725751106 L -1.242698960252,51.668433912285 L -1.2428625106841,51.668337859268 L -1.2451204291147,51.667770643572 L -1.2463632587859,51.667289489855 L -1.2468978427098,51.667140063711 L -1.2480284296229,51.667060986933 L -1.2500107898333,51.666624086989 L -1.2503887884013,51.666586936885 L -1.2515617514491,51.666567439575 L -1.2530169583362,51.666706175121 L -1.2534894291847,51.666815275919 L -1.2540162375324,51.666873468913 L -1.2549444595896,51.667053790733 L -1.2560133871825,51.667207122865 L -1.2577316394826,51.667266542647 L -1.2585077449535,51.667377540795 L -1.2589778609137,51.667632264894 L -1.2593453193309,51.668064369324 L -1.2593837506374,51.668190490805 L -1.2596103649929,51.66848144113 L -1.2596589621788,51.668604929149 L -1.2599665877771,51.668982706311 L -1.2603259066805,51.669294271866 L -1.260531406042,51.669372891022 L -1.2609680980389,51.669461955403 L -1.2617272350971,51.669463130671 L -1.2620010148115,51.669611409769 L -1.2623131349722,51.669892102075 L -1.262587809299,51.669985538036 L -1.2622668821685,51.67185894363 L -1.2596646985995,51.671669404795 L -1.2589709487935,51.6716822056 L -1.2582323482358,51.671643198654 L -1.2582904192181,51.671806398918 L -1.2586426469962,51.672464541986 L -1.2589234066569,51.672797105344 L -1.2580155329811,51.673018498481 L -1.2581062132628,51.673310211514 L -1.2586543069107,51.674319894383 L -1.2587175780861,51.674687590819 L -1.2586840150551,51.674714892679 L -1.2586934320912,51.674811339525 L -1.258640526575,51.675004769704 L -1.2586982558904,51.675304456426 L -1.2586301038493,51.675413001839 L -1.2588193449635,51.675691848881 L -1.258467520049,51.676079315101 L -1.2582587253635,51.676457702705 L -1.2576065896968,51.678627336446 L -1.2570990958548,51.679970495591 L -1.2565502692814,51.681239032323 L -1.2556701113868,51.682944156489 L -1.255660984491,51.683103875056 L -1.2557588781019,51.683547049478 L -1.2559849162179,51.683982313488 L -1.2565468825887,51.684520585528 L -1.2574771337378,51.685227522175 L -1.2595490422113,51.686483108595 L -1.2602881149254,51.68688095422 L -1.261539011383,51.687473797577 L -1.2624615087454,51.687882852046 L -1.2636496960531,51.688340768668 L -1.2646658701762,51.688675674499 L -1.2670732073201,51.689356070708 L -1.2689363908514,51.689793234893 L -1.2708048860745,51.69018112984 L -1.2710676959973,51.690283373138 L -1.2721716870653,51.690840754376 L -1.2728311479235,51.691117093895 L -1.2734544256464,51.691331615379 L -1.2741283016761,51.691503557375 L -1.274959789993,51.691662711134 L -1.2761886219926,51.69177224682 L -1.2773641153389,51.691761137694 L -1.2782505017919,51.691671365942 L -1.2795552343575,51.691401808391 L -1.2808200468326,51.69097545304 L -1.281896930475,51.690465575444 L -1.2826538376259,51.68999833249 L -1.283523999756,51.689274533102 L -1.2840893443696,51.688632490322 L -1.2842623369312,51.688386192356 L -1.2845299636723,51.687890241435 L -1.2850118452909,51.686759006958 L -1.2852515368951,51.686391640282 L -1.2854724268907,51.686134122841 L -1.2863336622082,51.68540925912 L -1.2867505639952,51.685104376116 L -1.2874606584411,51.684744624116 L -1.2885988408175,51.684240990957 L -1.2891735768461,51.684043781808 L -1.2904314372392,51.683793421369 L -1.2910277438669,51.683631219785 L -1.2912348023111,51.683960382732 L -1.2914894380594,51.684670615198 L -1.2917831931773,51.685330911097 L -1.2922105710104,51.685966295738 L -1.2934413272542,51.684383044265 L -1.2947692965081,51.682327688431 L -1.2958350437643,51.680880089404 L -1.2964956959956,51.680229746132 L -1.2970593500229,51.679780494758 L -1.2977398254006,51.679305144597 L -1.2989533031765,51.678573391123 L -1.298999011284,51.678601177277 L -1.300251413817,51.67800640088 L -1.3004284099703,51.677773499891 L -1.302215733843,51.677292119425 L -1.302554344287,51.677119877219 L -1.3037927624471,51.676620288345 L -1.3044377413776,51.676301947685 L -1.3056961042986,51.675563826568 L -1.3063700396372,51.675052062744 L -1.3070815640702,51.674397824046 L -1.3074062321429,51.674018145239 L -1.3079017026796,51.673286021752 L -1.3081416008786,51.672850185175 L -1.3085188287675,51.671847262727 L -1.3095097163182,51.669732928947 L -1.3096867699969,51.669253021784 L -1.3102341598028,51.66817151935 L -1.3105642698315,51.667790604723 L -1.3107761349928,51.667302268331 L -1.3115445875085,51.666228080107 L -1.3128068109156,51.663927207238 L -1.3131706187246,51.663073356892 L -1.3120014553914,51.663384631709 L -1.3109548355055,51.66316495445 L -1.3102803235031,51.662824810362 L -1.3084676476408,51.663067623287 L -1.3082705189383,51.663119422144 L -1.3079777841695,51.663097737736 L -1.3075638423805,51.662927430531 L -1.3072965276342,51.662917043498 L -1.307349860479,51.662842280008 L -1.3078787144789,51.662615666844 L -1.308012794222,51.662517101945 L -1.3080999043386,51.662398299516 L -1.308705424964,51.66226348627 L -1.3088459251647,51.662208386472 L -1.3090401030583,51.662046065457 L -1.3090025367061,51.661930395461 L -1.3085020875374,51.661364772015 L -1.3086058971083,51.661231411542 L -1.3089177960336,51.661113930903 L -1.30890002189,51.661037309861 L -1.3080262484928,51.659981166949 L -1.3078886079645,51.659744422873 L -1.3077496782522,51.65911780535 L -1.3077710450769,51.658493210987 L -1.3056645334716,51.658666274342 L -1.3032100970812,51.658806846458 L -1.3026175256297,51.658712068645 L -1.3031466318078,51.657713029505 L -1.3030455672797,51.657666843841 L -1.3023859281321,51.657553594326 L -1.3021914063974,51.657738021206 L -1.3006224100476,51.6575814143 L -1.2975546063545,51.657695647423 L -1.2932962438655,51.657023363388 L -1.2932499608133,51.656959785718 L -1.2942675540564,51.656650754212 L -1.2953349868638,51.656137818633 L -1.2955300155147,51.656071283011 L -1.2955792607149,51.655887884407 L -1.2959665287599,51.655141313588 L -1.2959577186108,51.655094145975 L -1.2961004335448,51.654736874398 L -1.2965459368796,51.654392025614 L -1.296664853206,51.654348589821 L -1.2968280303667,51.653695893149 L -1.2967770663732,51.653626444426 L -1.2966829870721,51.653587578045 L -1.2932996170364,51.653179928455 L -1.2925603294154,51.653100401554 L -1.2923165504949,51.653104867844 L -1.2911718737527,51.652891255979 L -1.2879671588061,51.652398032995 L -1.2877167286962,51.652670392731 L -1.2870163903711,51.652523271939 L -1.2851475978239,51.654431757686 L -1.2846403618211,51.655010413147 L -1.284392971856,51.655757799035 L -1.2841166721877,51.657183767565 L -1.2796415994042,51.656527829853 L -1.2799303924796,51.656000906632 L -1.2800829386707,51.655496525561 L -1.2801416383953,51.655441138613 L -1.2803557192384,51.654793271954 L -1.280463957772,51.654530487221 L -1.2806942532886,51.654136276277 L -1.2806821609325,51.653986945223 L -1.2807346979248,51.653864084839 L -1.2808065026403,51.653802483802 L -1.2807753445254,51.653761831837 L -1.2811156986316,51.652988857093 L -1.2815431542891,51.652282950209 L -1.2821149164847,51.651499698411 L -1.2825794604017,51.65109792326 L -1.2828059475073,51.650942855774 L -1.2828040368038,51.650789091326 L -1.2829999316462,51.650465697703 L -1.2831979922899,51.650004748657 L -1.2836737077883,51.650176688099 L -1.2841972070356,51.650435234075 L -1.2845655353887,51.650359252349 L -1.284630588508,51.649899289216 L -1.2847187743951,51.649806315639 L -1.2849519256102,51.649778063205 L -1.2851961296637,51.649782246561 L -1.2854538659152,51.650120991458 L -1.2857791051373,51.650395408107 L -1.2864844105385,51.650214470756 L -1.286629169866,51.650108352216 L -1.2867475004572,51.649383465365 L -1.2868124586188,51.649296643185 L -1.2872376011385,51.649007002825 L -1.2880471365966,51.648721489083 L -1.2884148256354,51.648685053558 L -1.2886388932407,51.648590202503 L -1.288726857435,51.648510711664 L -1.2889975861306,51.648112233339 L -1.2894671134106,51.647015426384 L -1.2892487207997,51.646655348812 L -1.2890171793852,51.646489405367 L -1.288836444409,51.646309382765 L -1.2886124377929,51.646216314415 L -1.2879864936912,51.646040787074 L -1.2877748819392,51.645894742993 L -1.2878033738089,51.645459732114 L -1.2877712415068,51.645019858005 L -1.2878065254725,51.64479708523 L -1.2874192576058,51.644332579168 L -1.2870861280524,51.64401046441 L -1.2872401753067,51.643587005001 L -1.2874312353104,51.643291447743 L -1.2873959946602,51.643050264466 L -1.2873253491663,51.642947333982 L -1.2871793935664,51.642854736234 L -1.2860827124828,51.642750070997 L -1.2848849085913,51.642919017804 L -1.2838725969783,51.642963203571 L -1.2834280949457,51.642924527699 L -1.2831170877289,51.643035022929 L -1.2827592590437,51.642998671641 L -1.2815787343784,51.643170387666 L -1.2814750044235,51.643149972231 L -1.2812622093831,51.642989522782 L -1.2811008494241,51.642957964758 L -1.2803928655417,51.643039947941 L -1.2802795778833,51.64316693193 L -1.2802756349302,51.643233444163 L -1.2803303978827,51.643334483349 L -1.2801796584739,51.643362332382 L -1.2799938752461,51.643504157287 L -1.2799529088923,51.643627088446 L -1.2801019293028,51.6440730761 L -1.2800908603023,51.64413325067 L -1.279996005905,51.644191113522 L -1.2796794652571,51.644193668923 L -1.2794597788317,51.644285832395 L -1.2792300841358,51.64427992777 L -1.2789800498881,51.644371904162 L -1.2786255463679,51.64430768736 L -1.2783911212286,51.644417741145 L -1.2780906888357,51.644406904099 L -1.2779283411097,51.644437376339 L -1.2776229424512,51.644375256576 L -1.277478809103,51.644441805799 L -1.2768245781025,51.644504316984 L -1.2758763202573,51.64478889863 L -1.2757505098894,51.644975144328 L -1.2753431827958,51.644870130667 L -1.2750556393319,51.644866558482 L -1.2748933596461,51.644892531251 L -1.2741897620726,51.645149836544 L -1.2740102402176,51.645169407593 L -1.2739005804556,51.645248753415 L -1.2741676482017,51.645629840856 L -1.2740731949271,51.645752439511 L -1.2737277788875,51.645842916223 L -1.2729900022344,51.646157548024 L -1.2729861058094,51.64622046373 L -1.2733253279504,51.646608293475 L -1.2733611201383,51.646720008225 L -1.2734536323922,51.646809595226 L -1.2733108094392,51.646974153714 L -1.2730207662371,51.647126112356 L -1.2728388206922,51.647296722166 L -1.272726795443,51.647342784056 L -1.2724893858088,51.647366490149 L -1.2716929510708,51.647280633216 L -1.2710908991868,51.647330848018 L -1.2707053034428,51.647402184631 L -1.2704813488812,51.647488010858 L -1.2702624671623,51.647617926034 L -1.2700118029322,51.64765683018 L -1.2698020521311,51.647758028746 L -1.2693238437868,51.64783597833 L -1.2685768477116,51.647641611759 L -1.2681409248353,51.64769644212 L -1.267989468894,51.647767429802 L -1.2670396864607,51.648049233298 L -1.2668807262811,51.648137256401 L -1.2666130279683,51.648515022871 L -1.2661659187699,51.648635413324 L -1.2661565742564,51.648766629425 L -1.2660412588029,51.649015870073 L -1.2660469199245,51.649291941453 L -1.2658740109885,51.649527335026 L -1.2657439770846,51.649613739044 L -1.265277136884,51.649791547775 L -1.2643696149174,51.650048418059 L -1.2632540620535,51.650119653328 L -1.2627531875085,51.650077848437 L -1.2611739457086,51.649686692786 L -1.259360063494,51.649327305102 L -1.2582483998939,51.649072129333 L -1.2569590806879,51.648633294045 L -1.2558193237841,51.648330263047 L -1.2552618445369,51.648128020524 L -1.2540114676732,51.647785607589 L -1.2531167079039,51.64744004766 L -1.2528966053084,51.647289390835 L -1.2528374599305,51.647194604909 L -1.2521726866089,51.646926927073 L -1.2513131979534,51.646635526252 L -1.2510835400408,51.646626869403 L -1.2492123976341,51.646246279041 L -1.248274347077,51.646162954606 L -1.2478957977071,51.646068819459 L -1.2467926078459,51.645921485987 L -1.2466757620553,51.645820932118 L -1.2442716789948,51.645336140483 L -1.2438042970099,51.645196463556 L -1.2433370884796,51.644959678561 L -1.2431653934729,51.644942388079 L -1.2429411205859,51.644784492422 L -1.2425169133393,51.644569560621 L -1.2423909516347,51.644930203451 L -1.2422324930988,51.645159361826 L -1.2420304980212,51.644965642444 L -1.241750275887,51.644783106695 L -1.2416422253068,51.64476262816 L -1.2413155538864,51.64459237951 L -1.2411060248543,51.644417491833 L -1.240598151775,51.644193920305 L -1.240416867546,51.644058776196 L -1.2399711713004,51.64392012327 L -1.2393292504145,51.643589580164 L -1.2389391201924,51.643412619936 L -1.2386313442735,51.643323408942 L -1.2385688771042,51.643256467567 L -1.2383794440409,51.643177014276 L -1.2381579652151,51.643112638293 L -1.2379213261728,51.643263058571 L -1.2374540691054,51.643376915174 L -1.2370235357452,51.643110671205 L -1.2368942384636,51.643064874308 L -1.2367769680692,51.642646910428 L -1.2360936272444,51.642461741462 L -1.2352468417871,51.64228539523 L -1.2349957612283,51.642263080256 L -1.2335025085257,51.64177320493 L -1.2324201976951,51.641510781899 L -1.2302265461491,51.641166443319 L -1.2295090440298,51.641123975773 L -1.2284502299902,51.641097245627 L -1.2283499487383,51.641130754424 L -1.2282539302758,51.641083368258 L -1.227601011335,51.641067388437 L -1.2267879563116,51.6411204843 L -1.2263456557754,51.641211083285 L -1.2258402587216,51.64118797279 L -1.2252607308547,51.641274965892 L -1.2249223708807,51.64137163979 L -1.2246744971202,51.641331341012 L -1.2240312643206,51.641425100752 L -1.22325246188,51.641418155793 L -1.2226118536743,51.641527210556 L -1.222250258921,51.641714536493 L -1.2218861086955,51.641966582709 L -1.2218378696377,51.642083151822 L -1.2219456099423,51.64237428869 L -1.2216163524826,51.642360418747 L -1.2213855488274,51.642589069967 L -1.2211637385148,51.642714378883 L -1.2211134536783,51.642781481251 L -1.2204293903247,51.64297925121 L -1.2203179705848,51.64298750324 L -1.2201356417103,51.642917059013 L -1.2196386883471,51.642822046461 L -1.2195066276122,51.642769918011 L -1.2193182179605,51.642632895504 L -1.2192014381017,51.642364174704 L -1.2192235011029,51.642089183461 L -1.2191280211597,51.641926703043 L -1.2191478461056,51.641782072721 L -1.219774363799,51.640978804474 L -1.2200990153283,51.640670755642 L -1.2203897319741,51.640487461675 L -1.2206802953889,51.640228637907 L -1.2208057196126,51.639992995097 L -1.221084097551,51.639939094253 L -1.2213955058518,51.639981620037 L -1.2217229330983,51.63993253847 L -1.2221592822371,51.639682769062 L -1.2222506957474,51.639576376199 L -1.2226542516436,51.639300312677 L -1.2226493935026,51.639161812405 L -1.2228650196656,51.639143457849 L -1.2243563864072,51.638037476735 L -1.2245537906182,51.637985730458 L -1.2245883096192,51.637910430231 L -1.2249924952054,51.637595699639 L -1.2255971329622,51.637219349141 L -1.2261951259544,51.636723365626 L -1.2265640415619,51.636527084282 L -1.226893652448,51.636177688655 L -1.2274401226053,51.635906145684 L -1.227539488113,51.635755742926 L -1.2277842716844,51.635635967826 L -1.2279571710566,51.635409620824 L -1.2283372147297,51.635237683931 L -1.2290111291254,51.634777251353 L -1.2291219382608,51.634633216359 L -1.2293774623659,51.634561163055 L -1.2295178193587,51.634378658321 L -1.2298908238634,51.634109562675 L -1.2300485140706,51.63392717093 L -1.2305051683291,51.633666713861 L -1.2309310065197,51.633348508049 L -1.231263741633,51.633152874215 L -1.2325283007419,51.632278183073 L -1.2342903454748,51.6310290815 L -1.2350896050572,51.630410282423 L -1.2354295935815,51.630296506154 L -1.2356860605476,51.629994264316 L -1.2356481900402,51.629668527609 L -1.2356860869115,51.62956267514 L -1.2360398492286,51.629488549084 L -1.2362234298431,51.629224495226 L -1.2366019078228,51.628882583103 L -1.2368621919995,51.628696353121 L -1.2371592686206,51.628383582108 L -1.237331327103,51.628116754236 L -1.2385689205662,51.627197764741 L -1.2387906666151,51.626982508027 L -1.2394927896444,51.626462854438 L -1.239918239191,51.626073581001 L -1.2402368579502,51.62585265432 L -1.2404781928619,51.625588068136 L -1.2410044373427,51.625217425333 L -1.2410698823966,51.625104555925 L -1.2416544270628,51.624615599727 L -1.2418854414523,51.624362632886 L -1.2420737785739,51.62424336283 L -1.2421380146928,51.624116098696 L -1.2423199812744,51.623945535876 L -1.2424386916182,51.623583046928 L -1.2431194642582,51.622517452757 L -1.2451906880472,51.623053183863 L -1.2461098068873,51.623203848776 L -1.2475544532896,51.62337226037 L -1.2492472837212,51.623383092017 L -1.2505534086174,51.62327993868 L -1.2518237176876,51.623070443629 L -1.2521596459912,51.622934114523 L -1.2527951341217,51.622764623739 L -1.2536855060223,51.622379156195 L -1.254512545823,51.621890777482 L -1.2551712281633,51.621361763141 L -1.2557654853711,51.620708254922 L -1.2562234388014,51.619909118312 L -1.2567310754795,51.618720065255 L -1.2571166190344,51.617310846237 L -1.2572354708964,51.617108391018 L -1.2578217792159,51.617202910824 L -1.2600786571949,51.617775518647 L -1.2603999860299,51.617911514998 L -1.2616081620687,51.618225724663 L -1.263912542501,51.618635811846 L -1.2644759193671,51.618900092977 L -1.2648878726378,51.619149936647 L -1.2653005491082,51.619444740606 L -1.2654013079189,51.619555965579 L -1.2660670118788,51.619925179657 L -1.2663242501417,51.620006810525 L -1.2676184073167,51.620100305483 L -1.2685696341636,51.620411042492 L -1.2690801402793,51.620642602909 L -1.2698504276547,51.620888364184 L -1.270068306555,51.620993119894 L -1.2712434170372,51.621396938828 L -1.2716591189779,51.621506515281 L -1.2734605960283,51.62185574969 L -1.2740999497152,51.62207190041 L -1.2745521321815,51.622159213415 L -1.2748407329008,51.622178079148 L -1.2750939244533,51.622243481134 L -1.2753623763671,51.622257725519 L -1.2755276915409,51.62230819813 L -1.2760107112938,51.622545852687 L -1.2763665861809,51.622603792457 L -1.2765829439658,51.622714820628 L -1.2767912350976,51.622697221193 L -1.2770844712369,51.622606414415 L -1.2772751745554,51.622695703973 L -1.277777488089,51.622628660246 L -1.2780250372582,51.622685928908 L -1.2783461463165,51.622659129489 L -1.2789486271365,51.622469513424 L -1.2797976288099,51.622584417365 L -1.2801480706379,51.622438206773 L -1.28064641356,51.622347748721 L -1.2807833211633,51.622276655573 L -1.2812746238099,51.622174462887 L -1.2814917790039,51.622052608708 L -1.2817471361955,51.62198133976 L -1.2819151101356,51.621863679784 L -1.2822133586182,51.621728832825 L -1.2823886498492,51.621696635521 L -1.2825924747084,51.621595378172 L -1.283385435198,51.621324181352 L -1.2835242468378,51.621223424891 L -1.2842542527916,51.620913175032 L -1.2851145662151,51.620674746101 L -1.2856183651929,51.620418857771 L -1.2859070105853,51.620342387373 L -1.2860083462864,51.620236005284 L -1.286280496313,51.620198096879 L -1.2862485288897,51.620486527725 L -1.2863688353215,51.620736321439 L -1.286802224137,51.620825271368 L -1.286842822623,51.62136860049 L -1.2870161326953,51.621739200481 L -1.2869927145337,51.621943163869 L -1.2871126988204,51.622306246835 L -1.287159852201,51.622615838257 L -1.2872529990977,51.622755770667 L -1.2872424882788,51.622873494644 L -1.2873747304462,51.623284306235 L -1.2873530024213,51.623380382727 L -1.2874354188091,51.623836748211 L -1.2875322689226,51.62401716426 L -1.2876382331047,51.624999670929 L -1.2878339758951,51.625599686868 L -1.2881987804046,51.627305773093 L -1.2883201245189,51.62859947496 L -1.2880576028429,51.628942255711 L -1.2877374084142,51.631307755687 L -1.2877319715655,51.631470467394 L -1.287816150719,51.631815349056 L -1.2878905983829,51.631858959167 L -1.287951893912,51.631819768472 L -1.2882396656343,51.631803529534 L -1.2887301882349,51.633327848074 L -1.2890880746014,51.63326347789 L -1.2895457846404,51.633283330507 L -1.2891738373556,51.634247657548 L -1.2902752864754,51.634404473508 L -1.29025580337,51.634634535961 L -1.2902706297977,51.634702960266 L -1.2903437940354,51.634736670478 L -1.2920187329632,51.634810615367 L -1.2920488500343,51.635196528389 L -1.2924041454539,51.635299372715 L -1.2928596747598,51.635553875021 L -1.2933215672647,51.635864160551 L -1.294077873625,51.636197793065 L -1.294335396663,51.63645649446 L -1.2950648562596,51.636379051977 L -1.2956012165393,51.636454200395 L -1.2971346486278,51.63643281382 L -1.3011548831915,51.636221222387 L -1.3030991176237,51.636076321243 L -1.3037712733203,51.636059626321 L -1.3038730434672,51.636113278679 L -1.304006681892,51.636067315165 L -1.3058070827612,51.635972768015 L -1.3058407936244,51.635941497294 L -1.3058013129974,51.635877425044 L -1.3054342077724,51.635883347509 L -1.3052911652411,51.635693682254 L -1.3053650698922,51.635679733009 L -1.3056280280074,51.635775697254 L -1.3057644984104,51.635733345043 L -1.3058053603013,51.63561220255 L -1.3056186163965,51.635445657099 L -1.3056340386811,51.635381909282 L -1.3059188140152,51.635373701542 L -1.3063023751859,51.635425419727 L -1.3064154393491,51.635401810498 L -1.3064120233645,51.635341547924 L -1.3060796887379,51.635246973943 L -1.3061031482142,51.635224633997 L -1.306523581905,51.63522711652 L -1.3065906451884,51.635187950189 L -1.3066046486415,51.635122395589 L -1.3064926132019,51.63507857554 L -1.3061843118945,51.635113619944 L -1.3061267075233,51.635006282016 L -1.306188206026,51.634858287048 L -1.306250454857,51.634850562393 L -1.30636911024,51.634933983944 L -1.3067181640373,51.635069117099 L -1.3068215519889,51.635016677884 L -1.3069321433112,51.634870770467 L -1.3068180542656,51.634772091041 L -1.3064623324607,51.634695362941 L -1.3063203967004,51.634622593706 L -1.3063670954167,51.634592298659 L -1.3067762865087,51.634668443431 L -1.3069297062552,51.634651365814 L -1.3069695642359,51.634595854237 L -1.3069570680734,51.634562512321 L -1.3065958778686,51.634370662372 L -1.306583313523,51.634341815715 L -1.3067385207859,51.634112551726 L -1.3066845320245,51.633957580937 L -1.3065095962591,51.633774922004 L -1.3065832174551,51.633684543367 L -1.3068599097909,51.633542313699 L -1.3068985412878,51.63347240865 L -1.3064364402091,51.633360885424 L -1.3064557013965,51.63332952921 L -1.3068667304581,51.633284300566 L -1.3069078336912,51.633146974541 L -1.3068428283841,51.633051282093 L -1.3068668753281,51.632990282404 L -1.3071591192168,51.632965032076 L -1.3071969895761,51.632850165399 L -1.3073286837952,51.632741246788 L -1.3077233961981,51.63262848339 L -1.3077237382025,51.632606006886 L -1.3075008213595,51.632538156655 L -1.3074482979203,51.63247670546 L -1.3076155743174,51.632403062772 L -1.3076503239925,51.632018435296 L -1.3079074697536,51.631925540699 L -1.3079674949878,51.631873744137 L -1.3077654414086,51.631669347875 L -1.3079637860565,51.631642643081 L -1.3097342602208,51.631984842181 L -1.311007890836,51.632126290704 L -1.3124771977346,51.632418128055 L -1.3140945077419,51.632669450714 L -1.3166131374593,51.633131900672 L -1.3167718412892,51.633147209998 L -1.3171292420168,51.633112423238 L -1.318273824769,51.63338431709 L -1.3192668524384,51.633550122272 L -1.3232630079731,51.634058745266 L -1.3251787524765,51.634264878368 L -1.3267564725612,51.634564352379 L -1.3292072612254,51.634841819157 L -1.3327849760699,51.635424154425 L -1.3388429783201,51.636158832055 L -1.3399790773042,51.636332459872 L -1.3407121397737,51.636499319975 L -1.3408026136951,51.63683700468 L -1.3407321229728,51.6372142474 L -1.3415449034076,51.637065951886 L -1.3434437912691,51.638053942456 L -1.3443130383739,51.638399570302 L -1.3454923131712,51.638992383922 L -1.3461245629939,51.639240469949 L -1.3471316509462,51.639751386091 L -1.3496723655045,51.638719779408 L -1.3529862705294,51.637773300785 L -1.3560326838181,51.637135465549 L -1.3560466106612,51.637172406544 L -1.357214539236,51.636940530594 L -1.3585090958258,51.636745300029 L -1.3591946769667,51.636595288745 L -1.3606821501965,51.636346238886 L -1.3607152895343,51.636558615774 L -1.3605888129491,51.637435486102 L -1.3605325259983,51.637430684068 L -1.3601613871281,51.638750395941 L -1.3592898387901,51.639995447592 L -1.3593556863114,51.640039864394 L -1.3625663738053,51.640986136242 L -1.3624345017517,51.641012394837 L -1.3609211599641,51.641652450967 L -1.3606264707946,51.642363863444 L -1.3608680738743,51.642447898555 L -1.3583426803349,51.644445503468 L -1.3571350899206,51.645731861179 L -1.3571191260936,51.645838771101 L -1.3574923322462,51.646122242274 L -1.3568378002478,51.647131988207 L -1.3558551520929,51.647325314427 L -1.3558401458995,51.647466396591 L -1.3563298022489,51.647896169826 L -1.3556293842006,51.648978487488 L -1.3548408350311,51.649037099955 L -1.3543218483011,51.650367668198 L -1.3521290271859,51.650581281136 L -1.3520500540441,51.650848788244 L -1.3520971372693,51.651297716785 L -1.351956703075,51.651617933916 L -1.3517743296793,51.651838115411 L -1.3514238631819,51.651986337172 L -1.350983133684,51.652078312929 L -1.350066673707,51.652081339553 L -1.3494201970829,51.652712551967 L -1.3488757768452,51.652776971594 L -1.3482071512872,51.65323721875 L -1.3465122058395,51.653194536559 L -1.3460826210502,51.6536156397 L -1.3452026468749,51.653190842724 L -1.343819735545,51.652861237397 L -1.3430590968014,51.653983604759 L -1.3444409926165,51.65468635465 L -1.3443293116848,51.655013016971 L -1.3450023034761,51.655458245977 L -1.3455279358376,51.655295733823 L -1.3456012261464,51.655325813488 L -1.3457394762693,51.655563056027 L -1.3461373005265,51.655442088829 L -1.3464202821502,51.655566844742 L -1.3475989166586,51.655733440698 L -1.3476631750906,51.655788644719 L -1.3477101797202,51.656038865339 L -1.3477975016636,51.656098692987 L -1.3480759478362,51.656137102698 L -1.3488202086326,51.656152019139 L -1.3488424088824,51.656216879917 L -1.3487407938859,51.656448293717 L -1.3487585675675,51.656519423921 L -1.3488539336741,51.656623352989 L -1.3490789010847,51.656661463953 L -1.3497775197757,51.656633862105 L -1.3498072962479,51.65667448796 L -1.349660561269,51.656826528954 L -1.3496628219987,51.656870599096 L -1.3503666024551,51.656987783087 L -1.3504226555492,51.657010571344 L -1.3505476241145,51.657167711636 L -1.3509629805078,51.656932634843 L -1.3512449842978,51.656823598489 L -1.3514219713548,51.656881221022 L -1.3514372520804,51.657026066135 L -1.3515116867944,51.657077727651 L -1.3516177851708,51.657037852046 L -1.3516096415576,51.656899340286 L -1.3524654641207,51.656796163282 L -1.3527299629662,51.656799418805 L -1.3536951928733,51.656931509729 L -1.3541167424725,51.657073193495 L -1.3546988858975,51.657205867277 L -1.3557252875728,51.657306807665 L -1.3563268345047,51.65729481901 L -1.3570016568657,51.657008092954 L -1.3571133884255,51.657080635093 L -1.3572161765925,51.657274511421 L -1.3573951871165,51.657394176308 L -1.3574943808271,51.657433381519 L -1.3579758501187,51.657427920877 L -1.3581202089984,51.657544697916 L -1.3583012269246,51.657624810441 L -1.3583637509774,51.657701578323 L -1.3583771644121,51.65787788199 L -1.3586331485804,51.65797278946 L -1.3586445092796,51.658089738988 L -1.3587054748579,51.658174590385 L -1.359026662994,51.658361564557 L -1.3590998029058,51.658505825039 L -1.3592875083289,51.658522133932 L -1.3594821895609,51.658658964592 L -1.3594693455918,51.658749707181 L -1.359379430965,51.658872398476 L -1.3594973725406,51.659017802064 L -1.3593491396452,51.659072740352 L -1.3593301201908,51.659191322423 L -1.359222984197,51.659304928353 L -1.3591663039136,51.65953120117 L -1.3600785858675,51.660348990214 L -1.3603650085091,51.660439563915 L -1.360651743639,51.660713562012 L -1.3608690455209,51.660784876564 L -1.3611345337668,51.660822285591 L -1.3617694760635,51.660597355711 L -1.3626899782622,51.660627527307 L -1.3628556982175,51.660562789154 L -1.3630322710388,51.660342559372 L -1.3631734142244,51.66027768755 L -1.36326569349,51.660295271151 L -1.3633975682904,51.660376008586 L -1.3634656330157,51.660574186824 L -1.3644964802528,51.660467374396 L -1.3648170787884,51.660492485243 L -1.3650640030877,51.660617001052 L -1.364888947445,51.66083274639 L -1.364922298199,51.660929133982 L -1.3650564008181,51.660850734844 L -1.3652596415719,51.660790691704 L -1.3655228745188,51.660989922753 L -1.3656022258583,51.661208840732 L -1.3655289574537,51.661486277571 L -1.3656306192406,51.661556958865 L -1.365935374191,51.661578384573 L -1.3664391736508,51.661840951541 L -1.3668726567289,51.661858573096 L -1.36714520932,51.661908594441 L -1.3674611264585,51.6620631481 L -1.3678371857952,51.6620516847 L -1.3682123451321,51.66210495289 L -1.3685383494822,51.662262255269 L -1.3688334502502,51.662354653129 L -1.3689514685609,51.662497350068 L -1.3692651783591,51.662603333769 L -1.3693593830432,51.662691055319 L -1.3693789461685,51.662948312518 L -1.3694482881275,51.663056580639 L -1.3689072646327,51.664014850155 L -1.3685989380875,51.664457365865 L -1.3684094158294,51.664985936984 L -1.3676190514759,51.664948418593 L -1.3674556071922,51.665160633557 L -1.3666256919807,51.665989660106 L -1.3660002112115,51.66688002574 L -1.3656943116193,51.667248817887 L -1.365219094956,51.667730884673 L -1.3632389674427,51.669219926132 L -1.3630417401165,51.669467018002 L -1.3628440228799,51.669645772783 L -1.362765540769,51.669674119505 L -1.3624938626718,51.669661856471 L -1.3613641612169,51.669482190167 L -1.361222721322,51.669565939956 L -1.3604284615922,51.669388986572 L -1.3592234106633,51.66901647507 L -1.3578868233324,51.668437331007 L -1.3572876633372,51.669190226731 L -1.3559160799148,51.670265273816 L -1.3557928016891,51.670189070936 L -1.354800479308,51.670519003795 L -1.354721259813,51.670496989652 L -1.3544065103717,51.670564494257 L -1.3549943123986,51.671634992641 L -1.3550142314835,51.671861683437 L -1.3550592773086,51.6719482474 L -1.3551632799458,51.672465819439 L -1.35477774375,51.672629143821 L -1.3541548437879,51.672806448004 L -1.3531766443635,51.672952122545 L -1.3546073199314,51.674446254113 L -1.3542219802331,51.674492690517 L -1.3548667682075,51.675728942178 L -1.354303181422,51.676614189736 L -1.3541375523226,51.677176136332 L -1.3536245243427,51.67826666039 L -1.3534405280797,51.678797035245 L -1.3551685962414,51.679121225253 L -1.3537994464383,51.681220370686 L -1.3512487908885,51.685015039175 L -1.3511586010831,51.685050506562 L -1.3508171012953,51.685464019338 L -1.3528906990601,51.685818023019 L -1.3535002543096,51.688724669933 L -1.354875112448,51.688277264132 L -1.3561053398904,51.687927954372 L -1.3576102344467,51.687692524522 L -1.3583488782023,51.687527522681 L -1.3590941528048,51.687199809773 L -1.3600373226852,51.686686150689 L -1.3602627752273,51.686598364105 L -1.3609678706057,51.686451145824 L -1.3614039581399,51.68619726381 L -1.3614622019009,51.686067206337 L -1.3618658622114,51.685547003824 L -1.3618575313765,51.685419282067 L -1.3617016874039,51.685186460165 L -1.3618557510354,51.684928347139 L -1.3617820491344,51.684717550407 L -1.3618997619023,51.684472726875 L -1.3621283131082,51.684266268286 L -1.3624399180531,51.684119602423 L -1.36258781767,51.683990929787 L -1.363057513033,51.68381364996 L -1.3633127232109,51.683458976962 L -1.3633384705354,51.683376396407 L -1.3632472821683,51.683174497133 L -1.3628998554376,51.682988292585 L -1.3628636383824,51.682889191873 L -1.3632137526146,51.682780496189 L -1.3633697312154,51.682694125474 L -1.3634802714165,51.682547266715 L -1.3635148874076,51.682347847126 L -1.3636515100869,51.682197532919 L -1.3637762990613,51.681962636188 L -1.364125335296,51.681826958026 L -1.3643664146796,51.681550430603 L -1.3645501814117,51.681131530124 L -1.364588124313,51.680900658583 L -1.364732963577,51.680575956088 L -1.3649170634895,51.680339580405 L -1.3649918643302,51.680161956603 L -1.3655120581245,51.679575835081 L -1.3656343875332,51.679205154207 L -1.3657602902624,51.67899273958 L -1.3658042133733,51.678850913852 L -1.3660137077053,51.678763030103 L -1.3661629631082,51.678638855875 L -1.3664035308334,51.679226386605 L -1.3687499727529,51.683039638761 L -1.3698703103971,51.684024803545 L -1.3698499710901,51.684448184891 L -1.370695312224,51.685344651173 L -1.3708224695904,51.687024906766 L -1.3714022746381,51.687044193336 L -1.3715167438486,51.687030419385 L -1.3717393453789,51.686938099928 L -1.3719413892139,51.686658651189 L -1.3714868605797,51.686367600858 L -1.3734102137527,51.686092845716 L -1.3737457559135,51.686201630454 L -1.3753374315116,51.687112826542 L -1.3764304323071,51.688210173498 L -1.3801965881804,51.686996487587 L -1.3802470193245,51.686905042296 L -1.3802396672448,51.686701800255 L -1.3805541584019,51.686870696172 L -1.383693650053,51.685877477276 L -1.3852105669425,51.685486207813 L -1.3875110269537,51.685019881014 L -1.3895123210509,51.684746167722 L -1.389604069238,51.685130572501 L -1.3903975003191,51.685398135129 L -1.3909877441231,51.685393102707 L -1.3910720459838,51.685255073555 L -1.3924876221747,51.684539498611 L -1.392159827177,51.685794786708 L -1.3921309170314,51.686657801201 L -1.3932777982375,51.687757966733 L -1.3945488919794,51.688009083967 L -1.3987873017106,51.688235840541 L -1.4053529845157,51.687385396164 L -1.4054040875489,51.688675004795 L -1.4052694677826,51.68934417429 L -1.405223851661,51.689844757866 L -1.405195795002,51.690882209659 L -1.4051090965458,51.691316049711 L -1.4051741422677,51.691541160852 L -1.4052388902172,51.692009934077 L -1.4052354178724,51.692164566486 L -1.4051566969518,51.69232061638 L -1.4051172327119,51.692572172431 L -1.4051689999118,51.693479654188 L -1.4051046866542,51.693529679871 L -1.4051252182018,51.693729390092 L -1.4049799230995,51.69388690116 L -1.4046896498273,51.694508526817 L -1.4044137491447,51.695247111082 L -1.4042021355904,51.695606588773 L -1.4041903354175,51.695954491212 L -1.4041483159335,51.696069366513 L -1.4036703380866,51.6964391814 L -1.4035150065924,51.697029119842 L -1.4031926196367,51.697779153751 L -1.4030454217486,51.69829989998 L -1.4030006411342,51.698294277807 L -1.402908485974,51.698370235546 L -1.4024626886188,51.699370496792 L -1.4024429738511,51.699659016267 L -1.4023766482725,51.699860982612 L -1.4023542744639,51.700571178918 L -1.4024135617223,51.700574177696 L -1.4025458980648,51.703272229487 L -1.4024842396741,51.703888716637 L -1.402377909976,51.703941224587 L -1.402345853481,51.704067838396 L -1.4023728664613,51.704324226645 L -1.4023472895669,51.704618110821 L -1.4023880865186,51.70492671842 L -1.4022583478208,51.705877333988 L -1.4017909799023,51.705762565987 L -1.4010925353877,51.705722145709 L -1.399366516138,51.705907551095 L -1.3987957646322,51.705950489081 L -1.3982300566835,51.705940401684 L -1.3968310681059,51.706126544279 L -1.3958527035743,51.706132310012 L -1.3936230485202,51.705991356415 L -1.3934016040651,51.706101705628 L -1.3930994788958,51.706076769024 L -1.3927372422116,51.706109964347 L -1.3919986113191,51.70626079628 L -1.3916569214825,51.706380410646 L -1.3906614059231,51.707016331809 L -1.3902068784729,51.70723965567 L -1.3891245067285,51.707659322996 L -1.3880780222435,51.707991951942 L -1.3870133448514,51.708491714152 L -1.3864126952672,51.708708866592 L -1.3857090104482,51.70905315351 L -1.3853266140814,51.709290322271 L -1.3843377825102,51.710168988761 L -1.3827777024187,51.711437567085 L -1.3816683790478,51.712123165448 L -1.3812050971297,51.712344610184 L -1.3806988088585,51.712641353105 L -1.3795748357582,51.713123652138 L -1.3790477121724,51.713460738638 L -1.3785414529523,51.713859073595 L -1.3782378419299,51.714150583208 L -1.3780506299163,51.71439775159 L -1.3778493588054,51.71482556947 L -1.3776207939598,51.715554449469 L -1.3773437983923,51.71580383873 L -1.3766472684664,51.716035718557 L -1.3762830368512,51.716207317983 L -1.3762222721745,51.716310395001 L -1.3763033407011,51.716520321264 L -1.3763044678077,51.716648902141 L -1.3761869446453,51.716774156147 L -1.375857195763,51.716858722068 L -1.3748835354327,51.716821180608 L -1.3746508098916,51.716902662484 L -1.3743846656634,51.71709815497 L -1.3737369164799,51.717883239068 L -1.3732518753599,51.718310436148 L -1.3728347442202,51.718746085617 L -1.3722247454717,51.719310177906 L -1.371640963639,51.719966117858 L -1.3707737775868,51.721222952038 L -1.3702311441289,51.721727153016 L -1.3694968987334,51.722580083528 L -1.368759968568,51.723727907772 L -1.3686707912483,51.72399806539 L -1.3687347627532,51.724290624274 L -1.3688489101298,51.724410820608 L -1.3692384967996,51.724608920367 L -1.3695351365615,51.724828099438 L -1.3696183740128,51.724984993348 L -1.3695920492494,51.72521233061 L -1.3695333150148,51.725375656267 L -1.3693098762956,51.725722418951 L -1.3691868069999,51.725826956247 L -1.3689156215845,51.725963066971 L -1.3688023882674,51.725984937247 L -1.3687348345391,51.725949508736 L -1.3687389564735,51.725861416711 L -1.3688802500629,51.72569583727 L -1.3688835458494,51.725667082991 L -1.368796187937,51.725598280617 L -1.3685796984626,51.725549464628 L -1.3684375999614,51.725564885665 L -1.3682075880278,51.725655360589 L -1.3681980000042,51.725720046003 L -1.368397037529,51.725878462082 L -1.3680846066171,51.726168998656 L -1.3680798945183,51.726299346313 L -1.3680016247072,51.726409517877 L -1.3679763310324,51.726562232994 L -1.368025071485,51.726700960072 L -1.3681348297001,51.726824729946 L -1.368179735909,51.72703087064 L -1.3681527246165,51.727099058903 L -1.3679838291881,51.727270782946 L -1.3674133480169,51.727584206662 L -1.3671890742304,51.727885105432 L -1.3669383027912,51.728942923263 L -1.3669217577806,51.729194588799 L -1.3670022244852,51.729653575047 L -1.3671873835275,51.72997735705 L -1.3676781382131,51.73050328707 L -1.3679524332077,51.730873402409 L -1.3680210972359,51.731037411926 L -1.3681619392583,51.731736787589 L -1.368269785988,51.731894713614 L -1.3683397053185,51.731968817342 L -1.369004322335,51.73238598243 L -1.3693927023677,51.732675785341 L -1.3697136454782,51.733025466717 L -1.3706561958302,51.734285690701 L -1.3710749238719,51.734686242413 L -1.3720894943938,51.735456817869 L -1.3723338124056,51.735591192388 L -1.3732280896103,51.735952914117 L -1.3736048559694,51.736248934769 L -1.3737989436311,51.736455867518 L -1.3740098710492,51.736806749134 L -1.3740782678889,51.736992332394 L -1.3741050396187,51.737255917677 L -1.3740055440809,51.737539510624 L -1.3735888944312,51.738032708062 L -1.372977962943,51.738960043205 L -1.3723294090866,51.739674082401 L -1.3711682329418,51.741217065346 L -1.3707847387683,51.741403829504 L -1.3691589061313,51.74177634631 L -1.3689897002917,51.741862653258 L -1.3687285133075,51.742105812496 L -1.3686153254741,51.742433384186 L -1.3684590665907,51.743461140042 L -1.3681770286766,51.74395234352 L -1.3676562609329,51.744528578456 L -1.3673373018087,51.745173331042 L -1.367015550248,51.745498879687 L -1.3657948743829,51.74609471398 L -1.3654423242148,51.746342767789 L -1.3655717063289,51.746412698191 L -1.3651980818262,51.746820681106 L -1.3650747681794,51.747144598057 L -1.365036580344,51.747388952765 L -1.3651664298989,51.747942613146 L -1.3653697357849,51.748319542972 L -1.3655397551794,51.74848769683 L -1.3656452378884,51.748506248288 L -1.3659764207088,51.74844060024 L -1.367185052634,51.748400355972 L -1.3677296497506,51.748507583249 L -1.3679315439618,51.748675904992 L -1.3682562267955,51.749387954862 L -1.3681852411606,51.749596169459 L -1.3677420439535,51.749903084957 L -1.367738306423,51.749963305932 L -1.3669235354606,51.751255454172 L -1.3666294571841,51.751463365736 L -1.3666964819007,51.7519537472 L -1.3668889335406,51.752280264903 L -1.3670475357195,51.75243756552 L -1.3676952395916,51.752737759354 L -1.3678290701202,51.752905715145 L -1.3678589119296,51.75315493178 L -1.3677634557761,51.753351325911 L -1.3677197963004,51.753573173803 L -1.3676270601164,51.753782170113 L -1.3674613612052,51.753925138189 L -1.3667034432264,51.754253733608 L -1.3655235646966,51.754505421491 L -1.364914403224,51.754761979128 L -1.3647710392681,51.754861007152 L -1.3645431068817,51.755308436551 L -1.364578677882,51.75545788262 L -1.3647476618055,51.755701557829 L -1.3656918746915,51.755314638055 L -1.3657797243137,51.755248576983 L -1.3663935100264,51.754972259158 L -1.3665366347203,51.754993709916 L -1.3666971085138,51.755121350049 L -1.3667189670747,51.75563036947 L -1.3665434252605,51.755958501856 L -1.3663328818887,51.756095832042 L -1.3655322026336,51.756474540167 L -1.36543283643,51.75653514419 L -1.3653540160182,51.756680376235 L -1.3653596218529,51.756797292019 L -1.3654482436788,51.756883186562 L -1.3659251660703,51.757070977436 L -1.3660394633407,51.757185781772 L -1.3663746214735,51.75797971207 L -1.366382677131,51.758232407976 L -1.366267588097,51.758381041667 L -1.3660849612449,51.758489749987 L -1.3658440806418,51.758516324084 L -1.3655479960969,51.75844999062 L -1.3653508042565,51.758460615235 L -1.3651245750904,51.758372179659 L -1.3648312513325,51.758315749598 L -1.3635051991693,51.75854774625 L -1.3630703701869,51.758663176794 L -1.3628132920232,51.758811038067 L -1.3626924074577,51.75895873775 L -1.3626717392902,51.759088998041 L -1.3627012270188,51.759155692656 L -1.3629614360875,51.759403461043 L -1.3632964454578,51.759586897229 L -1.3639409530365,51.759810668806 L -1.3639366287069,51.759912245874 L -1.3635511559664,51.760123251733 L -1.3631994015094,51.760409065779 L -1.3631107869749,51.760631567456 L -1.3631410045211,51.760749515673 L -1.3632875190589,51.760840220847 L -1.3634395937474,51.760844640513 L -1.3639183111206,51.760700674171 L -1.3643093148929,51.760611977195 L -1.3644658110376,51.760611024719 L -1.3646465551989,51.760843973945 L -1.364667177504,51.76092320781 L -1.364633260278,51.761068681841 L -1.3642870986196,51.761368915212 L -1.3638584025443,51.761561706035 L -1.3636139330442,51.761739308132 L -1.3633779949647,51.761825245782 L -1.3632742723469,51.761782425713 L -1.3628135221625,51.761884228192 L -1.3627544804013,51.761961232524 L -1.3627949798348,51.762275244402 L -1.3627332614854,51.762439448735 L -1.362535007399,51.762627189288 L -1.3620999340677,51.762757000822 L -1.3619881808736,51.762769881431 L -1.3616180804906,51.762710329574 L -1.3612968048212,51.762476612666 L -1.3606190885315,51.762242755906 L -1.3599641799957,51.762138492456 L -1.3598642091856,51.762137948379 L -1.3596400562121,51.762209556781 L -1.359604864161,51.76223903609 L -1.3596068973613,51.762300187244 L -1.3599059977859,51.762461858608 L -1.3600528675814,51.762629893941 L -1.3601422542649,51.762866848513 L -1.3601280590754,51.76305109063 L -1.3600907698869,51.763126413726 L -1.3599704747316,51.763230956053 L -1.3593057499956,51.763512357495 L -1.3591973103612,51.763598082119 L -1.3591246475278,51.76371547075 L -1.3591240495161,51.763757726069 L -1.3591755866485,51.763802063698 L -1.359566205641,51.763948050341 L -1.3599155331807,51.764145060725 L -1.3601261349133,51.764212741456 L -1.3603138096367,51.764364814257 L -1.3603935918663,51.764563953344 L -1.3605100679774,51.764730024503 L -1.3604775833804,51.764875505064 L -1.3602255983328,51.765275141461 L -1.3602532309839,51.765370598316 L -1.3604002638061,51.765527844577 L -1.3606788616048,51.765706485588 L -1.3609748340294,51.765783619964 L -1.3617848713377,51.765783522643 L -1.3620777709068,51.765873225217 L -1.3622857953834,51.766021808697 L -1.3623672223449,51.766104969038 L -1.3625157578926,51.766362022875 L -1.3629949461817,51.766806985207 L -1.3638747763918,51.767307161015 L -1.3639952816439,51.767394128016 L -1.3641687040137,51.767634231011 L -1.3641749460573,51.767912092172 L -1.3640784983047,51.768072512842 L -1.3636600072988,51.768256366851 L -1.3633267843941,51.768353466534 L -1.3631857027469,51.768492965146 L -1.363193489053,51.76876364175 L -1.3632305831111,51.768805201993 L -1.3634976872507,51.768875879811 L -1.3637877083005,51.769068960985 L -1.3639755223516,51.769419733498 L -1.3639224549675,51.7695866824 L -1.3636256734828,51.769771194399 L -1.3630035623101,51.769902694505 L -1.3628514386574,51.770002571718 L -1.362834751988,51.770055529261 L -1.3628814338358,51.770136702714 L -1.3631402247263,51.770283761271 L -1.3633419580217,51.770469172475 L -1.3634147586799,51.770651188236 L -1.3633740899111,51.77076066045 L -1.3634064338268,51.770830966667 L -1.3631934592174,51.771135513723 L -1.3626225667655,51.771436323179 L -1.3624959521513,51.771576798426 L -1.3625227644973,51.771628193433 L -1.3627908777421,51.771731246483 L -1.3632497911612,51.771561101199 L -1.3634553436295,51.771578397897 L -1.3637870157367,51.771799576984 L -1.3638176933192,51.771988557534 L -1.3637278116471,51.772196666552 L -1.3635250364185,51.7722908759 L -1.3632637417314,51.772320930803 L -1.3627145091157,51.77221455783 L -1.3622281128043,51.772071659204 L -1.362149692895,51.772082922494 L -1.361948626787,51.772364154788 L -1.361491711075,51.772597244047 L -1.3612598471919,51.772800983885 L -1.3612516401636,51.772971771584 L -1.3613927138726,51.773142470741 L -1.3614483739917,51.77330641224 L -1.3614505910785,51.773457475951 L -1.361501494739,51.773547663993 L -1.3614684959642,51.773626607163 L -1.3612979889158,51.773795614552 L -1.3609986893705,51.77395043533 L -1.3601196549651,51.774002300995 L -1.3598828833643,51.774142174087 L -1.3595237116827,51.774430633712 L -1.3599915263639,51.774863857114 L -1.35990239686,51.774914621783 L -1.3597359471183,51.775103429543 L -1.3594629017432,51.774938303683 L -1.3591051504331,51.77492106998 L -1.358690753661,51.774810018193 L -1.3577377779197,51.775066461598 L -1.3576067390806,51.775210503855 L -1.3575134388785,51.775452755855 L -1.3574503541901,51.775506358277 L -1.35719168021,51.775554396369 L -1.3564739311236,51.775371547476 L -1.3562603161708,51.775206739293 L -1.355871866316,51.775004109623 L -1.3557720974785,51.774987379125 L -1.3555072464298,51.775163953425 L -1.355235142601,51.77513728691 L -1.3546223982444,51.775214847064 L -1.3542818199534,51.775314578133 L -1.3534290513578,51.775656053728 L -1.3529956000161,51.775661762347 L -1.3525987883882,51.775740499525 L -1.3519415435654,51.775989532157 L -1.3516783200335,51.776051019822 L -1.3513719389536,51.776089790993 L -1.3511230852568,51.776058747593 L -1.3507530506674,51.776089073936 L -1.3496287063426,51.776565688498 L -1.3484858207442,51.77691901058 L -1.3474762925902,51.7773710652 L -1.3473361580452,51.777439519743 L -1.346608759141,51.77802620133 L -1.3452845424461,51.778685982948 L -1.344726866999,51.779160308693 L -1.343584985112,51.780036874808 L -1.3434443765716,51.779937187215 L -1.3420062042935,51.780651141925 L -1.3416742911336,51.780847989608 L -1.340695513031,51.781666098633 L -1.3395235427041,51.782409387319 L -1.3387570795355,51.783077620479 L -1.3385519381577,51.78352512629 L -1.3384711043222,51.783798902262 L -1.3382372780018,51.784125764561 L -1.3379433428286,51.784399240227 L -1.3374496533702,51.784651809667 L -1.3361480018433,51.785134489497 L -1.3355753300204,51.785433359367 L -1.3353950026427,51.785372999006 L -1.3350027150309,51.785431921906 L -1.3345237779531,51.78527096893 L -1.3331184007446,51.785312461368 L -1.3326176875488,51.785448984714 L -1.3323147433807,51.78564237386 L -1.33177291127,51.786108635949 L -1.3313705598457,51.786259199452 L -1.3309157396981,51.786330340911 L -1.3306242067246,51.78633947174 L -1.3299046915097,51.786271537964 L -1.3285157628894,51.786472212773 L -1.3269932797472,51.786878903972 L -1.326200085942,51.787182760221 L -1.325337581423,51.787564436764 L -1.3243167942053,51.787768071982 L -1.320478436481,51.787915895044 L -1.3200973133518,51.788000907149 L -1.3185265536519,51.788524095001 L -1.3181951040821,51.788583314324 L -1.3179037576258,51.788578927976 L -1.3176250121678,51.78850807937 L -1.3174733664836,51.788373231216 L -1.3174307457991,51.788219234962 L -1.3174476823532,51.788153697714 L -1.3177271062614,51.78789097838 L -1.3177645680052,51.787810275144 L -1.3177237761109,51.787631114318 L -1.31787351162,51.787507904576 L -1.3178554929849,51.787452953964 L -1.3175805203793,51.787420789125 L -1.317235507828,51.787226376103 L -1.3167252229224,51.787128106805 L -1.316423915119,51.787111970386 L -1.3159009525701,51.787277065095 L -1.3158101586337,51.787432983386 L -1.3158026061899,51.787548925538 L -1.3153048334977,51.787965017715 L -1.3151236050309,51.788061067338 L -1.3148673876457,51.788130605559 L -1.3144766222585,51.788181376867 L -1.3139784254744,51.7881461043 L -1.313505095806,51.788191895265 L -1.3109655158067,51.788922415079 L -1.3102558575071,51.78906301397 L -1.3092984189055,51.78919406192 L -1.3088890270759,51.789419133997 L -1.3079046762964,51.789697467676 L -1.3073983477522,51.789908477453 L -1.3068783023053,51.790068154568 L -1.3063959025856,51.790136341438 L -1.3064725291497,51.790055872701 L -1.3064389046698,51.789884842242 L -1.3065161922375,51.789761219758 L -1.3063487367179,51.789524663795 L -1.3064223063188,51.78926525277 L -1.3063470272535,51.789068801376 L -1.3058995723679,51.789411422958 L -1.3058834351497,51.789612729953 L -1.3057108646927,51.789709715303 L -1.3054057472321,51.789751970805 L -1.3052947399896,51.789710855022 L -1.3050344253762,51.789762365312 L -1.3048951699931,51.789672529941 L -1.3047580546961,51.78963215849 L -1.3050136072287,51.789229965015 L -1.3053210131346,51.789038470609 L -1.3054771240238,51.788880248679 L -1.3056263311753,51.788793915162 L -1.3056570083397,51.788684403948 L -1.3055029677755,51.788518956161 L -1.3053532362192,51.788450638269 L -1.3053340869228,51.788564713072 L -1.3054520499754,51.788624751362 L -1.3054924760855,51.788730186755 L -1.3054185285888,51.788825056563 L -1.3052518693419,51.788820475914 L -1.3051777971366,51.788734622285 L -1.3051891599973,51.788655567089 L -1.3052685750876,51.788582308526 L -1.305283858704,51.788436741801 L -1.304944620702,51.788341229646 L -1.3043243311971,51.788043551551 L -1.3041471446032,51.787875267714 L -1.3040856575003,51.787631243162 L -1.3041763859005,51.787293711732 L -1.3042702966054,51.787220539573 L -1.3043977024023,51.787043267788 L -1.3045585163734,51.786956105126 L -1.3047855014883,51.786902600688 L -1.3051400535918,51.786661034764 L -1.3050521517394,51.786531941681 L -1.3048941579024,51.78643570171 L -1.3042808466807,51.786440167977 L -1.3037269480546,51.78625796627 L -1.3035058673555,51.786116395099 L -1.3033956081278,51.785933221312 L -1.3035251378735,51.785806313603 L -1.3037660501212,51.785695350062 L -1.3041408187271,51.785647217074 L -1.3043175165167,51.785658152521 L -1.3052440110683,51.78546132684 L -1.3054005242294,51.785370541146 L -1.3054154060055,51.785251046369 L -1.3049951271566,51.78486464066 L -1.3043058129789,51.784062149205 L -1.3042691359949,51.783901889286 L -1.3042974530332,51.783757298777 L -1.3044008825304,51.783630235705 L -1.3046694196657,51.783418732445 L -1.3048140422023,51.783157943918 L -1.3047418586243,51.782949821014 L -1.3046361842111,51.782845797778 L -1.3045733332082,51.782690777897 L -1.3043659621501,51.782507030725 L -1.3043660345987,51.782313720746 L -1.3042312366692,51.782124108661 L -1.304226021297,51.781991907432 L -1.3040174313743,51.781604951668 L -1.3038084549089,51.781337575957 L -1.3035130782681,51.78112723187 L -1.3031338127898,51.780999108958 L -1.3028857370449,51.781012024874 L -1.3030764297155,51.780677783687 L -1.3028723648833,51.780656793824 L -1.3031104800862,51.780160992275 L -1.3035568697236,51.779035242271 L -1.3040714359971,51.777433360785 L -1.3042317887467,51.776619707621 L -1.3042599858497,51.77525680977 L -1.3041499608201,51.774211382221 L -1.3039513556969,51.773365933863 L -1.3035479952391,51.772170414321 L -1.3033091692599,51.771585471136 L -1.3028201088248,51.770687049721 L -1.3021605672503,51.769661737871 L -1.3012440434575,51.768387637466 L -1.3012672219993,51.768294266646 L -1.3012257769237,51.768162748826 L -1.3010535924445,51.768145541524 L -1.3009964780615,51.76809035574 L -1.30103427764,51.768082488303 L -1.3010318376193,51.768052802826 L -1.3002854211112,51.767027862608 L -1.2999098316616,51.766389049981 L -1.2985828851424,51.764583800791 L -1.2969899149077,51.762280630859 L -1.2967307329268,51.762082173639 L -1.2968199074069,51.762031456929 L -1.2963429292662,51.761209504187 L -1.2960835647732,51.760650496544 L -1.2959846562523,51.760395453 L -1.2957984707822,51.759696619654 L -1.2956019570479,51.759196430039 L -1.2954932240727,51.758641919484 L -1.295295336634,51.757113125068 L -1.2952705921726,51.756561814721 L -1.2951679399047,51.756455103066 L -1.2939430090477,51.75584983854 L -1.2934576027286,51.75548277849 L -1.2933325227043,51.75532827694 L -1.2932885516419,51.755175161829 L -1.2932551764889,51.754807220019 L -1.2932807016566,51.75409976369 L -1.2932597638232,51.753491830705 L -1.2930981990143,51.753447701704 L -1.2926784411632,51.753424497856 L -1.2923361050309,51.753453008454 L -1.2907603893929,51.753331125265 L -1.2907491977932,51.753120662936 L -1.2908124916274,51.752501548728 L -1.2909021603478,51.752418470994 L -1.2909496256054,51.752255116752 L -1.2908457331981,51.751673656565 L -1.290888154769,51.750999569764 L -1.2908526335471,51.75086268878 L -1.2907466303087,51.750693913372 L -1.2900726986366,51.750252872596 L -1.2893364068793,51.749632525403 L -1.2890212465215,51.749223317216 L -1.2887873895755,51.748987231706 L -1.2886493585397,51.748921659868 L -1.2882804146706,51.748617321763 L -1.2873971100276,51.748045524072 L -1.2866926835971,51.747705879789 L -1.285441965473,51.747288285538 L -1.284577819968,51.746516078051 L -1.2836341831583,51.746101231401 L -1.2833540629688,51.746045577055 L -1.282298374258,51.745939335542 L -1.2815319073828,51.74568020259 L -1.2812336697046,51.74548866463 L -1.2810912935527,51.745333144784 L -1.2805873091881,51.745419974917 L -1.2788416467769,51.745529764538 L -1.2780614114972,51.745227366432 L -1.2782300428788,51.745188840142 L -1.2782976950209,51.745124518384 L -1.2782222516681,51.744950524189 L -1.2780032737843,51.744876350714 L -1.2777160692976,51.744720836503 L -1.277449945963,51.744696723391 L -1.2771682220643,51.74456102226 L -1.2766442136383,51.744178369051 L -1.2765475266773,51.744065383565 L -1.2764840509576,51.743868084578 L -1.2758317327074,51.7436302964 L -1.2751433695675,51.743473203669 L -1.2748305519759,51.743471274878 L -1.2744130213828,51.743405760363 L -1.2739854486658,51.743424700151 L -1.2738009325546,51.743279700655 L -1.273151646666,51.743215447483 L -1.272111624322,51.742950964942 L -1.271755096442,51.743145665876 L -1.2716236183058,51.74330579499 L -1.2714215925361,51.743349499649 L -1.2701771620221,51.743187132695 L -1.2697726598501,51.743212494228 L -1.2696992932837,51.743181468307 L -1.2694193295364,51.742758938308 L -1.2693563478016,51.742712691553 L -1.2688913584781,51.742716994281 L -1.2683667571595,51.74282522286 L -1.2680027820948,51.742762716129 L -1.2678775726488,51.742713383796 L -1.2679309279776,51.742638189424 L -1.2677882288317,51.742506028521 L -1.2677820282372,51.742262326789 L -1.2677173774598,51.74205062958 L -1.2675339188027,51.741841788791 L -1.2668062415081,51.741611572929 L -1.2660006833619,51.741450998232 L -1.2655230701053,51.741252006286 L -1.2647014631139,51.740474521763 L -1.2645640107726,51.740198529451 L -1.2643951436881,51.739627426951 L -1.2643204957626,51.739497485701 L -1.2638472669807,51.73920860159 L -1.2637329701358,51.739201592049 L -1.2633512180196,51.739343960333 L -1.2632300166052,51.739316227135 L -1.263014597973,51.738848230378 L -1.2629840553956,51.738678103991 L -1.2628430354804,51.738444346139 L -1.2622459836707,51.737934393039 L -1.2618326341087,51.737794232309 L -1.2613773257347,51.737562994719 L -1.2613453249312,51.737482771388 L -1.2611303212533,51.737257537865 L -1.2604762598429,51.736782283276 L -1.259824047336,51.736194645715 L -1.2596190316508,51.735979362623 L -1.2595462038248,51.735827850619 L -1.2594251526195,51.735703008651 L -1.2591114708339,51.735668663861 L -1.2588794200185,51.735778693183 L -1.2587080733533,51.735807284204 L -1.2576787251148,51.73455280094 L -1.257065398602,51.73407059113 L -1.2567684037733,51.733460903742 L -1.2558484624041,51.73313409616 L -1.2533397249771,51.730716619562 L -1.2529763298036,51.729923078153 L -1.2537815792883,51.729471434589 L -1.2540163446957,51.729283208307 L -1.2535798428656,51.728796706679 L -1.2535166711576,51.727972703714 L -1.2511542633966,51.727940596659 L -1.2487838788441,51.728040563093 L -1.2485192002637,51.728110801905 L -1.2483300880613,51.72825165534 L -1.2476904139539,51.728321292408 L -1.2471374999805,51.727874482416 L -1.2464835263102,51.727410837762 L -1.2461630344815,51.727267619919 L -1.2459411718558,51.72746220729 L -1.2444673291445,51.726762213662 L -1.2417497535083,51.725548875449 L -1.2413361788853,51.725173068464 L -1.2414445295481,51.724927406065 L -1.2415967314295,51.724397002292 L -1.2415539598665,51.723924683164 L -1.2416098022523,51.723702059186 L -1.2422380275525,51.723014679199 L -1.2423405833462,51.722855295044 L -1.2424302398971,51.722601419015 L -1.2424404964984,51.722420759956 L -1.2422769760084,51.721810095862 L -1.2424899726941,51.721798880692 L -1.2426620978239,51.721027636768 L -1.2424078647581,51.720561148284 L -1.2421825217489,51.72027197414 L -1.2414951226486,51.719652535677 L -1.2414749294897,51.719561593196 L -1.2413630205924,51.719501528449 L -1.2412720080076,51.719403834975 L -1.241292678386,51.719379691854 L -1.2411948234691,51.719344893304 L -1.240914506578,51.71905446265 L -1.2402944356264,51.718565825648 L -1.2401948029403,51.718464479084 L -1.2401401761549,51.71835533117 L -1.2401471256158,51.718286143014 L -1.2400269300394,51.718288962567 L -1.2398145052339,51.718094275966 L -1.2396806197902,51.718050251829 L -1.2393807505423,51.717804647499 L -1.2391150778941,51.717764265597 L -1.2385516919701,51.717867614312 L -1.2382300823763,51.717882614197 L -1.2377364976231,51.718052946998 L -1.2374472282094,51.718038483117 L -1.2373675189843,51.717957943378 L -1.2372693456235,51.717770287189 L -1.2373730556691,51.71754258074 L -1.2374884869576,51.717134224863 L -1.2373638276384,51.716886155131 L -1.2371045198315,51.716037490925 L -1.2369035095071,51.715681928486 L -1.2368072542916,51.715552727817 L -1.2362876553455,51.715463935797 L -1.2359275427013,51.715273677214 L -1.2355465791944,51.714946613923 L -1.2352847995177,51.714590653406 L -1.2352394640321,51.71444649741 z\" /></g></svg>"
      ],
      "text/plain": [
       "<shapely.geometry.polygon.Polygon at 0x7fde00476a00>"
      ]
     },
     "execution_count": 139,
     "metadata": {},
     "output_type": "execute_result"
    }
   ],
   "source": [
    "boundary_shape"
   ]
  },
  {
   "cell_type": "code",
   "execution_count": 140,
   "metadata": {},
   "outputs": [
    {
     "data": {
      "text/html": [
       "<div>\n",
       "<style scoped>\n",
       "    .dataframe tbody tr th:only-of-type {\n",
       "        vertical-align: middle;\n",
       "    }\n",
       "\n",
       "    .dataframe tbody tr th {\n",
       "        vertical-align: top;\n",
       "    }\n",
       "\n",
       "    .dataframe thead th {\n",
       "        text-align: right;\n",
       "    }\n",
       "</style>\n",
       "<table border=\"1\" class=\"dataframe\">\n",
       "  <thead>\n",
       "    <tr style=\"text-align: right;\">\n",
       "      <th></th>\n",
       "      <th>index</th>\n",
       "      <th>lat</th>\n",
       "      <th>lon</th>\n",
       "      <th>Count</th>\n",
       "      <th>Coordinates</th>\n",
       "      <th>RCoordinates</th>\n",
       "      <th>voronoi_boundary</th>\n",
       "    </tr>\n",
       "  </thead>\n",
       "  <tbody>\n",
       "    <tr>\n",
       "      <th>0</th>\n",
       "      <td>a_0</td>\n",
       "      <td>51.630797</td>\n",
       "      <td>-1.286022</td>\n",
       "      <td>1</td>\n",
       "      <td>POINT (-1.28602 51.63080)</td>\n",
       "      <td>POINT (51.630797 -1.286022)</td>\n",
       "      <td>MULTIPOLYGON (((-1.36867 51.68291, -1.36332 51...</td>\n",
       "    </tr>\n",
       "    <tr>\n",
       "      <th>1</th>\n",
       "      <td>a_1</td>\n",
       "      <td>51.750255</td>\n",
       "      <td>-1.297888</td>\n",
       "      <td>1</td>\n",
       "      <td>POINT (-1.29789 51.75026)</td>\n",
       "      <td>POINT (51.750255 -1.297888)</td>\n",
       "      <td>POLYGON ((-1.22909 51.69677, -1.35152 51.68461...</td>\n",
       "    </tr>\n",
       "    <tr>\n",
       "      <th>2</th>\n",
       "      <td>a_2</td>\n",
       "      <td>51.775622</td>\n",
       "      <td>-1.313453</td>\n",
       "      <td>1</td>\n",
       "      <td>POINT (-1.31345 51.77562)</td>\n",
       "      <td>POINT (51.775622 -1.313453)</td>\n",
       "      <td>MULTIPOLYGON (((-1.29995 51.76645, -1.36873 51...</td>\n",
       "    </tr>\n",
       "  </tbody>\n",
       "</table>\n",
       "</div>"
      ],
      "text/plain": [
       "  index        lat       lon  Count                Coordinates  \\\n",
       "0   a_0  51.630797 -1.286022      1  POINT (-1.28602 51.63080)   \n",
       "1   a_1  51.750255 -1.297888      1  POINT (-1.29789 51.75026)   \n",
       "2   a_2  51.775622 -1.313453      1  POINT (-1.31345 51.77562)   \n",
       "\n",
       "                  RCoordinates  \\\n",
       "0  POINT (51.630797 -1.286022)   \n",
       "1  POINT (51.750255 -1.297888)   \n",
       "2  POINT (51.775622 -1.313453)   \n",
       "\n",
       "                                    voronoi_boundary  \n",
       "0  MULTIPOLYGON (((-1.36867 51.68291, -1.36332 51...  \n",
       "1  POLYGON ((-1.22909 51.69677, -1.35152 51.68461...  \n",
       "2  MULTIPOLYGON (((-1.29995 51.76645, -1.36873 51...  "
      ]
     },
     "execution_count": 140,
     "metadata": {},
     "output_type": "execute_result"
    }
   ],
   "source": [
    "gdf['voronoi_boundary'] = poly_shapes\n",
    "\n",
    "gdf = gdf.set_geometry('voronoi_boundary')\n",
    "\n",
    "gdf.head()"
   ]
  },
  {
   "cell_type": "code",
   "execution_count": 142,
   "metadata": {},
   "outputs": [
    {
     "data": {
      "image/png": "[encoded data removed]",
      "text/plain": [
       "<Figure size 432x288 with 1 Axes>"
      ]
     },
     "metadata": {
      "needs_background": "light"
     },
     "output_type": "display_data"
    }
   ],
   "source": [
    "from descartes import PolygonPatch\n",
    "\n",
    "ax = gdf.plot(column='Count', cmap='OrRd')\n",
    "ax.add_patch(PolygonPatch(boundary_shape,fill=False))\n",
    "\n",
    "gdf = gdf.set_geometry('Coordinates')\n",
    "gdf[gdf['Count']>0].plot( ax=ax, markersize=1, c='b', marker='o')\n",
    "ax.axis('off');"
   ]
  },
  {
   "cell_type": "code",
   "execution_count": 146,
   "metadata": {},
   "outputs": [],
   "source": [
    "import json\n",
    "from geojson_rewind import rewind\n",
    "\n",
    "gdf = gdf.set_geometry('voronoi_boundary')\n",
    "rewoundGeoJSON = rewind( json.dumps(gdf.set_index('index')['voronoi_boundary'].__geo_interface__) )"
   ]
  },
  {
   "cell_type": "code",
   "execution_count": 148,
   "metadata": {},
   "outputs": [
    {
     "ename": "AttributeError",
     "evalue": "module 'folium' has no attribute 'Choropleth'",
     "output_type": "error",
     "traceback": [
      "\u001b[0;31m---------------------------------------------------------------------------\u001b[0m",
      "\u001b[0;31mAttributeError\u001b[0m                            Traceback (most recent call last)",
      "\u001b[0;32m<ipython-input-148-e8670c2cb2ac>\u001b[0m in \u001b[0;36m<module>\u001b[0;34m\u001b[0m\n\u001b[1;32m      3\u001b[0m \u001b[0;34m\u001b[0m\u001b[0m\n\u001b[1;32m      4\u001b[0m \u001b[0mm\u001b[0m \u001b[0;34m=\u001b[0m  \u001b[0mfolium\u001b[0m\u001b[0;34m.\u001b[0m\u001b[0mMap\u001b[0m\u001b[0;34m(\u001b[0m\u001b[0mzoom_start\u001b[0m\u001b[0;34m=\u001b[0m\u001b[0;36m12\u001b[0m\u001b[0;34m,\u001b[0m \u001b[0mlocation\u001b[0m\u001b[0;34m=\u001b[0m\u001b[0mgdf\u001b[0m\u001b[0;34m.\u001b[0m\u001b[0miloc\u001b[0m\u001b[0;34m[\u001b[0m\u001b[0;36m0\u001b[0m\u001b[0;34m]\u001b[0m\u001b[0;34m[\u001b[0m\u001b[0;34m[\u001b[0m\u001b[0;34m'lat'\u001b[0m\u001b[0;34m,\u001b[0m\u001b[0;34m'lon'\u001b[0m\u001b[0;34m]\u001b[0m\u001b[0;34m]\u001b[0m\u001b[0;34m.\u001b[0m\u001b[0mtolist\u001b[0m\u001b[0;34m(\u001b[0m\u001b[0;34m)\u001b[0m \u001b[0;34m)\u001b[0m\u001b[0;34m\u001b[0m\u001b[0;34m\u001b[0m\u001b[0m\n\u001b[0;32m----> 5\u001b[0;31m folium.Choropleth(rewoundGeoJSON,#gdf[['index','Count','voronoi_boundary']],\n\u001b[0m\u001b[1;32m      6\u001b[0m                   \u001b[0mkey_on\u001b[0m\u001b[0;34m=\u001b[0m\u001b[0;34m'id'\u001b[0m\u001b[0;34m,\u001b[0m\u001b[0;34m\u001b[0m\u001b[0;34m\u001b[0m\u001b[0m\n\u001b[1;32m      7\u001b[0m                   \u001b[0mdata\u001b[0m\u001b[0;34m=\u001b[0m\u001b[0mgdf\u001b[0m\u001b[0;34m,\u001b[0m\u001b[0;34m\u001b[0m\u001b[0;34m\u001b[0m\u001b[0m\n",
      "\u001b[0;31mAttributeError\u001b[0m: module 'folium' has no attribute 'Choropleth'"
     ]
    }
   ],
   "source": [
    "def addMarker(m,row):\n",
    "    folium.Circle([row['lat'], row['lon']], radius=1, color='red').add_to(m)\n",
    "    \n",
    "m =  folium.Map(zoom_start=12, location=gdf.iloc[0][['lat','lon']].tolist() )\n",
    "folium.Choropleth(rewoundGeoJSON,#gdf[['index','Count','voronoi_boundary']],\n",
    "                  key_on='id',\n",
    "                  data=gdf, \n",
    "                  columns=['index','Count'],\n",
    "            fill_color='YlOrBr').add_to(m)\n",
    "\n",
    "#for i, r in gdf.iterrows():\n",
    "#    folium.Circle([r['lat'], r['lon']], radius=1, color='red').add_to(m)\n",
    "gdf.apply(lambda x: addMarker(m,x), axis=1)\n",
    "m"
   ]
  },
  {
   "cell_type": "code",
   "execution_count": 26,
   "metadata": {},
   "outputs": [
    {
     "ename": "NameError",
     "evalue": "name 'createFoliumMap' is not defined",
     "output_type": "error",
     "traceback": [
      "\u001b[0;31m---------------------------------------------------------------------------\u001b[0m",
      "\u001b[0;31mNameError\u001b[0m                                 Traceback (most recent call last)",
      "\u001b[0;32m<ipython-input-26-50f1b2384229>\u001b[0m in \u001b[0;36m<module>\u001b[0;34m\u001b[0m\n\u001b[0;32m----> 1\u001b[0;31m \u001b[0mm\u001b[0m \u001b[0;34m=\u001b[0m \u001b[0mcreateFoliumMap\u001b[0m\u001b[0;34m(\u001b[0m\u001b[0mboundary\u001b[0m\u001b[0;34m)\u001b[0m\u001b[0;34m\u001b[0m\u001b[0;34m\u001b[0m\u001b[0m\n\u001b[0m\u001b[1;32m      2\u001b[0m \u001b[0;32mfor\u001b[0m \u001b[0mp\u001b[0m \u001b[0;32min\u001b[0m \u001b[0mpoints_to_coords\u001b[0m\u001b[0;34m(\u001b[0m\u001b[0mgdf\u001b[0m\u001b[0;34m.\u001b[0m\u001b[0mCoordinates\u001b[0m\u001b[0;34m)\u001b[0m\u001b[0;34m:\u001b[0m\u001b[0;34m\u001b[0m\u001b[0;34m\u001b[0m\u001b[0m\n\u001b[1;32m      3\u001b[0m     \u001b[0mfolium\u001b[0m\u001b[0;34m.\u001b[0m\u001b[0mCircle\u001b[0m\u001b[0;34m(\u001b[0m\u001b[0;34m[\u001b[0m\u001b[0mp\u001b[0m\u001b[0;34m[\u001b[0m\u001b[0;36m1\u001b[0m\u001b[0;34m]\u001b[0m\u001b[0;34m,\u001b[0m\u001b[0mp\u001b[0m\u001b[0;34m[\u001b[0m\u001b[0;36m0\u001b[0m\u001b[0;34m]\u001b[0m\u001b[0;34m]\u001b[0m\u001b[0;34m,\u001b[0m \u001b[0mradius\u001b[0m\u001b[0;34m=\u001b[0m\u001b[0;36m1\u001b[0m\u001b[0;34m,\u001b[0m \u001b[0mcolor\u001b[0m\u001b[0;34m=\u001b[0m\u001b[0;34m'red'\u001b[0m\u001b[0;34m)\u001b[0m\u001b[0;34m.\u001b[0m\u001b[0madd_to\u001b[0m\u001b[0;34m(\u001b[0m\u001b[0mm\u001b[0m\u001b[0;34m)\u001b[0m\u001b[0;34m\u001b[0m\u001b[0;34m\u001b[0m\u001b[0m\n\u001b[1;32m      4\u001b[0m \u001b[0mm\u001b[0m\u001b[0;34m\u001b[0m\u001b[0;34m\u001b[0m\u001b[0m\n",
      "\u001b[0;31mNameError\u001b[0m: name 'createFoliumMap' is not defined"
     ]
    }
   ],
   "source": [
    "m = createFoliumMap(boundary)\n",
    "for p in points_to_coords(gdf.Coordinates):\n",
    "    folium.Circle([p[1],p[0]], radius=1, color='red').add_to(m)\n",
    "m"
   ]
  },
  {
   "cell_type": "code",
   "execution_count": 150,
   "metadata": {},
   "outputs": [
    {
     "name": "stdout",
     "output_type": "stream",
     "text": [
      "https://geojson.net/#12/51.630797/-1.286022\n"
     ]
    }
   ],
   "source": [
    "example_coords = gdf[['lat','lon']].iloc[0].values\n",
    "print('https://geojson.net/#12/{}/{}'.format(example_coords[0],example_coords[1]))"
   ]
  },
  {
   "cell_type": "code",
   "execution_count": null,
   "metadata": {},
   "outputs": [],
   "source": [
    "#Paste your JSON data below so we can assign it to the jsondata variable\n",
    "jsondata='''\n",
    "{\n",
    "  \"type\": \"FeatureCollection\",\n",
    "  \"features\": [\n",
    "    {\n",
    "      \"type\": \"Feature\",\n",
    "      \"properties\": {},\n",
    "      \"geometry\": {\n",
    "        \"type\": \"Polygon\",\n",
    "        \"coordinates\": [\n",
    "          [\n",
    "            [-0.960474, 51.165091],\n",
    "            [-0.988426, 51.154801],\n",
    "            [-1.007309, 51.141879],\n",
    "            [-0.971955, 51.135133],\n",
    "            [-0.945854, 51.151786],\n",
    "            [-0.960474, 51.165091]\n",
    "          ]\n",
    "        ]\n",
    "      }\n",
    "    }\n",
    "  ]\n",
    "}\n",
    "'''"
   ]
  }
 ],
 "metadata": {
  "kernelspec": {
   "display_name": "Python 3",
   "language": "python",
   "name": "python3"
  },
  "language_info": {
   "codemirror_mode": {
    "name": "ipython",
    "version": 3
   },
   "file_extension": ".py",
   "mimetype": "text/x-python",
   "name": "python",
   "nbconvert_exporter": "python",
   "pygments_lexer": "ipython3",
   "version": "3.8.3"
  }
 },
 "nbformat": 4,
 "nbformat_minor": 4
}
