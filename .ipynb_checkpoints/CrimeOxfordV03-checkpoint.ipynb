{
 "cells": [
  {
   "cell_type": "code",
   "execution_count": 1,
   "metadata": {},
   "outputs": [],
   "source": [
    "import time\n",
    "import numpy as np  # data vectors\n",
    "import pandas as pd # data analysis\n",
    "from collections import Counter\n",
    "from pandas.io.json import json_normalize # transform json into pandas dataframe\n",
    "import matplotlib.cm as cm #plotting\n",
    "import matplotlib.colors as colors\n",
    "import matplotlib.pyplot as py\n",
    "import json\n",
    "import requests\n",
    "from geopy.geocoders import Nominatim #get lat and long\n",
    "from sklearn.cluster import KMeans #clustering\n",
    "import folium #visualise map"
   ]
  },
  {
   "cell_type": "markdown",
   "metadata": {},
   "source": [
    "### 1.Create Dataframe "
   ]
  },
  {
   "cell_type": "code",
   "execution_count": 2,
   "metadata": {},
   "outputs": [
    {
     "output_type": "error",
     "ename": "FileNotFoundError",
     "evalue": "[Errno 2] File Battle of Neighborhoods/ThamesValleyCRIMEDATA.csv does not exist: 'Battle of Neighborhoods/ThamesValleyCRIMEDATA.csv'",
     "traceback": [
      "\u001b[0;31m---------------------------------------------------------------------------\u001b[0m",
      "\u001b[0;31mFileNotFoundError\u001b[0m                         Traceback (most recent call last)",
      "\u001b[0;32m<ipython-input-2-33330b99d619>\u001b[0m in \u001b[0;36m<module>\u001b[0;34m\u001b[0m\n\u001b[0;32m----> 1\u001b[0;31m \u001b[0mCSV\u001b[0m \u001b[0;34m=\u001b[0m \u001b[0mpd\u001b[0m\u001b[0;34m.\u001b[0m\u001b[0mread_csv\u001b[0m\u001b[0;34m(\u001b[0m\u001b[0;34m\"Battle of Neighborhoods/ThamesValleyCRIMEDATA.csv\"\u001b[0m\u001b[0;34m)\u001b[0m\u001b[0;34m\u001b[0m\u001b[0;34m\u001b[0m\u001b[0m\n\u001b[0m",
      "\u001b[0;32m~/opt/anaconda3/lib/python3.8/site-packages/pandas/io/parsers.py\u001b[0m in \u001b[0;36mparser_f\u001b[0;34m(filepath_or_buffer, sep, delimiter, header, names, index_col, usecols, squeeze, prefix, mangle_dupe_cols, dtype, engine, converters, true_values, false_values, skipinitialspace, skiprows, skipfooter, nrows, na_values, keep_default_na, na_filter, verbose, skip_blank_lines, parse_dates, infer_datetime_format, keep_date_col, date_parser, dayfirst, cache_dates, iterator, chunksize, compression, thousands, decimal, lineterminator, quotechar, quoting, doublequote, escapechar, comment, encoding, dialect, error_bad_lines, warn_bad_lines, delim_whitespace, low_memory, memory_map, float_precision)\u001b[0m\n\u001b[1;32m    674\u001b[0m         )\n\u001b[1;32m    675\u001b[0m \u001b[0;34m\u001b[0m\u001b[0m\n\u001b[0;32m--> 676\u001b[0;31m         \u001b[0;32mreturn\u001b[0m \u001b[0m_read\u001b[0m\u001b[0;34m(\u001b[0m\u001b[0mfilepath_or_buffer\u001b[0m\u001b[0;34m,\u001b[0m \u001b[0mkwds\u001b[0m\u001b[0;34m)\u001b[0m\u001b[0;34m\u001b[0m\u001b[0;34m\u001b[0m\u001b[0m\n\u001b[0m\u001b[1;32m    677\u001b[0m \u001b[0;34m\u001b[0m\u001b[0m\n\u001b[1;32m    678\u001b[0m     \u001b[0mparser_f\u001b[0m\u001b[0;34m.\u001b[0m\u001b[0m__name__\u001b[0m \u001b[0;34m=\u001b[0m \u001b[0mname\u001b[0m\u001b[0;34m\u001b[0m\u001b[0;34m\u001b[0m\u001b[0m\n",
      "\u001b[0;32m~/opt/anaconda3/lib/python3.8/site-packages/pandas/io/parsers.py\u001b[0m in \u001b[0;36m_read\u001b[0;34m(filepath_or_buffer, kwds)\u001b[0m\n\u001b[1;32m    446\u001b[0m \u001b[0;34m\u001b[0m\u001b[0m\n\u001b[1;32m    447\u001b[0m     \u001b[0;31m# Create the parser.\u001b[0m\u001b[0;34m\u001b[0m\u001b[0;34m\u001b[0m\u001b[0;34m\u001b[0m\u001b[0m\n\u001b[0;32m--> 448\u001b[0;31m     \u001b[0mparser\u001b[0m \u001b[0;34m=\u001b[0m \u001b[0mTextFileReader\u001b[0m\u001b[0;34m(\u001b[0m\u001b[0mfp_or_buf\u001b[0m\u001b[0;34m,\u001b[0m \u001b[0;34m**\u001b[0m\u001b[0mkwds\u001b[0m\u001b[0;34m)\u001b[0m\u001b[0;34m\u001b[0m\u001b[0;34m\u001b[0m\u001b[0m\n\u001b[0m\u001b[1;32m    449\u001b[0m \u001b[0;34m\u001b[0m\u001b[0m\n\u001b[1;32m    450\u001b[0m     \u001b[0;32mif\u001b[0m \u001b[0mchunksize\u001b[0m \u001b[0;32mor\u001b[0m \u001b[0miterator\u001b[0m\u001b[0;34m:\u001b[0m\u001b[0;34m\u001b[0m\u001b[0;34m\u001b[0m\u001b[0m\n",
      "\u001b[0;32m~/opt/anaconda3/lib/python3.8/site-packages/pandas/io/parsers.py\u001b[0m in \u001b[0;36m__init__\u001b[0;34m(self, f, engine, **kwds)\u001b[0m\n\u001b[1;32m    878\u001b[0m             \u001b[0mself\u001b[0m\u001b[0;34m.\u001b[0m\u001b[0moptions\u001b[0m\u001b[0;34m[\u001b[0m\u001b[0;34m\"has_index_names\"\u001b[0m\u001b[0;34m]\u001b[0m \u001b[0;34m=\u001b[0m \u001b[0mkwds\u001b[0m\u001b[0;34m[\u001b[0m\u001b[0;34m\"has_index_names\"\u001b[0m\u001b[0;34m]\u001b[0m\u001b[0;34m\u001b[0m\u001b[0;34m\u001b[0m\u001b[0m\n\u001b[1;32m    879\u001b[0m \u001b[0;34m\u001b[0m\u001b[0m\n\u001b[0;32m--> 880\u001b[0;31m         \u001b[0mself\u001b[0m\u001b[0;34m.\u001b[0m\u001b[0m_make_engine\u001b[0m\u001b[0;34m(\u001b[0m\u001b[0mself\u001b[0m\u001b[0;34m.\u001b[0m\u001b[0mengine\u001b[0m\u001b[0;34m)\u001b[0m\u001b[0;34m\u001b[0m\u001b[0;34m\u001b[0m\u001b[0m\n\u001b[0m\u001b[1;32m    881\u001b[0m \u001b[0;34m\u001b[0m\u001b[0m\n\u001b[1;32m    882\u001b[0m     \u001b[0;32mdef\u001b[0m \u001b[0mclose\u001b[0m\u001b[0;34m(\u001b[0m\u001b[0mself\u001b[0m\u001b[0;34m)\u001b[0m\u001b[0;34m:\u001b[0m\u001b[0;34m\u001b[0m\u001b[0;34m\u001b[0m\u001b[0m\n",
      "\u001b[0;32m~/opt/anaconda3/lib/python3.8/site-packages/pandas/io/parsers.py\u001b[0m in \u001b[0;36m_make_engine\u001b[0;34m(self, engine)\u001b[0m\n\u001b[1;32m   1112\u001b[0m     \u001b[0;32mdef\u001b[0m \u001b[0m_make_engine\u001b[0m\u001b[0;34m(\u001b[0m\u001b[0mself\u001b[0m\u001b[0;34m,\u001b[0m \u001b[0mengine\u001b[0m\u001b[0;34m=\u001b[0m\u001b[0;34m\"c\"\u001b[0m\u001b[0;34m)\u001b[0m\u001b[0;34m:\u001b[0m\u001b[0;34m\u001b[0m\u001b[0;34m\u001b[0m\u001b[0m\n\u001b[1;32m   1113\u001b[0m         \u001b[0;32mif\u001b[0m \u001b[0mengine\u001b[0m \u001b[0;34m==\u001b[0m \u001b[0;34m\"c\"\u001b[0m\u001b[0;34m:\u001b[0m\u001b[0;34m\u001b[0m\u001b[0;34m\u001b[0m\u001b[0m\n\u001b[0;32m-> 1114\u001b[0;31m             \u001b[0mself\u001b[0m\u001b[0;34m.\u001b[0m\u001b[0m_engine\u001b[0m \u001b[0;34m=\u001b[0m \u001b[0mCParserWrapper\u001b[0m\u001b[0;34m(\u001b[0m\u001b[0mself\u001b[0m\u001b[0;34m.\u001b[0m\u001b[0mf\u001b[0m\u001b[0;34m,\u001b[0m \u001b[0;34m**\u001b[0m\u001b[0mself\u001b[0m\u001b[0;34m.\u001b[0m\u001b[0moptions\u001b[0m\u001b[0;34m)\u001b[0m\u001b[0;34m\u001b[0m\u001b[0;34m\u001b[0m\u001b[0m\n\u001b[0m\u001b[1;32m   1115\u001b[0m         \u001b[0;32melse\u001b[0m\u001b[0;34m:\u001b[0m\u001b[0;34m\u001b[0m\u001b[0;34m\u001b[0m\u001b[0m\n\u001b[1;32m   1116\u001b[0m             \u001b[0;32mif\u001b[0m \u001b[0mengine\u001b[0m \u001b[0;34m==\u001b[0m \u001b[0;34m\"python\"\u001b[0m\u001b[0;34m:\u001b[0m\u001b[0;34m\u001b[0m\u001b[0;34m\u001b[0m\u001b[0m\n",
      "\u001b[0;32m~/opt/anaconda3/lib/python3.8/site-packages/pandas/io/parsers.py\u001b[0m in \u001b[0;36m__init__\u001b[0;34m(self, src, **kwds)\u001b[0m\n\u001b[1;32m   1889\u001b[0m         \u001b[0mkwds\u001b[0m\u001b[0;34m[\u001b[0m\u001b[0;34m\"usecols\"\u001b[0m\u001b[0;34m]\u001b[0m \u001b[0;34m=\u001b[0m \u001b[0mself\u001b[0m\u001b[0;34m.\u001b[0m\u001b[0musecols\u001b[0m\u001b[0;34m\u001b[0m\u001b[0;34m\u001b[0m\u001b[0m\n\u001b[1;32m   1890\u001b[0m \u001b[0;34m\u001b[0m\u001b[0m\n\u001b[0;32m-> 1891\u001b[0;31m         \u001b[0mself\u001b[0m\u001b[0;34m.\u001b[0m\u001b[0m_reader\u001b[0m \u001b[0;34m=\u001b[0m \u001b[0mparsers\u001b[0m\u001b[0;34m.\u001b[0m\u001b[0mTextReader\u001b[0m\u001b[0;34m(\u001b[0m\u001b[0msrc\u001b[0m\u001b[0;34m,\u001b[0m \u001b[0;34m**\u001b[0m\u001b[0mkwds\u001b[0m\u001b[0;34m)\u001b[0m\u001b[0;34m\u001b[0m\u001b[0;34m\u001b[0m\u001b[0m\n\u001b[0m\u001b[1;32m   1892\u001b[0m         \u001b[0mself\u001b[0m\u001b[0;34m.\u001b[0m\u001b[0munnamed_cols\u001b[0m \u001b[0;34m=\u001b[0m \u001b[0mself\u001b[0m\u001b[0;34m.\u001b[0m\u001b[0m_reader\u001b[0m\u001b[0;34m.\u001b[0m\u001b[0munnamed_cols\u001b[0m\u001b[0;34m\u001b[0m\u001b[0;34m\u001b[0m\u001b[0m\n\u001b[1;32m   1893\u001b[0m \u001b[0;34m\u001b[0m\u001b[0m\n",
      "\u001b[0;32mpandas/_libs/parsers.pyx\u001b[0m in \u001b[0;36mpandas._libs.parsers.TextReader.__cinit__\u001b[0;34m()\u001b[0m\n",
      "\u001b[0;32mpandas/_libs/parsers.pyx\u001b[0m in \u001b[0;36mpandas._libs.parsers.TextReader._setup_parser_source\u001b[0;34m()\u001b[0m\n",
      "\u001b[0;31mFileNotFoundError\u001b[0m: [Errno 2] File Battle of Neighborhoods/ThamesValleyCRIMEDATA.csv does not exist: 'Battle of Neighborhoods/ThamesValleyCRIMEDATA.csv'"
     ]
    }
   ],
   "source": [
    "\n",
    "CSV = pd.read_csv(\"Battle of Neighborhoods/ThamesValleyCRIMEDATA.csv\")"
   ]
  },
  {
   "cell_type": "code",
   "execution_count": 165,
   "metadata": {},
   "outputs": [
    {
     "data": {
      "text/html": [
       "<div>\n",
       "<style scoped>\n",
       "    .dataframe tbody tr th:only-of-type {\n",
       "        vertical-align: middle;\n",
       "    }\n",
       "\n",
       "    .dataframe tbody tr th {\n",
       "        vertical-align: top;\n",
       "    }\n",
       "\n",
       "    .dataframe thead th {\n",
       "        text-align: right;\n",
       "    }\n",
       "</style>\n",
       "<table border=\"1\" class=\"dataframe\">\n",
       "  <thead>\n",
       "    <tr style=\"text-align: right;\">\n",
       "      <th></th>\n",
       "      <th>Crime ID</th>\n",
       "      <th>Month</th>\n",
       "      <th>Reported by</th>\n",
       "      <th>Falls within</th>\n",
       "      <th>Longitude</th>\n",
       "      <th>Latitude</th>\n",
       "      <th>Location</th>\n",
       "      <th>LSOA code</th>\n",
       "      <th>LSOA name</th>\n",
       "      <th>Crime type</th>\n",
       "      <th>Count</th>\n",
       "    </tr>\n",
       "  </thead>\n",
       "  <tbody>\n",
       "    <tr>\n",
       "      <th>0</th>\n",
       "      <td>3d294010dbca88ade8b95964f03d79dae86cbece156e32...</td>\n",
       "      <td>2019-08</td>\n",
       "      <td>Thames Valley Police</td>\n",
       "      <td>Thames Valley Police</td>\n",
       "      <td>-1.327884</td>\n",
       "      <td>51.753488</td>\n",
       "      <td>On or near Eynsham Road</td>\n",
       "      <td>E01028708</td>\n",
       "      <td>Vale of White Horse 001A</td>\n",
       "      <td>Violence and sexual offences</td>\n",
       "      <td>1</td>\n",
       "    </tr>\n",
       "    <tr>\n",
       "      <th>1</th>\n",
       "      <td>dbcbf4f976221e1e202c7019f2803f9ba80a8e1c8881d9...</td>\n",
       "      <td>2019-08</td>\n",
       "      <td>Thames Valley Police</td>\n",
       "      <td>Thames Valley Police</td>\n",
       "      <td>-1.308601</td>\n",
       "      <td>51.748808</td>\n",
       "      <td>On or near Third Acre Rise</td>\n",
       "      <td>E01028709</td>\n",
       "      <td>Vale of White Horse 001B</td>\n",
       "      <td>Burglary</td>\n",
       "      <td>1</td>\n",
       "    </tr>\n",
       "    <tr>\n",
       "      <th>2</th>\n",
       "      <td>95569239a93eb375ef1a30f147975303c0aaa322755be2...</td>\n",
       "      <td>2019-08</td>\n",
       "      <td>Thames Valley Police</td>\n",
       "      <td>Thames Valley Police</td>\n",
       "      <td>-1.312464</td>\n",
       "      <td>51.750027</td>\n",
       "      <td>On or near Grange Court</td>\n",
       "      <td>E01028709</td>\n",
       "      <td>Vale of White Horse 001B</td>\n",
       "      <td>Violence and sexual offences</td>\n",
       "      <td>1</td>\n",
       "    </tr>\n",
       "    <tr>\n",
       "      <th>3</th>\n",
       "      <td>cdb82cca5ab21305455295afad2e04a4f2b4b2066d2709...</td>\n",
       "      <td>2019-08</td>\n",
       "      <td>Thames Valley Police</td>\n",
       "      <td>Thames Valley Police</td>\n",
       "      <td>-1.307831</td>\n",
       "      <td>51.741359</td>\n",
       "      <td>On or near Barn Close</td>\n",
       "      <td>E01028710</td>\n",
       "      <td>Vale of White Horse 001C</td>\n",
       "      <td>Other theft</td>\n",
       "      <td>1</td>\n",
       "    </tr>\n",
       "    <tr>\n",
       "      <th>4</th>\n",
       "      <td>f94e1c275753292c47a748c7241c75beb667817009ef96...</td>\n",
       "      <td>2019-08</td>\n",
       "      <td>Thames Valley Police</td>\n",
       "      <td>Thames Valley Police</td>\n",
       "      <td>-1.308480</td>\n",
       "      <td>51.742487</td>\n",
       "      <td>On or near Delamare Way</td>\n",
       "      <td>E01028710</td>\n",
       "      <td>Vale of White Horse 001C</td>\n",
       "      <td>Public order</td>\n",
       "      <td>1</td>\n",
       "    </tr>\n",
       "  </tbody>\n",
       "</table>\n",
       "</div>"
      ],
      "text/plain": [
       "                                            Crime ID    Month  \\\n",
       "0  3d294010dbca88ade8b95964f03d79dae86cbece156e32...  2019-08   \n",
       "1  dbcbf4f976221e1e202c7019f2803f9ba80a8e1c8881d9...  2019-08   \n",
       "2  95569239a93eb375ef1a30f147975303c0aaa322755be2...  2019-08   \n",
       "3  cdb82cca5ab21305455295afad2e04a4f2b4b2066d2709...  2019-08   \n",
       "4  f94e1c275753292c47a748c7241c75beb667817009ef96...  2019-08   \n",
       "\n",
       "            Reported by          Falls within  Longitude   Latitude  \\\n",
       "0  Thames Valley Police  Thames Valley Police  -1.327884  51.753488   \n",
       "1  Thames Valley Police  Thames Valley Police  -1.308601  51.748808   \n",
       "2  Thames Valley Police  Thames Valley Police  -1.312464  51.750027   \n",
       "3  Thames Valley Police  Thames Valley Police  -1.307831  51.741359   \n",
       "4  Thames Valley Police  Thames Valley Police  -1.308480  51.742487   \n",
       "\n",
       "                     Location  LSOA code                 LSOA name  \\\n",
       "0     On or near Eynsham Road  E01028708  Vale of White Horse 001A   \n",
       "1  On or near Third Acre Rise  E01028709  Vale of White Horse 001B   \n",
       "2     On or near Grange Court  E01028709  Vale of White Horse 001B   \n",
       "3       On or near Barn Close  E01028710  Vale of White Horse 001C   \n",
       "4     On or near Delamare Way  E01028710  Vale of White Horse 001C   \n",
       "\n",
       "                     Crime type  Count  \n",
       "0  Violence and sexual offences      1  \n",
       "1                      Burglary      1  \n",
       "2  Violence and sexual offences      1  \n",
       "3                   Other theft      1  \n",
       "4                  Public order      1  "
      ]
     },
     "execution_count": 165,
     "metadata": {},
     "output_type": "execute_result"
    }
   ],
   "source": [
    "CSV.head()"
   ]
  },
  {
   "cell_type": "code",
   "execution_count": 230,
   "metadata": {},
   "outputs": [
    {
     "name": "stdout",
     "output_type": "stream",
     "text": [
      "Vale of White Horse 002A    12\n",
      "Vale of White Horse 010C    12\n",
      "Vale of White Horse 010A     5\n",
      "Vale of White Horse 007A     4\n",
      "Vale of White Horse 010E     3\n",
      "Vale of White Horse 001C     3\n",
      "Name: LSOA name, dtype: int64\n"
     ]
    },
    {
     "data": {
      "text/plain": [
       "'Vale of White Horse 002A'"
      ]
     },
     "execution_count": 230,
     "metadata": {},
     "output_type": "execute_result"
    }
   ],
   "source": [
    "df_abiC = CSV[CSV['Location'].str.contains('Abingdon')].reset_index(drop=True)\n",
    "print(df_abiC['LSOA name'].value_counts())\n",
    "df_abiC.head()\n"
   ]
  },
  {
   "cell_type": "markdown",
   "metadata": {},
   "source": [
    "#### Use geopy library to get the latitude and longitude values of Abingdon."
   ]
  },
  {
   "cell_type": "markdown",
   "metadata": {},
   "source": [
    "In order to define an instance of the geocoder, we need to define a user_agent. We will name our agent <em>abi_explorer</em>, as shown below."
   ]
  },
  {
   "cell_type": "code",
   "execution_count": 206,
   "metadata": {},
   "outputs": [
    {
     "name": "stdout",
     "output_type": "stream",
     "text": [
      "The geograpical coordinates of Abingdon-on-Thames, United Kingdom are 51.6714842, -1.2779715.\n"
     ]
    }
   ],
   "source": [
    "address = 'Abingdon-on-Thames, United Kingdom'\n",
    "\n",
    "geolocator = Nominatim(user_agent=\"abi_explorer\")\n",
    "location = geolocator.geocode(address)\n",
    "latitude = location.latitude\n",
    "longitude = location.longitude\n",
    "print('The geograpical coordinates of Abingdon-on-Thames, United Kingdom are {}, {}.'.format(latitude, longitude))"
   ]
  },
  {
   "cell_type": "code",
   "execution_count": 156,
   "metadata": {},
   "outputs": [
    {
     "data": {
      "text/plain": [
       "[[51.542968, -1.2570000000000001, 3.0], [51.555739, -1.511144, 3.0]]"
      ]
     },
     "execution_count": 156,
     "metadata": {},
     "output_type": "execute_result"
    }
   ],
   "source": [
    "Map2 = CSV.groupby(['Latitude','Longitude']).size().reset_index().values.tolist()\n",
    "Map2[:2]"
   ]
  },
  {
   "cell_type": "markdown",
   "metadata": {},
   "source": [
    " Generate maps to visualize the neighborhood of interest and how they cluster together"
   ]
  },
  {
   "cell_type": "code",
   "execution_count": 222,
   "metadata": {},
   "outputs": [
    {
     "data": {
      "text/html": [
       "<div style=\"width:100%;\"><div style=\"position:relative;width:100%;height:0;padding-bottom:60%;\"><span style=\"color:#565656\">Make this Notebook Trusted to load map: File -> Trust Notebook</span><iframe src=\"about:blank\" style=\"position:absolute;width:100%;height:100%;left:0;top:0;border:none !important;\" data-html=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 onload=\"this.contentDocument.open();this.contentDocument.write(atob(this.getAttribute('data-html')));this.contentDocument.close();\" allowfullscreen webkitallowfullscreen mozallowfullscreen></iframe></div></div>"
      ],
      "text/plain": [
       "<folium.folium.Map at 0x7fe531c4ba30>"
      ]
     },
     "execution_count": 222,
     "metadata": {},
     "output_type": "execute_result"
    }
   ],
   "source": [
    "from folium.plugins import HeatMap\n",
    "\n",
    "m2 = folium.Map(Map2[0][:2], zoom_start=10)\n",
    "\n",
    "HeatMap(Map2).add_to(m2)\n",
    "m2"
   ]
  },
  {
   "cell_type": "markdown",
   "metadata": {},
   "source": [
    "#### Define Foursquare Credentials and Version"
   ]
  },
  {
   "cell_type": "code",
   "execution_count": 223,
   "metadata": {},
   "outputs": [
    {
     "name": "stdout",
     "output_type": "stream",
     "text": [
      "Your credentails:\n",
      "CLIENT_ID: GOI03BVANIMQZ54ZM0T5XJTFQSHWG43CDOWVLGVKDZFRXMUA\n",
      "CLIENT_SECRET:G5CADWKCNYVXYY54Z1ARDUINRHBAKSCAHFCV3HMPH00BVUZH\n"
     ]
    }
   ],
   "source": [
    "CLIENT_ID = 'GOI03BVANIMQZ54ZM0T5XJTFQSHWG43CDOWVLGVKDZFRXMUA' # your Foursquare ID\n",
    "CLIENT_SECRET = 'G5CADWKCNYVXYY54Z1ARDUINRHBAKSCAHFCV3HMPH00BVUZH' # your Foursquare Secret\n",
    "VERSION = '20180604' # Foursquare API version\n",
    "LIMIT = 100 # A default Foursquare API limit value\n",
    "\n",
    "print('Your credentails:')\n",
    "print('CLIENT_ID: ' + CLIENT_ID)\n",
    "print('CLIENT_SECRET:' + CLIENT_SECRET)"
   ]
  },
  {
   "cell_type": "code",
   "execution_count": 231,
   "metadata": {},
   "outputs": [
    {
     "data": {
      "text/plain": [
       "'Vale of White Horse 002A'"
      ]
     },
     "execution_count": 231,
     "metadata": {},
     "output_type": "execute_result"
    }
   ],
   "source": [
    "df_abiC.loc[0, 'LSOA name']"
   ]
  },
  {
   "cell_type": "code",
   "execution_count": 232,
   "metadata": {},
   "outputs": [
    {
     "name": "stdout",
     "output_type": "stream",
     "text": [
      "Latitude and longitude values of Vale of White Horse 002A are 51.729093, -1.254532.\n"
     ]
    }
   ],
   "source": [
    "neighborhood_latitude = df_abiC.loc[0, 'Latitude'] # neighborhood latitude value\n",
    "neighborhood_longitude = df_abiC.loc[0, 'Longitude'] # neighborhood longitude value\n",
    "\n",
    "neighborhood_name = df_abiC.loc[0, 'LSOA name'] # neighborhood name\n",
    "\n",
    "print('Latitude and longitude values of {} are {}, {}.'.format(neighborhood_name, \n",
    "                                                               neighborhood_latitude, \n",
    "                                                               neighborhood_longitude))"
   ]
  },
  {
   "cell_type": "code",
   "execution_count": 233,
   "metadata": {},
   "outputs": [
    {
     "data": {
      "text/plain": [
       "'https://api.foursquare.com/v2/venues/explore?&client_id=GOI03BVANIMQZ54ZM0T5XJTFQSHWG43CDOWVLGVKDZFRXMUA&client_secret=G5CADWKCNYVXYY54Z1ARDUINRHBAKSCAHFCV3HMPH00BVUZH&v=20180604&ll=51.729093,-1.254532&radius=500&limit=100'"
      ]
     },
     "execution_count": 233,
     "metadata": {},
     "output_type": "execute_result"
    }
   ],
   "source": [
    "LIMIT = 100 # limit of number of venues returned by Foursquare API\n",
    "radius = 500 # define radius\n",
    " # create URL\n",
    "url = 'https://api.foursquare.com/v2/venues/explore?&client_id={}&client_secret={}&v={}&ll={},{}&radius={}&limit={}'.format(\n",
    "    CLIENT_ID, \n",
    "    CLIENT_SECRET, \n",
    "    VERSION, \n",
    "    neighborhood_latitude, \n",
    "    neighborhood_longitude, \n",
    "    radius, \n",
    "    LIMIT)\n",
    "url # display URL"
   ]
  },
  {
   "cell_type": "code",
   "execution_count": 234,
   "metadata": {},
   "outputs": [
    {
     "data": {
      "text/plain": [
       "{'meta': {'code': 200, 'requestId': '5f92134460d0572b91e17459'},\n",
       " 'response': {'headerLocation': 'South Hinksey',\n",
       "  'headerFullLocation': 'South Hinksey',\n",
       "  'headerLocationGranularity': 'city',\n",
       "  'totalResults': 4,\n",
       "  'suggestedBounds': {'ne': {'lat': 51.7335930045, 'lng': -1.2472802335730881},\n",
       "   'sw': {'lat': 51.7245929955, 'lng': -1.2617837664269118}},\n",
       "  'groups': [{'type': 'Recommended Places',\n",
       "    'name': 'recommended',\n",
       "    'items': [{'reasons': {'count': 0,\n",
       "       'items': [{'summary': 'This spot is popular',\n",
       "         'type': 'general',\n",
       "         'reasonName': 'globalInteractionReason'}]},\n",
       "      'venue': {'id': '4dd8e933d22d38ef430c6a32',\n",
       "       'name': 'GO Outdoors',\n",
       "       'location': {'address': '426 Abingdon Road',\n",
       "        'lat': 51.7316112,\n",
       "        'lng': -1.2546855,\n",
       "        'labeledLatLngs': [{'label': 'display',\n",
       "          'lat': 51.7316112,\n",
       "          'lng': -1.2546855}],\n",
       "        'distance': 280,\n",
       "        'postalCode': 'OX1 4XN',\n",
       "        'cc': 'GB',\n",
       "        'city': 'Oxford',\n",
       "        'state': 'Oxfordshire',\n",
       "        'country': 'United Kingdom',\n",
       "        'formattedAddress': ['426 Abingdon Road',\n",
       "         'Oxford',\n",
       "         'Oxfordshire',\n",
       "         'OX1 4XN',\n",
       "         'United Kingdom']},\n",
       "       'categories': [{'id': '52f2ab2ebcbc57f1066b8b22',\n",
       "         'name': 'Outdoor Supply Store',\n",
       "         'pluralName': 'Outdoor Supply Stores',\n",
       "         'shortName': 'Outdoor Supplies',\n",
       "         'icon': {'prefix': 'https://ss3.4sqi.net/img/categories_v2/shops/default_',\n",
       "          'suffix': '.png'},\n",
       "         'primary': True}],\n",
       "       'photos': {'count': 0, 'groups': []}},\n",
       "      'referralId': 'e-0-4dd8e933d22d38ef430c6a32-0'},\n",
       "     {'reasons': {'count': 0,\n",
       "       'items': [{'summary': 'This spot is popular',\n",
       "         'type': 'general',\n",
       "         'reasonName': 'globalInteractionReason'}]},\n",
       "      'venue': {'id': '56758dc1498e64d8f3d7a138',\n",
       "       'name': 'Travelodge',\n",
       "       'location': {'address': 'Abingdon Road',\n",
       "        'lat': 51.73148889843218,\n",
       "        'lng': -1.2492835158082076,\n",
       "        'labeledLatLngs': [{'label': 'display',\n",
       "          'lat': 51.73148889843218,\n",
       "          'lng': -1.2492835158082076}],\n",
       "        'distance': 449,\n",
       "        'cc': 'GB',\n",
       "        'city': 'Oxford',\n",
       "        'state': 'Oxfordshire',\n",
       "        'country': 'United Kingdom',\n",
       "        'formattedAddress': ['Abingdon Road',\n",
       "         'Oxford',\n",
       "         'Oxfordshire',\n",
       "         'United Kingdom']},\n",
       "       'categories': [{'id': '4bf58dd8d48988d1fa931735',\n",
       "         'name': 'Hotel',\n",
       "         'pluralName': 'Hotels',\n",
       "         'shortName': 'Hotel',\n",
       "         'icon': {'prefix': 'https://ss3.4sqi.net/img/categories_v2/travel/hotel_',\n",
       "          'suffix': '.png'},\n",
       "         'primary': True}],\n",
       "       'photos': {'count': 0, 'groups': []}},\n",
       "      'referralId': 'e-0-56758dc1498e64d8f3d7a138-1'},\n",
       "     {'reasons': {'count': 0,\n",
       "       'items': [{'summary': 'This spot is popular',\n",
       "         'type': 'general',\n",
       "         'reasonName': 'globalInteractionReason'}]},\n",
       "      'venue': {'id': '4e42a9aa45dd4a1e043cd942',\n",
       "       'name': 'Camping and Caravanning Club Site',\n",
       "       'location': {'address': '426 Abingdon Road',\n",
       "        'lat': 51.73206211824589,\n",
       "        'lng': -1.251512361953672,\n",
       "        'labeledLatLngs': [{'label': 'display',\n",
       "          'lat': 51.73206211824589,\n",
       "          'lng': -1.251512361953672}],\n",
       "        'distance': 390,\n",
       "        'postalCode': 'OX1 4XG',\n",
       "        'cc': 'GB',\n",
       "        'city': 'Oxford',\n",
       "        'state': 'Oxfordshire',\n",
       "        'country': 'United Kingdom',\n",
       "        'formattedAddress': ['426 Abingdon Road',\n",
       "         'Oxford',\n",
       "         'Oxfordshire',\n",
       "         'OX1 4XG',\n",
       "         'United Kingdom']},\n",
       "       'categories': [{'id': '4bf58dd8d48988d1e4941735',\n",
       "         'name': 'Campground',\n",
       "         'pluralName': 'Campgrounds',\n",
       "         'shortName': 'Campground',\n",
       "         'icon': {'prefix': 'https://ss3.4sqi.net/img/categories_v2/parks_outdoors/campground_',\n",
       "          'suffix': '.png'},\n",
       "         'primary': True}],\n",
       "       'photos': {'count': 0, 'groups': []}},\n",
       "      'referralId': 'e-0-4e42a9aa45dd4a1e043cd942-2'},\n",
       "     {'reasons': {'count': 0,\n",
       "       'items': [{'summary': 'This spot is popular',\n",
       "         'type': 'general',\n",
       "         'reasonName': 'globalInteractionReason'}]},\n",
       "      'venue': {'id': '4b49d6a2f964a520647426e3',\n",
       "       'name': 'Redbridge Park & Ride',\n",
       "       'location': {'address': 'Abingdon Rd.',\n",
       "        'lat': 51.72963969494608,\n",
       "        'lng': -1.2487328199263614,\n",
       "        'labeledLatLngs': [{'label': 'display',\n",
       "          'lat': 51.72963969494608,\n",
       "          'lng': -1.2487328199263614}],\n",
       "        'distance': 404,\n",
       "        'postalCode': 'OX1 4XG',\n",
       "        'cc': 'GB',\n",
       "        'city': 'Oxford',\n",
       "        'state': 'Oxfordshire',\n",
       "        'country': 'United Kingdom',\n",
       "        'formattedAddress': ['Abingdon Rd.',\n",
       "         'Oxford',\n",
       "         'Oxfordshire',\n",
       "         'OX1 4XG',\n",
       "         'United Kingdom']},\n",
       "       'categories': [{'id': '4c38df4de52ce0d596b336e1',\n",
       "         'name': 'Parking',\n",
       "         'pluralName': 'Parking',\n",
       "         'shortName': 'Parking',\n",
       "         'icon': {'prefix': 'https://ss3.4sqi.net/img/categories_v2/building/parking_',\n",
       "          'suffix': '.png'},\n",
       "         'primary': True}],\n",
       "       'photos': {'count': 0, 'groups': []}},\n",
       "      'referralId': 'e-0-4b49d6a2f964a520647426e3-3'}]}]}}"
      ]
     },
     "execution_count": 234,
     "metadata": {},
     "output_type": "execute_result"
    }
   ],
   "source": [
    "results = requests.get(url).json()\n",
    "results"
   ]
  },
  {
   "cell_type": "code",
   "execution_count": 235,
   "metadata": {},
   "outputs": [],
   "source": [
    "# function that extracts the category of the venue from Foursqure json response\n",
    "def get_category_type(row):\n",
    "    try:\n",
    "        categories_list = row['categories']\n",
    "    except:\n",
    "        categories_list = row['venue.categories']\n",
    "        \n",
    "    if len(categories_list) == 0:\n",
    "        return None\n",
    "    else:\n",
    "        return categories_list[0]['name']"
   ]
  },
  {
   "cell_type": "code",
   "execution_count": 236,
   "metadata": {},
   "outputs": [
    {
     "name": "stderr",
     "output_type": "stream",
     "text": [
      "<ipython-input-236-561c05f0fdd1>:3: FutureWarning: pandas.io.json.json_normalize is deprecated, use pandas.json_normalize instead\n",
      "  nearby_venues = json_normalize(venues) # flatten JSON\n"
     ]
    },
    {
     "data": {
      "text/html": [
       "<div>\n",
       "<style scoped>\n",
       "    .dataframe tbody tr th:only-of-type {\n",
       "        vertical-align: middle;\n",
       "    }\n",
       "\n",
       "    .dataframe tbody tr th {\n",
       "        vertical-align: top;\n",
       "    }\n",
       "\n",
       "    .dataframe thead th {\n",
       "        text-align: right;\n",
       "    }\n",
       "</style>\n",
       "<table border=\"1\" class=\"dataframe\">\n",
       "  <thead>\n",
       "    <tr style=\"text-align: right;\">\n",
       "      <th></th>\n",
       "      <th>name</th>\n",
       "      <th>categories</th>\n",
       "      <th>lat</th>\n",
       "      <th>lng</th>\n",
       "    </tr>\n",
       "  </thead>\n",
       "  <tbody>\n",
       "    <tr>\n",
       "      <th>0</th>\n",
       "      <td>GO Outdoors</td>\n",
       "      <td>Outdoor Supply Store</td>\n",
       "      <td>51.731611</td>\n",
       "      <td>-1.254685</td>\n",
       "    </tr>\n",
       "    <tr>\n",
       "      <th>1</th>\n",
       "      <td>Travelodge</td>\n",
       "      <td>Hotel</td>\n",
       "      <td>51.731489</td>\n",
       "      <td>-1.249284</td>\n",
       "    </tr>\n",
       "    <tr>\n",
       "      <th>2</th>\n",
       "      <td>Camping and Caravanning Club Site</td>\n",
       "      <td>Campground</td>\n",
       "      <td>51.732062</td>\n",
       "      <td>-1.251512</td>\n",
       "    </tr>\n",
       "    <tr>\n",
       "      <th>3</th>\n",
       "      <td>Redbridge Park &amp; Ride</td>\n",
       "      <td>Parking</td>\n",
       "      <td>51.729640</td>\n",
       "      <td>-1.248733</td>\n",
       "    </tr>\n",
       "  </tbody>\n",
       "</table>\n",
       "</div>"
      ],
      "text/plain": [
       "                                name            categories        lat  \\\n",
       "0                        GO Outdoors  Outdoor Supply Store  51.731611   \n",
       "1                         Travelodge                 Hotel  51.731489   \n",
       "2  Camping and Caravanning Club Site            Campground  51.732062   \n",
       "3              Redbridge Park & Ride               Parking  51.729640   \n",
       "\n",
       "        lng  \n",
       "0 -1.254685  \n",
       "1 -1.249284  \n",
       "2 -1.251512  \n",
       "3 -1.248733  "
      ]
     },
     "execution_count": 236,
     "metadata": {},
     "output_type": "execute_result"
    }
   ],
   "source": [
    "venues = results['response']['groups'][0]['items']\n",
    "    \n",
    "nearby_venues = json_normalize(venues) # flatten JSON\n",
    "\n",
    "# filter columns\n",
    "filtered_columns = ['venue.name', 'venue.categories', 'venue.location.lat', 'venue.location.lng']\n",
    "nearby_venues =nearby_venues.loc[:, filtered_columns]\n",
    "\n",
    "# filter the category for each row\n",
    "nearby_venues['venue.categories'] = nearby_venues.apply(get_category_type, axis=1)\n",
    "\n",
    "# clean columns\n",
    "nearby_venues.columns = [col.split(\".\")[-1] for col in nearby_venues.columns]\n",
    "\n",
    "nearby_venues.head()"
   ]
  },
  {
   "cell_type": "code",
   "execution_count": 237,
   "metadata": {},
   "outputs": [
    {
     "name": "stdout",
     "output_type": "stream",
     "text": [
      "4 venues were returned by Foursquare.\n"
     ]
    }
   ],
   "source": [
    "print('{} venues were returned by Foursquare.'.format(nearby_venues.shape[0]))"
   ]
  },
  {
   "cell_type": "code",
   "execution_count": 238,
   "metadata": {},
   "outputs": [],
   "source": [
    "def getNearbyVenues(names, latitudes, longitudes, radius=500):\n",
    "    \n",
    "    venues_list=[]\n",
    "    for name, lat, lng in zip(names, latitudes, longitudes):\n",
    "        print(name)\n",
    "            \n",
    "        # create the API request URL\n",
    "        url = 'https://api.foursquare.com/v2/venues/explore?&client_id={}&client_secret={}&v={}&ll={},{}&radius={}&limit={}'.format(\n",
    "            CLIENT_ID, \n",
    "            CLIENT_SECRET, \n",
    "            VERSION, \n",
    "            lat, \n",
    "            lng, \n",
    "            radius, \n",
    "            LIMIT)\n",
    "            \n",
    "        # make the GET request\n",
    "        results = requests.get(url).json()[\"response\"]['groups'][0]['items']\n",
    "        \n",
    "        # return only relevant information for each nearby venue\n",
    "        venues_list.append([(\n",
    "            name, \n",
    "            lat, \n",
    "            lng, \n",
    "            v['venue']['name'], \n",
    "            v['venue']['location']['lat'], \n",
    "            v['venue']['location']['lng'],  \n",
    "            v['venue']['categories'][0]['name']) for v in results])\n",
    "\n",
    "    nearby_venues = pd.DataFrame([item for venue_list in venues_list for item in venue_list])\n",
    "    nearby_venues.columns = ['LSOA name', \n",
    "                  'Neighborhood Latitude', \n",
    "                  'Neighborhood Longitude', \n",
    "                  'Venue', \n",
    "                  'Venue Latitude', \n",
    "                  'Venue Longitude', \n",
    "                  'Venue Category']\n",
    "    \n",
    "    return(nearby_venues)"
   ]
  },
  {
   "cell_type": "code",
   "execution_count": 240,
   "metadata": {},
   "outputs": [
    {
     "name": "stdout",
     "output_type": "stream",
     "text": [
      "Vale of White Horse 002A\n",
      "Vale of White Horse 010A\n",
      "Vale of White Horse 007A\n",
      "Vale of White Horse 007A\n",
      "Vale of White Horse 010A\n",
      "Vale of White Horse 010A\n",
      "Vale of White Horse 010C\n",
      "Vale of White Horse 007A\n",
      "Vale of White Horse 010A\n",
      "Vale of White Horse 010C\n",
      "Vale of White Horse 010C\n",
      "Vale of White Horse 010E\n",
      "Vale of White Horse 001C\n",
      "Vale of White Horse 001C\n",
      "Vale of White Horse 010C\n",
      "Vale of White Horse 010C\n",
      "Vale of White Horse 010C\n",
      "Vale of White Horse 002A\n",
      "Vale of White Horse 002A\n",
      "Vale of White Horse 002A\n",
      "Vale of White Horse 010C\n",
      "Vale of White Horse 010C\n",
      "Vale of White Horse 010C\n",
      "Vale of White Horse 002A\n",
      "Vale of White Horse 002A\n",
      "Vale of White Horse 010E\n",
      "Vale of White Horse 007A\n",
      "Vale of White Horse 010C\n",
      "Vale of White Horse 010E\n",
      "Vale of White Horse 002A\n",
      "Vale of White Horse 002A\n",
      "Vale of White Horse 002A\n",
      "Vale of White Horse 010C\n",
      "Vale of White Horse 010C\n",
      "Vale of White Horse 001C\n",
      "Vale of White Horse 002A\n",
      "Vale of White Horse 002A\n",
      "Vale of White Horse 002A\n",
      "Vale of White Horse 010A\n"
     ]
    }
   ],
   "source": [
    "df_abiC = CSV[CSV['Location'].str.contains('Abingdon')].reset_index(drop=True)\n",
    "\n",
    "abi_venues = getNearbyVenues(names=df_abiC['LSOA name'],\n",
    "                                   latitudes=df_abiC['Latitude'],\n",
    "                                   longitudes=df_abiC['Longitude']\n",
    "                                  )"
   ]
  },
  {
   "cell_type": "code",
   "execution_count": 242,
   "metadata": {},
   "outputs": [
    {
     "name": "stdout",
     "output_type": "stream",
     "text": [
      "(132, 7)\n"
     ]
    },
    {
     "data": {
      "text/html": [
       "<div>\n",
       "<style scoped>\n",
       "    .dataframe tbody tr th:only-of-type {\n",
       "        vertical-align: middle;\n",
       "    }\n",
       "\n",
       "    .dataframe tbody tr th {\n",
       "        vertical-align: top;\n",
       "    }\n",
       "\n",
       "    .dataframe thead th {\n",
       "        text-align: right;\n",
       "    }\n",
       "</style>\n",
       "<table border=\"1\" class=\"dataframe\">\n",
       "  <thead>\n",
       "    <tr style=\"text-align: right;\">\n",
       "      <th></th>\n",
       "      <th>LSOA name</th>\n",
       "      <th>Neighborhood Latitude</th>\n",
       "      <th>Neighborhood Longitude</th>\n",
       "      <th>Venue</th>\n",
       "      <th>Venue Latitude</th>\n",
       "      <th>Venue Longitude</th>\n",
       "      <th>Venue Category</th>\n",
       "    </tr>\n",
       "  </thead>\n",
       "  <tbody>\n",
       "    <tr>\n",
       "      <th>0</th>\n",
       "      <td>Vale of White Horse 002A</td>\n",
       "      <td>51.729093</td>\n",
       "      <td>-1.254532</td>\n",
       "      <td>GO Outdoors</td>\n",
       "      <td>51.731611</td>\n",
       "      <td>-1.254685</td>\n",
       "      <td>Outdoor Supply Store</td>\n",
       "    </tr>\n",
       "    <tr>\n",
       "      <th>1</th>\n",
       "      <td>Vale of White Horse 002A</td>\n",
       "      <td>51.729093</td>\n",
       "      <td>-1.254532</td>\n",
       "      <td>Travelodge</td>\n",
       "      <td>51.731489</td>\n",
       "      <td>-1.249284</td>\n",
       "      <td>Hotel</td>\n",
       "    </tr>\n",
       "    <tr>\n",
       "      <th>2</th>\n",
       "      <td>Vale of White Horse 002A</td>\n",
       "      <td>51.729093</td>\n",
       "      <td>-1.254532</td>\n",
       "      <td>Camping and Caravanning Club Site</td>\n",
       "      <td>51.732062</td>\n",
       "      <td>-1.251512</td>\n",
       "      <td>Campground</td>\n",
       "    </tr>\n",
       "    <tr>\n",
       "      <th>3</th>\n",
       "      <td>Vale of White Horse 002A</td>\n",
       "      <td>51.729093</td>\n",
       "      <td>-1.254532</td>\n",
       "      <td>Redbridge Park &amp; Ride</td>\n",
       "      <td>51.729640</td>\n",
       "      <td>-1.248733</td>\n",
       "      <td>Parking</td>\n",
       "    </tr>\n",
       "    <tr>\n",
       "      <th>4</th>\n",
       "      <td>Vale of White Horse 010A</td>\n",
       "      <td>51.647852</td>\n",
       "      <td>-1.311395</td>\n",
       "      <td>Keyminders</td>\n",
       "      <td>51.648870</td>\n",
       "      <td>-1.306261</td>\n",
       "      <td>Pet Service</td>\n",
       "    </tr>\n",
       "  </tbody>\n",
       "</table>\n",
       "</div>"
      ],
      "text/plain": [
       "                  LSOA name  Neighborhood Latitude  Neighborhood Longitude  \\\n",
       "0  Vale of White Horse 002A              51.729093               -1.254532   \n",
       "1  Vale of White Horse 002A              51.729093               -1.254532   \n",
       "2  Vale of White Horse 002A              51.729093               -1.254532   \n",
       "3  Vale of White Horse 002A              51.729093               -1.254532   \n",
       "4  Vale of White Horse 010A              51.647852               -1.311395   \n",
       "\n",
       "                               Venue  Venue Latitude  Venue Longitude  \\\n",
       "0                        GO Outdoors       51.731611        -1.254685   \n",
       "1                         Travelodge       51.731489        -1.249284   \n",
       "2  Camping and Caravanning Club Site       51.732062        -1.251512   \n",
       "3              Redbridge Park & Ride       51.729640        -1.248733   \n",
       "4                         Keyminders       51.648870        -1.306261   \n",
       "\n",
       "         Venue Category  \n",
       "0  Outdoor Supply Store  \n",
       "1                 Hotel  \n",
       "2            Campground  \n",
       "3               Parking  \n",
       "4           Pet Service  "
      ]
     },
     "execution_count": 242,
     "metadata": {},
     "output_type": "execute_result"
    }
   ],
   "source": [
    "print(abi_venues.shape)\n",
    "abi_venues.head()"
   ]
  },
  {
   "cell_type": "code",
   "execution_count": 243,
   "metadata": {},
   "outputs": [
    {
     "data": {
      "text/html": [
       "<div>\n",
       "<style scoped>\n",
       "    .dataframe tbody tr th:only-of-type {\n",
       "        vertical-align: middle;\n",
       "    }\n",
       "\n",
       "    .dataframe tbody tr th {\n",
       "        vertical-align: top;\n",
       "    }\n",
       "\n",
       "    .dataframe thead th {\n",
       "        text-align: right;\n",
       "    }\n",
       "</style>\n",
       "<table border=\"1\" class=\"dataframe\">\n",
       "  <thead>\n",
       "    <tr style=\"text-align: right;\">\n",
       "      <th></th>\n",
       "      <th>Neighborhood Latitude</th>\n",
       "      <th>Neighborhood Longitude</th>\n",
       "      <th>Venue</th>\n",
       "      <th>Venue Latitude</th>\n",
       "      <th>Venue Longitude</th>\n",
       "      <th>Venue Category</th>\n",
       "    </tr>\n",
       "    <tr>\n",
       "      <th>LSOA name</th>\n",
       "      <th></th>\n",
       "      <th></th>\n",
       "      <th></th>\n",
       "      <th></th>\n",
       "      <th></th>\n",
       "      <th></th>\n",
       "    </tr>\n",
       "  </thead>\n",
       "  <tbody>\n",
       "    <tr>\n",
       "      <th>Vale of White Horse 001C</th>\n",
       "      <td>8</td>\n",
       "      <td>8</td>\n",
       "      <td>8</td>\n",
       "      <td>8</td>\n",
       "      <td>8</td>\n",
       "      <td>8</td>\n",
       "    </tr>\n",
       "    <tr>\n",
       "      <th>Vale of White Horse 002A</th>\n",
       "      <td>48</td>\n",
       "      <td>48</td>\n",
       "      <td>48</td>\n",
       "      <td>48</td>\n",
       "      <td>48</td>\n",
       "      <td>48</td>\n",
       "    </tr>\n",
       "    <tr>\n",
       "      <th>Vale of White Horse 007A</th>\n",
       "      <td>6</td>\n",
       "      <td>6</td>\n",
       "      <td>6</td>\n",
       "      <td>6</td>\n",
       "      <td>6</td>\n",
       "      <td>6</td>\n",
       "    </tr>\n",
       "    <tr>\n",
       "      <th>Vale of White Horse 010A</th>\n",
       "      <td>13</td>\n",
       "      <td>13</td>\n",
       "      <td>13</td>\n",
       "      <td>13</td>\n",
       "      <td>13</td>\n",
       "      <td>13</td>\n",
       "    </tr>\n",
       "    <tr>\n",
       "      <th>Vale of White Horse 010C</th>\n",
       "      <td>48</td>\n",
       "      <td>48</td>\n",
       "      <td>48</td>\n",
       "      <td>48</td>\n",
       "      <td>48</td>\n",
       "      <td>48</td>\n",
       "    </tr>\n",
       "    <tr>\n",
       "      <th>Vale of White Horse 010E</th>\n",
       "      <td>9</td>\n",
       "      <td>9</td>\n",
       "      <td>9</td>\n",
       "      <td>9</td>\n",
       "      <td>9</td>\n",
       "      <td>9</td>\n",
       "    </tr>\n",
       "  </tbody>\n",
       "</table>\n",
       "</div>"
      ],
      "text/plain": [
       "                          Neighborhood Latitude  Neighborhood Longitude  \\\n",
       "LSOA name                                                                 \n",
       "Vale of White Horse 001C                      8                       8   \n",
       "Vale of White Horse 002A                     48                      48   \n",
       "Vale of White Horse 007A                      6                       6   \n",
       "Vale of White Horse 010A                     13                      13   \n",
       "Vale of White Horse 010C                     48                      48   \n",
       "Vale of White Horse 010E                      9                       9   \n",
       "\n",
       "                          Venue  Venue Latitude  Venue Longitude  \\\n",
       "LSOA name                                                          \n",
       "Vale of White Horse 001C      8               8                8   \n",
       "Vale of White Horse 002A     48              48               48   \n",
       "Vale of White Horse 007A      6               6                6   \n",
       "Vale of White Horse 010A     13              13               13   \n",
       "Vale of White Horse 010C     48              48               48   \n",
       "Vale of White Horse 010E      9               9                9   \n",
       "\n",
       "                          Venue Category  \n",
       "LSOA name                                 \n",
       "Vale of White Horse 001C               8  \n",
       "Vale of White Horse 002A              48  \n",
       "Vale of White Horse 007A               6  \n",
       "Vale of White Horse 010A              13  \n",
       "Vale of White Horse 010C              48  \n",
       "Vale of White Horse 010E               9  "
      ]
     },
     "execution_count": 243,
     "metadata": {},
     "output_type": "execute_result"
    }
   ],
   "source": [
    "abi_venues.groupby('LSOA name').count()"
   ]
  },
  {
   "cell_type": "code",
   "execution_count": 244,
   "metadata": {},
   "outputs": [
    {
     "name": "stdout",
     "output_type": "stream",
     "text": [
      "There are 18 uniques categories.\n"
     ]
    }
   ],
   "source": [
    "print('There are {} uniques categories.'.format(len(abi_venues['Venue Category'].unique())))"
   ]
  },
  {
   "cell_type": "code",
   "execution_count": null,
   "metadata": {},
   "outputs": [],
   "source": []
  },
  {
   "cell_type": "code",
   "execution_count": null,
   "metadata": {},
   "outputs": [],
   "source": []
  },
  {
   "cell_type": "code",
   "execution_count": null,
   "metadata": {},
   "outputs": [],
   "source": []
  },
  {
   "cell_type": "code",
   "execution_count": null,
   "metadata": {},
   "outputs": [],
   "source": []
  },
  {
   "cell_type": "code",
   "execution_count": null,
   "metadata": {},
   "outputs": [],
   "source": []
  },
  {
   "cell_type": "code",
   "execution_count": null,
   "metadata": {},
   "outputs": [],
   "source": []
  },
  {
   "cell_type": "code",
   "execution_count": 249,
   "metadata": {},
   "outputs": [
    {
     "data": {
      "text/html": [
       "<div style=\"width:100%;\"><div style=\"position:relative;width:100%;height:0;padding-bottom:60%;\"><span style=\"color:#565656\">Make this Notebook Trusted to load map: File -> Trust Notebook</span><iframe src=\"about:blank\" style=\"position:absolute;width:100%;height:100%;left:0;top:0;border:none !important;\" data-html=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 onload=\"this.contentDocument.open();this.contentDocument.write(atob(this.getAttribute('data-html')));this.contentDocument.close();\" allowfullscreen webkitallowfullscreen mozallowfullscreen></iframe></div></div>"
      ],
      "text/plain": [
       "<folium.folium.Map at 0x7fe530e90d00>"
      ]
     },
     "execution_count": 249,
     "metadata": {},
     "output_type": "execute_result"
    }
   ],
   "source": [
    "#create map\n",
    "map_clusters = folium.Map(location=[latitude, longitude], zoom_start=11)\n",
    "kclusters = 5\n",
    "# set color scheme for the clusters\n",
    "x = np.arange(kclusters)\n",
    "ys = [i + x + (i*x)**2 for i in range(kclusters)]\n",
    "colors_array = cm.rainbow(np.linspace(0, 1, len(ys)))\n",
    "rainbow = [colors.rgb2hex(i) for i in colors_array]\n",
    "\n",
    "# add markers to the map\n",
    "markers_colors = []\n",
    "for lat, lon, poi, cluster in zip(df_abiC['Latitude'], df_abiC['Longitude'], df_abiC['LSOA name'], df_abiC['Location']):\n",
    "    label = folium.Popup(str(poi) + ' Cluster ' + str(cluster), parse_html=True)\n",
    "    folium.CircleMarker(\n",
    "        [lat, lon],\n",
    "        radius=5,\n",
    "        popup=label,\n",
    "       # color=rainbow[cluster-1],\n",
    "        fill=True,\n",
    "       # fill_color=rainbow[cluster-1],\n",
    "        fill_opacity=0.7).add_to(map_clusters)\n",
    "       \n",
    "map_clusters"
   ]
  },
  {
   "cell_type": "code",
   "execution_count": null,
   "metadata": {},
   "outputs": [],
   "source": []
  },
  {
   "cell_type": "code",
   "execution_count": null,
   "metadata": {},
   "outputs": [],
   "source": []
  },
  {
   "cell_type": "code",
   "execution_count": 214,
   "metadata": {
    "scrolled": true
   },
   "outputs": [
    {
     "data": {
      "text/plain": [
       "{'Anti-social behaviour': 'anti-social-behaviour',\n",
       " 'Bicycle theft': 'bicycle-theft',\n",
       " 'Burglary': 'burglary',\n",
       " 'Criminal damage and arson': 'criminal-damage-arson',\n",
       " 'Other theft': 'other-theft',\n",
       " 'Public order': 'public-order',\n",
       " 'Shoplifting': 'shoplifting',\n",
       " 'Vehicle crime': 'vehicle-crime',\n",
       " 'Violence and sexual offences': 'violent-crime',\n",
       " 'Other crime': 'other-crime',\n",
       " 'Drugs': 'drugs',\n",
       " 'Theft from the person': 'theft-from-the-person'}"
      ]
     },
     "execution_count": 214,
     "metadata": {},
     "output_type": "execute_result"
    }
   ],
   "source": [
    "crime_types = MergeBoth[['name','type']].drop_duplicates().set_index('name')['type'].to_dict()\n",
    "crime_types\n"
   ]
  },
  {
   "cell_type": "markdown",
   "metadata": {},
   "source": [
    "#### Define Foursquare Credentials and Version"
   ]
  },
  {
   "cell_type": "code",
   "execution_count": 98,
   "metadata": {},
   "outputs": [
    {
     "data": {
      "text/plain": [
       "['2020-08',\n",
       " '2020-07',\n",
       " '2020-06',\n",
       " '2020-05',\n",
       " '2020-04',\n",
       " '2020-03',\n",
       " '2020-02',\n",
       " '2020-01',\n",
       " '2019-12',\n",
       " '2019-11',\n",
       " '2019-10',\n",
       " '2019-09',\n",
       " '2019-08',\n",
       " '2019-07',\n",
       " '2019-06',\n",
       " '2019-05',\n",
       " '2019-04',\n",
       " '2019-03',\n",
       " '2019-02',\n",
       " '2019-01',\n",
       " '2018-12',\n",
       " '2018-11',\n",
       " '2018-10',\n",
       " '2018-09',\n",
       " '2018-08',\n",
       " '2018-07',\n",
       " '2018-06',\n",
       " '2018-05',\n",
       " '2018-04',\n",
       " '2018-03',\n",
       " '2018-02',\n",
       " '2018-01',\n",
       " '2017-12',\n",
       " '2017-11',\n",
       " '2017-10',\n",
       " '2017-09']"
      ]
     },
     "execution_count": 98,
     "metadata": {},
     "output_type": "execute_result"
    }
   ],
   "source": [
    "dates_Years = [d for d in api.get_dates() if '2018' or '2019' in d]\n",
    "dates_Years"
   ]
  },
  {
   "cell_type": "code",
   "execution_count": 101,
   "metadata": {},
   "outputs": [
    {
     "data": {
      "text/html": [
       "<div>\n",
       "<style scoped>\n",
       "    .dataframe tbody tr th:only-of-type {\n",
       "        vertical-align: middle;\n",
       "    }\n",
       "\n",
       "    .dataframe tbody tr th {\n",
       "        vertical-align: top;\n",
       "    }\n",
       "\n",
       "    .dataframe thead th {\n",
       "        text-align: right;\n",
       "    }\n",
       "</style>\n",
       "<table border=\"1\" class=\"dataframe\">\n",
       "  <thead>\n",
       "    <tr style=\"text-align: right;\">\n",
       "      <th></th>\n",
       "      <th>cid</th>\n",
       "      <th>type</th>\n",
       "      <th>month</th>\n",
       "      <th>name</th>\n",
       "      <th>lid</th>\n",
       "      <th>location</th>\n",
       "      <th>lat</th>\n",
       "      <th>lon</th>\n",
       "    </tr>\n",
       "  </thead>\n",
       "  <tbody>\n",
       "    <tr>\n",
       "      <th>0</th>\n",
       "      <td>86061326</td>\n",
       "      <td>anti-social-behaviour</td>\n",
       "      <td>2020-08</td>\n",
       "      <td>Anti-social behaviour</td>\n",
       "      <td>1208644</td>\n",
       "      <td>On or near Glebe Close</td>\n",
       "      <td>51.835287</td>\n",
       "      <td>-0.638018</td>\n",
       "    </tr>\n",
       "    <tr>\n",
       "      <th>1</th>\n",
       "      <td>86061004</td>\n",
       "      <td>anti-social-behaviour</td>\n",
       "      <td>2020-08</td>\n",
       "      <td>Anti-social behaviour</td>\n",
       "      <td>1210358</td>\n",
       "      <td>On or near Park/open Space</td>\n",
       "      <td>51.946490</td>\n",
       "      <td>-0.703851</td>\n",
       "    </tr>\n",
       "    <tr>\n",
       "      <th>2</th>\n",
       "      <td>86060136</td>\n",
       "      <td>anti-social-behaviour</td>\n",
       "      <td>2020-08</td>\n",
       "      <td>Anti-social behaviour</td>\n",
       "      <td>1209994</td>\n",
       "      <td>On or near Redwood Close</td>\n",
       "      <td>51.897264</td>\n",
       "      <td>-0.718799</td>\n",
       "    </tr>\n",
       "    <tr>\n",
       "      <th>3</th>\n",
       "      <td>86061605</td>\n",
       "      <td>anti-social-behaviour</td>\n",
       "      <td>2020-08</td>\n",
       "      <td>Anti-social behaviour</td>\n",
       "      <td>1208635</td>\n",
       "      <td>On or near Maud Jane's Close</td>\n",
       "      <td>51.838668</td>\n",
       "      <td>-0.631864</td>\n",
       "    </tr>\n",
       "    <tr>\n",
       "      <th>4</th>\n",
       "      <td>86061968</td>\n",
       "      <td>anti-social-behaviour</td>\n",
       "      <td>2020-08</td>\n",
       "      <td>Anti-social behaviour</td>\n",
       "      <td>1183686</td>\n",
       "      <td>On or near Newton Road</td>\n",
       "      <td>51.957982</td>\n",
       "      <td>-0.765924</td>\n",
       "    </tr>\n",
       "  </tbody>\n",
       "</table>\n",
       "</div>"
      ],
      "text/plain": [
       "        cid                   type    month                   name      lid  \\\n",
       "0  86061326  anti-social-behaviour  2020-08  Anti-social behaviour  1208644   \n",
       "1  86061004  anti-social-behaviour  2020-08  Anti-social behaviour  1210358   \n",
       "2  86060136  anti-social-behaviour  2020-08  Anti-social behaviour  1209994   \n",
       "3  86061605  anti-social-behaviour  2020-08  Anti-social behaviour  1208635   \n",
       "4  86061968  anti-social-behaviour  2020-08  Anti-social behaviour  1183686   \n",
       "\n",
       "                       location        lat       lon  \n",
       "0        On or near Glebe Close  51.835287 -0.638018  \n",
       "1    On or near Park/open Space  51.946490 -0.703851  \n",
       "2      On or near Redwood Close  51.897264 -0.718799  \n",
       "3  On or near Maud Jane's Close  51.838668 -0.631864  \n",
       "4        On or near Newton Road  51.957982 -0.765924  "
      ]
     },
     "execution_count": 101,
     "metadata": {},
     "output_type": "execute_result"
    }
   ],
   "source": [
    "crimes_All= pd.DataFrame()\n",
    "\n",
    "for d in dates_Years:\n",
    "    tmp = api.get_crimes_area(boundary, date=d)\n",
    "    crimes_All = pd.concat([crimes_All, setCrimesAsDataFrame(tmp)])\n",
    "    \n",
    "crimes_All.head()"
   ]
  },
  {
   "cell_type": "code",
   "execution_count": 102,
   "metadata": {},
   "outputs": [
    {
     "data": {
      "text/html": [
       "<div>\n",
       "<style scoped>\n",
       "    .dataframe tbody tr th:only-of-type {\n",
       "        vertical-align: middle;\n",
       "    }\n",
       "\n",
       "    .dataframe tbody tr th {\n",
       "        vertical-align: top;\n",
       "    }\n",
       "\n",
       "    .dataframe thead th {\n",
       "        text-align: right;\n",
       "    }\n",
       "</style>\n",
       "<table border=\"1\" class=\"dataframe\">\n",
       "  <thead>\n",
       "    <tr style=\"text-align: right;\">\n",
       "      <th></th>\n",
       "      <th>cid</th>\n",
       "      <th>type</th>\n",
       "      <th>month</th>\n",
       "      <th>name</th>\n",
       "      <th>lid</th>\n",
       "      <th>location</th>\n",
       "      <th>lat</th>\n",
       "      <th>lon</th>\n",
       "    </tr>\n",
       "  </thead>\n",
       "  <tbody>\n",
       "    <tr>\n",
       "      <th>0</th>\n",
       "      <td>86060551</td>\n",
       "      <td>anti-social-behaviour</td>\n",
       "      <td>2020-08</td>\n",
       "      <td>Anti-social behaviour</td>\n",
       "      <td>1202422</td>\n",
       "      <td>On or near Southmoor Way</td>\n",
       "      <td>51.677685</td>\n",
       "      <td>-1.291678</td>\n",
       "    </tr>\n",
       "    <tr>\n",
       "      <th>1</th>\n",
       "      <td>86059616</td>\n",
       "      <td>anti-social-behaviour</td>\n",
       "      <td>2020-08</td>\n",
       "      <td>Anti-social behaviour</td>\n",
       "      <td>1201206</td>\n",
       "      <td>On or near The Hyde</td>\n",
       "      <td>51.661900</td>\n",
       "      <td>-1.296811</td>\n",
       "    </tr>\n",
       "    <tr>\n",
       "      <th>2</th>\n",
       "      <td>86059030</td>\n",
       "      <td>anti-social-behaviour</td>\n",
       "      <td>2020-08</td>\n",
       "      <td>Anti-social behaviour</td>\n",
       "      <td>1201206</td>\n",
       "      <td>On or near The Hyde</td>\n",
       "      <td>51.661900</td>\n",
       "      <td>-1.296811</td>\n",
       "    </tr>\n",
       "    <tr>\n",
       "      <th>3</th>\n",
       "      <td>86059277</td>\n",
       "      <td>anti-social-behaviour</td>\n",
       "      <td>2020-08</td>\n",
       "      <td>Anti-social behaviour</td>\n",
       "      <td>1201206</td>\n",
       "      <td>On or near The Hyde</td>\n",
       "      <td>51.661900</td>\n",
       "      <td>-1.296811</td>\n",
       "    </tr>\n",
       "    <tr>\n",
       "      <th>4</th>\n",
       "      <td>86059090</td>\n",
       "      <td>anti-social-behaviour</td>\n",
       "      <td>2020-08</td>\n",
       "      <td>Anti-social behaviour</td>\n",
       "      <td>1201206</td>\n",
       "      <td>On or near The Hyde</td>\n",
       "      <td>51.661900</td>\n",
       "      <td>-1.296811</td>\n",
       "    </tr>\n",
       "  </tbody>\n",
       "</table>\n",
       "</div>"
      ],
      "text/plain": [
       "        cid                   type    month                   name      lid  \\\n",
       "0  86060551  anti-social-behaviour  2020-08  Anti-social behaviour  1202422   \n",
       "1  86059616  anti-social-behaviour  2020-08  Anti-social behaviour  1201206   \n",
       "2  86059030  anti-social-behaviour  2020-08  Anti-social behaviour  1201206   \n",
       "3  86059277  anti-social-behaviour  2020-08  Anti-social behaviour  1201206   \n",
       "4  86059090  anti-social-behaviour  2020-08  Anti-social behaviour  1201206   \n",
       "\n",
       "                   location        lat       lon  \n",
       "0  On or near Southmoor Way  51.677685 -1.291678  \n",
       "1       On or near The Hyde  51.661900 -1.296811  \n",
       "2       On or near The Hyde  51.661900 -1.296811  \n",
       "3       On or near The Hyde  51.661900 -1.296811  \n",
       "4       On or near The Hyde  51.661900 -1.296811  "
      ]
     },
     "execution_count": 102,
     "metadata": {},
     "output_type": "execute_result"
    }
   ],
   "source": [
    "crimes_All2= pd.DataFrame()\n",
    "\n",
    "for d in dates_Years:\n",
    "    tmp = api.get_crimes_area(boundary2, date=d)\n",
    "    crimes_All2 = pd.concat([crimes_All2, setCrimesAsDataFrame(tmp)])\n",
    "    \n",
    "crimes_All2.head()"
   ]
  },
  {
   "cell_type": "code",
   "execution_count": 104,
   "metadata": {
    "scrolled": true
   },
   "outputs": [],
   "source": [
    "Todos_crimes=pd.concat([crimes_All,crimes_All2],axis=0)"
   ]
  },
  {
   "cell_type": "code",
   "execution_count": 112,
   "metadata": {},
   "outputs": [],
   "source": [
    "overall_data = []\n",
    "\n",
    "for d in dates_Years:\n",
    "    tmp_crimes = api.get_crimes_area(boundary, date=d)\n",
    "    df = setCrimesAsDataFrame(tmp_crimes)\n",
    "    MainsDB = MergeBoth.groupby(['lat','lon']).size().reset_index().values.tolist()\n",
    "    overall_data.append(MainsDB)"
   ]
  },
  {
   "cell_type": "code",
   "execution_count": 111,
   "metadata": {},
   "outputs": [
    {
     "data": {
      "text/html": [
       "<div style=\"width:100%;\"><div style=\"position:relative;width:100%;height:0;padding-bottom:60%;\"><span style=\"color:#565656\">Make this Notebook Trusted to load map: File -> Trust Notebook</span><iframe src=\"about:blank\" style=\"position:absolute;width:100%;height:100%;left:0;top:0;border:none !important;\" data-html=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 onload=\"this.contentDocument.open();this.contentDocument.write(atob(this.getAttribute('data-html')));this.contentDocument.close();\" allowfullscreen webkitallowfullscreen mozallowfullscreen></iframe></div></div>"
      ],
      "text/plain": [
       "<folium.folium.Map at 0x7fe53f623ac0>"
      ]
     },
     "execution_count": 111,
     "metadata": {},
     "output_type": "execute_result"
    }
   ],
   "source": [
    "from folium.plugins import HeatMapWithTime\n",
    "\n",
    "m = folium.Map(overall_data[0][0][:2], tiles='stamentoner', zoom_start=13)\n",
    "\n",
    "HeatMapWithTime(overall_data).add_to(m)\n",
    "\n",
    "m"
   ]
  },
  {
   "cell_type": "code",
   "execution_count": 115,
   "metadata": {},
   "outputs": [
    {
     "data": {
      "text/html": [
       "<div>\n",
       "<style scoped>\n",
       "    .dataframe tbody tr th:only-of-type {\n",
       "        vertical-align: middle;\n",
       "    }\n",
       "\n",
       "    .dataframe tbody tr th {\n",
       "        vertical-align: top;\n",
       "    }\n",
       "\n",
       "    .dataframe thead th {\n",
       "        text-align: right;\n",
       "    }\n",
       "</style>\n",
       "<table border=\"1\" class=\"dataframe\">\n",
       "  <thead>\n",
       "    <tr style=\"text-align: right;\">\n",
       "      <th></th>\n",
       "      <th>lat</th>\n",
       "      <th>lon</th>\n",
       "      <th>Count</th>\n",
       "    </tr>\n",
       "  </thead>\n",
       "  <tbody>\n",
       "    <tr>\n",
       "      <th>0</th>\n",
       "      <td>51.835283</td>\n",
       "      <td>-0.632315</td>\n",
       "      <td>2</td>\n",
       "    </tr>\n",
       "    <tr>\n",
       "      <th>1</th>\n",
       "      <td>51.887907</td>\n",
       "      <td>-0.690498</td>\n",
       "      <td>1</td>\n",
       "    </tr>\n",
       "    <tr>\n",
       "      <th>2</th>\n",
       "      <td>51.897264</td>\n",
       "      <td>-0.718799</td>\n",
       "      <td>1</td>\n",
       "    </tr>\n",
       "    <tr>\n",
       "      <th>3</th>\n",
       "      <td>51.897377</td>\n",
       "      <td>-0.720918</td>\n",
       "      <td>1</td>\n",
       "    </tr>\n",
       "    <tr>\n",
       "      <th>4</th>\n",
       "      <td>51.899269</td>\n",
       "      <td>-0.718742</td>\n",
       "      <td>1</td>\n",
       "    </tr>\n",
       "  </tbody>\n",
       "</table>\n",
       "</div>"
      ],
      "text/plain": [
       "         lat       lon  Count\n",
       "0  51.835283 -0.632315      2\n",
       "1  51.887907 -0.690498      1\n",
       "2  51.897264 -0.718799      1\n",
       "3  51.897377 -0.720918      1\n",
       "4  51.899269 -0.718742      1"
      ]
     },
     "execution_count": 115,
     "metadata": {},
     "output_type": "execute_result"
    }
   ],
   "source": [
    "#For a particular crime type, get the count of crimes by location\n",
    "crimes = setCrimesAsDataFrame( api.get_crimes_area(boundary, date='2019-01') )\n",
    "public_order_crime = crimes[crimes['type']=='public-order']\n",
    "public_order_crime_count_by_location = public_order_crime.groupby(['lat','lon']).size().to_frame('Count').reset_index()\n",
    "public_order_crime_count_by_location.head()"
   ]
  },
  {
   "cell_type": "code",
   "execution_count": 116,
   "metadata": {},
   "outputs": [
    {
     "data": {
      "text/html": [
       "<div>\n",
       "<style scoped>\n",
       "    .dataframe tbody tr th:only-of-type {\n",
       "        vertical-align: middle;\n",
       "    }\n",
       "\n",
       "    .dataframe tbody tr th {\n",
       "        vertical-align: top;\n",
       "    }\n",
       "\n",
       "    .dataframe thead th {\n",
       "        text-align: right;\n",
       "    }\n",
       "</style>\n",
       "<table border=\"1\" class=\"dataframe\">\n",
       "  <thead>\n",
       "    <tr style=\"text-align: right;\">\n",
       "      <th></th>\n",
       "      <th>lat</th>\n",
       "      <th>lon</th>\n",
       "      <th>Count</th>\n",
       "    </tr>\n",
       "  </thead>\n",
       "  <tbody>\n",
       "    <tr>\n",
       "      <th>0</th>\n",
       "      <td>51.835283</td>\n",
       "      <td>-0.632315</td>\n",
       "      <td>2</td>\n",
       "    </tr>\n",
       "    <tr>\n",
       "      <th>1</th>\n",
       "      <td>51.887907</td>\n",
       "      <td>-0.690498</td>\n",
       "      <td>1</td>\n",
       "    </tr>\n",
       "    <tr>\n",
       "      <th>2</th>\n",
       "      <td>51.897264</td>\n",
       "      <td>-0.718799</td>\n",
       "      <td>1</td>\n",
       "    </tr>\n",
       "    <tr>\n",
       "      <th>3</th>\n",
       "      <td>51.897377</td>\n",
       "      <td>-0.720918</td>\n",
       "      <td>1</td>\n",
       "    </tr>\n",
       "    <tr>\n",
       "      <th>4</th>\n",
       "      <td>51.899269</td>\n",
       "      <td>-0.718742</td>\n",
       "      <td>1</td>\n",
       "    </tr>\n",
       "  </tbody>\n",
       "</table>\n",
       "</div>"
      ],
      "text/plain": [
       "         lat       lon  Count\n",
       "0  51.835283 -0.632315      2\n",
       "1  51.887907 -0.690498      1\n",
       "2  51.897264 -0.718799      1\n",
       "3  51.897377 -0.720918      1\n",
       "4  51.899269 -0.718742      1"
      ]
     },
     "execution_count": 116,
     "metadata": {},
     "output_type": "execute_result"
    }
   ],
   "source": [
    "#For a particular crime type, get the count of crimes by location\n",
    "crimes2 = setCrimesAsDataFrame( api.get_crimes_area(boundary2, date='2019-01') )\n",
    "public_order_crime2 = crimes[crimes['type']=='public-order']\n",
    "public_order_crime_count_by_location2 = public_order_crime.groupby(['lat','lon']).size().to_frame('Count').reset_index()\n",
    "public_order_crime_count_by_location2.head()"
   ]
  },
  {
   "cell_type": "code",
   "execution_count": 117,
   "metadata": {},
   "outputs": [],
   "source": [
    "#For convenience, let's go back to using the df name...\n",
    "df = public_order_crime_count_by_location.reset_index()"
   ]
  },
  {
   "cell_type": "code",
   "execution_count": 118,
   "metadata": {},
   "outputs": [
    {
     "data": {
      "text/html": [
       "<div>\n",
       "<style scoped>\n",
       "    .dataframe tbody tr th:only-of-type {\n",
       "        vertical-align: middle;\n",
       "    }\n",
       "\n",
       "    .dataframe tbody tr th {\n",
       "        vertical-align: top;\n",
       "    }\n",
       "\n",
       "    .dataframe thead th {\n",
       "        text-align: right;\n",
       "    }\n",
       "</style>\n",
       "<table border=\"1\" class=\"dataframe\">\n",
       "  <thead>\n",
       "    <tr style=\"text-align: right;\">\n",
       "      <th></th>\n",
       "      <th>index</th>\n",
       "      <th>lat</th>\n",
       "      <th>lon</th>\n",
       "      <th>Count</th>\n",
       "      <th>Coordinates</th>\n",
       "      <th>RCoordinates</th>\n",
       "    </tr>\n",
       "  </thead>\n",
       "  <tbody>\n",
       "    <tr>\n",
       "      <th>0</th>\n",
       "      <td>a_0</td>\n",
       "      <td>51.835283</td>\n",
       "      <td>-0.632315</td>\n",
       "      <td>2</td>\n",
       "      <td>POINT (-0.63231 51.83528)</td>\n",
       "      <td>POINT (51.835283 -0.632315)</td>\n",
       "    </tr>\n",
       "    <tr>\n",
       "      <th>1</th>\n",
       "      <td>a_1</td>\n",
       "      <td>51.887907</td>\n",
       "      <td>-0.690498</td>\n",
       "      <td>1</td>\n",
       "      <td>POINT (-0.69050 51.88791)</td>\n",
       "      <td>POINT (51.887907 -0.6904979999999999)</td>\n",
       "    </tr>\n",
       "    <tr>\n",
       "      <th>2</th>\n",
       "      <td>a_2</td>\n",
       "      <td>51.897264</td>\n",
       "      <td>-0.718799</td>\n",
       "      <td>1</td>\n",
       "      <td>POINT (-0.71880 51.89726)</td>\n",
       "      <td>POINT (51.897264 -0.718799)</td>\n",
       "    </tr>\n",
       "    <tr>\n",
       "      <th>3</th>\n",
       "      <td>a_3</td>\n",
       "      <td>51.897377</td>\n",
       "      <td>-0.720918</td>\n",
       "      <td>1</td>\n",
       "      <td>POINT (-0.72092 51.89738)</td>\n",
       "      <td>POINT (51.897377 -0.7209179999999999)</td>\n",
       "    </tr>\n",
       "    <tr>\n",
       "      <th>4</th>\n",
       "      <td>a_4</td>\n",
       "      <td>51.899269</td>\n",
       "      <td>-0.718742</td>\n",
       "      <td>1</td>\n",
       "      <td>POINT (-0.71874 51.89927)</td>\n",
       "      <td>POINT (51.899269 -0.718742)</td>\n",
       "    </tr>\n",
       "  </tbody>\n",
       "</table>\n",
       "</div>"
      ],
      "text/plain": [
       "  index        lat       lon  Count                Coordinates  \\\n",
       "0   a_0  51.835283 -0.632315      2  POINT (-0.63231 51.83528)   \n",
       "1   a_1  51.887907 -0.690498      1  POINT (-0.69050 51.88791)   \n",
       "2   a_2  51.897264 -0.718799      1  POINT (-0.71880 51.89726)   \n",
       "3   a_3  51.897377 -0.720918      1  POINT (-0.72092 51.89738)   \n",
       "4   a_4  51.899269 -0.718742      1  POINT (-0.71874 51.89927)   \n",
       "\n",
       "                            RCoordinates  \n",
       "0            POINT (51.835283 -0.632315)  \n",
       "1  POINT (51.887907 -0.6904979999999999)  \n",
       "2            POINT (51.897264 -0.718799)  \n",
       "3  POINT (51.897377 -0.7209179999999999)  \n",
       "4            POINT (51.899269 -0.718742)  "
      ]
     },
     "execution_count": 118,
     "metadata": {},
     "output_type": "execute_result"
    }
   ],
   "source": [
    "#https://geopandas.readthedocs.io/en/latest/gallery/create_geopandas_from_pandas.html\n",
    "import geopandas\n",
    "from shapely.geometry import Point\n",
    "\n",
    "df['Coordinates'] = list(zip(df['lon'], df['lat']))\n",
    "df['Coordinates'] = df['Coordinates'].apply(Point)\n",
    "\n",
    "df['RCoordinates'] = list(zip(df['lat'], df['lon']))\n",
    "df['RCoordinates'] = df['RCoordinates'].apply(Point)\n",
    "gdf = geopandas.GeoDataFrame(df, geometry='Coordinates')\n",
    "\n",
    "#Avoid ambiguity about whether index is int or string\n",
    "gdf['index'] = gdf['index'].apply(lambda x: 'a_{}'.format(x))\n",
    "\n",
    "gdf.head()"
   ]
  },
  {
   "cell_type": "code",
   "execution_count": 132,
   "metadata": {},
   "outputs": [
    {
     "name": "stderr",
     "output_type": "stream",
     "text": [
      "/Users/mavrioz/opt/anaconda3/lib/python3.8/site-packages/pyproj/crs/crs.py:53: FutureWarning: '+init=<authority>:<code>' syntax is deprecated. '<authority>:<code>' is the preferred initialization method. When making the change, be mindful of axis order changes: https://pyproj4.github.io/pyproj/stable/gotchas.html#axis-order-changes-in-proj-6\n",
      "  return _prepare_from_string(\" \".join(pjargs))\n"
     ]
    },
    {
     "data": {
      "text/plain": [
       "<Geographic 2D CRS: +init=epsg:4326  +type=crs>\n",
       "Name: WGS 84\n",
       "Axis Info [ellipsoidal]:\n",
       "- lon[east]: Longitude (degree)\n",
       "- lat[north]: Latitude (degree)\n",
       "Area of Use:\n",
       "- name: World\n",
       "- bounds: (-180.0, -90.0, 180.0, 90.0)\n",
       "Datum: World Geodetic System 1984\n",
       "- Ellipsoid: WGS 84\n",
       "- Prime Meridian: Greenwich"
      ]
     },
     "execution_count": 132,
     "metadata": {},
     "output_type": "execute_result"
    }
   ],
   "source": [
    "gdf.crs = {'init' :'epsg:4326 '}\n",
    "gdf.crs"
   ]
  },
  {
   "cell_type": "code",
   "execution_count": 133,
   "metadata": {},
   "outputs": [
    {
     "data": {
      "text/plain": [
       "[(51.71444649741, -1.2352394640321), (51.713839174699, -1.2353148374778)]"
      ]
     },
     "execution_count": 133,
     "metadata": {},
     "output_type": "execute_result"
    }
   ],
   "source": [
    "#Check how the boundary co-ordinates are presented\n",
    "boundary[:2]\n",
    "#Looks like: lat, lon"
   ]
  },
  {
   "cell_type": "code",
   "execution_count": 123,
   "metadata": {},
   "outputs": [
    {
     "ename": "NameError",
     "evalue": "name 'createFoliumMap' is not defined",
     "output_type": "error",
     "traceback": [
      "\u001b[0;31m---------------------------------------------------------------------------\u001b[0m",
      "\u001b[0;31mNameError\u001b[0m                                 Traceback (most recent call last)",
      "\u001b[0;32m<ipython-input-123-1f8069767dbd>\u001b[0m in \u001b[0;36m<module>\u001b[0;34m\u001b[0m\n\u001b[1;32m      2\u001b[0m \u001b[0;34m\u001b[0m\u001b[0m\n\u001b[1;32m      3\u001b[0m \u001b[0;34m\u001b[0m\u001b[0m\n\u001b[0;32m----> 4\u001b[0;31m \u001b[0mm\u001b[0m \u001b[0;34m=\u001b[0m \u001b[0mcreateFoliumMap\u001b[0m\u001b[0;34m(\u001b[0m\u001b[0mgdf\u001b[0m\u001b[0;34m)\u001b[0m\u001b[0;34m\u001b[0m\u001b[0;34m\u001b[0m\u001b[0m\n\u001b[0m\u001b[1;32m      5\u001b[0m \u001b[0;34m\u001b[0m\u001b[0m\n\u001b[1;32m      6\u001b[0m \u001b[0;34m\u001b[0m\u001b[0m\n",
      "\u001b[0;31mNameError\u001b[0m: name 'createFoliumMap' is not defined"
     ]
    }
   ],
   "source": [
    "from folium.plugins import HeatMap\n",
    "\n",
    "\n",
    "m = createFoliumMap(gdf)\n",
    "\n",
    "\n",
    "HeatMap(df).add_to(m)\n",
    "\n",
    "folium.GeoJson(\n",
    "    geoJsonFromNeighbourhoodBoundary(boundary),\n",
    "    name='geojson',\n",
    "    \n",
    ").add_to(m)\n",
    "folium.GeoJson(\n",
    "    geoJsonFromNeighbourhoodBoundary(boundary2),\n",
    "    name='geojson',\n",
    "    \n",
    ").add_to(m)\n",
    "\n",
    "\n",
    "m"
   ]
  },
  {
   "cell_type": "code",
   "execution_count": null,
   "metadata": {},
   "outputs": [],
   "source": []
  }
 ],
 "metadata": {
  "kernelspec": {
   "display_name": "Python 3",
   "language": "python",
   "name": "python3"
  },
  "language_info": {
   "codemirror_mode": {
    "name": "ipython",
    "version": 3
   },
   "file_extension": ".py",
   "mimetype": "text/x-python",
   "name": "python",
   "nbconvert_exporter": "python",
   "pygments_lexer": "ipython3",
   "version": "3.8.3-final"
  }
 },
 "nbformat": 4,
 "nbformat_minor": 4
}