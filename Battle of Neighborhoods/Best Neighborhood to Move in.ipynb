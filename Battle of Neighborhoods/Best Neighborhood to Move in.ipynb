{
 "cells": [
  {
   "cell_type": "markdown",
   "metadata": {},
   "source": [
    "# To live in or to live out"
   ]
  },
  {
   "cell_type": "markdown",
   "metadata": {},
   "source": [
    "## Part 1"
   ]
  },
  {
   "cell_type": "markdown",
   "metadata": {},
   "source": [
    "### Description of the problem"
   ]
  },
  {
   "cell_type": "markdown",
   "metadata": {},
   "source": [
    "### Moving house to the Abingdon-on-Thames area\n",
    "Problem Description:\n",
    "Currently looking to move into the Area of Abingdon-on-Thames and would like to take advantage of this project to use it in my favour to help me identify the best and the worst areas to live.\n"
   ]
  },
  {
   "cell_type": "markdown",
   "metadata": {},
   "source": [
    "### Background Discussion"
   ]
  },
  {
   "cell_type": "markdown",
   "metadata": {},
   "source": [
    "For such move to happen we need to plan it very strategically and analyse various facotrs to be able to decide the best location:\n",
    "\n",
    "I would like to know if there are any leisure centres aroung, parks, restaurants.\n",
    "\n",
    "Ideally I would like to chose a place where I am not in the middle of the city centre but I can access easily supermarkets or natural areas.\n",
    "\n",
    "The objective is to locate and find neighborhood of Abingdon Area will be best choice to move with my family.\n",
    "\n",
    "The success criteria of the project will be that after having analysed different factors, we can then be able to make the best choice ifor the family."
   ]
  },
  {
   "cell_type": "markdown",
   "metadata": {},
   "source": [
    "Abingdon-on-Thames, known just as Abingdon between 1974 and 2012, is a historic market town and civil parish in the ceremonial county of Oxfordshire, England. Historically the county town of Berkshire, since 1974 Abingdon has been administered by the Vale of White Horse district within Oxfordshire.\n",
    "\n",
    "The 2011 Census recorded the parish's population as 33,130.This is 2,504 more than in the 2001 Census total of 30,626, and represents just over 8% growth in the population."
   ]
  },
  {
   "cell_type": "code",
   "execution_count": null,
   "metadata": {},
   "outputs": [],
   "source": []
  },
  {
   "cell_type": "code",
   "execution_count": null,
   "metadata": {},
   "outputs": [],
   "source": []
  }
 ],
 "metadata": {
  "kernelspec": {
   "display_name": "Python 3",
   "language": "python",
   "name": "python3"
  },
  "language_info": {
   "codemirror_mode": {
    "name": "ipython",
    "version": 3
   },
   "file_extension": ".py",
   "mimetype": "text/x-python",
   "name": "python",
   "nbconvert_exporter": "python",
   "pygments_lexer": "ipython3",
   "version": "3.8.3"
  }
 },
 "nbformat": 4,
 "nbformat_minor": 4
}
