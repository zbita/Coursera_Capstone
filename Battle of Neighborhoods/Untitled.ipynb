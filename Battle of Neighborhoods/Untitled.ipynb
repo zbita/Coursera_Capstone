{
 "cells": [
  {
   "cell_type": "markdown",
   "metadata": {},
   "source": [
    "# Battle of the neighborhoods"
   ]
  },
  {
   "cell_type": "markdown",
   "metadata": {},
   "source": [
    "## Part 1"
   ]
  },
  {
   "cell_type": "markdown",
   "metadata": {},
   "source": [
    "### Description of the problem"
   ]
  },
  {
   "cell_type": "markdown",
   "metadata": {},
   "source": [
    "#### Open a bed and breakfast in the Abingdon Area\n",
    "\n",
    "Starting a bed and breakfast can be a wonderful experience. You get to live in a fantastic house and work for yourself. At the same time, it is a business. \n",
    "\n",
    "As such, there are several things you need to keep in mind to succeed with your bed and breakfast. In this guide, you’ll learn the ins and outs of starting a bed and breakfast business."
   ]
  },
  {
   "cell_type": "markdown",
   "metadata": {},
   "source": [
    "Problem Description:\n",
    "A restaurant is a business which prepares and serves food and drink to customers in return for money, either paid before the meal, after the meal, or with an open account. The City of New York is famous for its excelllent cuisine. It's food culture includes an array of international cuisines influenced by the city's immigrant history.\n",
    "Central and Eastern European immigrants, especially Jewish immigrants - bagels, cheesecake, hot dogs, knishes, and delicatessens\n",
    "Italian immigrants - New York-style pizza and Italian cuisine\n",
    "Jewish immigrants and Irish immigrants - pastrami and corned beef\n",
    "Chinese and other Asian restaurants, sandwich joints, trattorias, diners, and coffeehouses are ubiquitous throughout the city\n",
    "mobile food vendors - Some 4,000 licensed by the city\n",
    "Middle Eastern foods such as falafel and kebabs examples of modern New York street food\n",
    "It is famous for not just Pizzerias, Cafe's but also for fine dining Michelin starred restaurants.The city is home to \"nearly one thousand of the finest and most diverse haute cuisine restaurants in the world\", according to Michelin.\n",
    "So it is evident that to survive in such competitive market it is very important to startegically plan. Various factors need to be studied inorder to decide on the Location such as : \n",
    "New York Population \n",
    "New York City Demographics \n",
    "Are there any Farmers Markets, Wholesale markets etc nearby so that the ingredients can be purchased fresh to maintain quality and cost?\n",
    "Are there any venues like Gyms, Entertainmnet zones, Parks etc nearby where floating population is high etc \n",
    "Who are the competitors in that location? \n",
    "Cuisine served / Menu of the competitors \n",
    "Segmentation of the Borough \n",
    "Untapped markets \n",
    "Saturated markets etc\n",
    "The list can go on...\n",
    "Eventhough well funded XYZ Company Ltd. need to choose the correct location to start its first venture.If this is successful they can replicate the same in other locations. First move is very important, thereby choice of location is very important.\n",
    "Target Audience:\n",
    "To recommend the correct location, XYZ Company Ltd has appointed me to lead of the Data Science team. The objective is to locate and recommend to the management which neighborhood of Newyork city will be best choice to start a restaurant. The Management also expects to understand the rationale of the recommendations made.\n",
    "This would interest anyone who wants to start a new restaurant in Newyork city.\n",
    "Success Criteria:\n",
    "The success criteria of the project will be a good recommendation of borough/Neighborhood choice to XYZ Company Ltd based on Lack of such restaurants in that location and nearest suppliers of ingredients."
   ]
  },
  {
   "cell_type": "markdown",
   "metadata": {},
   "source": [
    "### Background Discussion"
   ]
  },
  {
   "cell_type": "markdown",
   "metadata": {},
   "source": [
    "### Keep in mind; demand is key to running a successful bed and breakfast. This means that location is everything."
   ]
  },
  {
   "cell_type": "code",
   "execution_count": null,
   "metadata": {},
   "outputs": [],
   "source": []
  },
  {
   "cell_type": "code",
   "execution_count": null,
   "metadata": {},
   "outputs": [],
   "source": []
  }
 ],
 "metadata": {
  "kernelspec": {
   "display_name": "Python 3",
   "language": "python",
   "name": "python3"
  },
  "language_info": {
   "codemirror_mode": {
    "name": "ipython",
    "version": 3
   },
   "file_extension": ".py",
   "mimetype": "text/x-python",
   "name": "python",
   "nbconvert_exporter": "python",
   "pygments_lexer": "ipython3",
   "version": "3.8.3"
  }
 },
 "nbformat": 4,
 "nbformat_minor": 4
}
