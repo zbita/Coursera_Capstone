{
 "cells": [
  {
   "cell_type": "code",
   "execution_count": null,
   "metadata": {},
   "outputs": [],
   "source": [
    "\n",
    "theft_json = json.load(open('theft_geojson.json'))\n",
    "assualt_json = json.load(open('assualt_geojson.json'))\n",
    "\n",
    "m = folium.Map(location=[41.20, -77.50], tiles=\"cartodbdark_matter\", zoom_start=8.3)\n",
    "\n",
    "theft = folium.Choropleth(\n",
    "    geo_data=theft_json,\n",
    "    data=df_theft,               \n",
    "    columns=['county_name', 'rate'],\n",
    "    key_on='feature.properties.county_name',\n",
    "    fill_color='OrRd',\n",
    "    fill_opacity=0.9,\n",
    "    nan_fill_color='#ffffff',\n",
    "    nan_fill_opacity=0.9,\n",
    "    legend_name='Incident rate per 100,000 people',\n",
    "    highlight=True,\n",
    "    name='Theft'\n",
    ").add_to(m)\n",
    "\n",
    "folium.GeoJson(\n",
    "    theft_json,\n",
    "    tooltip=folium.features.Tooltip(fields=['feature.properties.county_name'])\n",
    ").add_to(theft)\n",
    "\n",
    "assualt = folium.Choropleth(\n",
    "    geo_data=assualt_json,\n",
    "    data=df_assualt,               \n",
    "    columns=['county_name', 'rate'],\n",
    "    key_on='feature.properties.county_name',\n",
    "    fill_color='OrRd',\n",
    "    fill_opacity=0.9,\n",
    "    nan_fill_color='#ffffff',\n",
    "    nan_fill_opacity=0.9,\n",
    "    legend_name='Incident rate per 100,000 people',\n",
    "    highlight=True,\n",
    "    name='Assualt'\n",
    ").add_to(m)\n",
    "\n",
    "folium.GeoJson(\n",
    "    assualt_json,\n",
    "    tooltip=folium.features.Tooltip(fields=['feature.properties.county_name'])\n",
    ").add_to(assualt)\n",
    "\n",
    "\n",
    "folium.LayerControl().add_to(m) \n",
    "m.save('Crime_Map.html')\n",
    "\n",
    "print('Map created.')"
   ]
  }
 ],
 "metadata": {
  "kernelspec": {
   "display_name": "Python 3",
   "language": "python",
   "name": "python3"
  },
  "language_info": {
   "codemirror_mode": {
    "name": "ipython",
    "version": 3
   },
   "file_extension": ".py",
   "mimetype": "text/x-python",
   "name": "python",
   "nbconvert_exporter": "python",
   "pygments_lexer": "ipython3",
   "version": "3.8.3"
  }
 },
 "nbformat": 4,
 "nbformat_minor": 4
}
