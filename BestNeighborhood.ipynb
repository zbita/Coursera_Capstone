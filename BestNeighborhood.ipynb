{
 "cells": [
  {
   "cell_type": "code",
   "execution_count": 7,
   "metadata": {},
   "outputs": [],
   "source": [
    "import matplotlib\n",
    "import matplotlib.pyplot as plt\n",
    "%matplotlib inline\n",
    "import seaborn as sns\n",
    "import pandas as pd\n",
    "import numpy as np\n",
    "import folium\n",
    "import requests\n",
    "import json\n",
    "import os\n",
    "import requests"
   ]
  },
  {
   "cell_type": "code",
   "execution_count": 8,
   "metadata": {},
   "outputs": [],
   "source": [
    "response = requests.get(\"https://ons-inspire.esriuk.com/arcgis/rest/services/Postcodes/ONSPD_Centroids_Lite/MapServer/0/query?where=pcd2%20%3D%20'OX14'&outFields=objectid,pcd,pcd2,pcds,nhser,ctry,rgn,pcon,eer,ttwa,nuts,park,oa11,lsoa11,msoa11,parish,wz11,lat,long,lep1,lep2,pfa,imd,calncv,stp,pcdn,shape&outSR=4326&f=json\")\n"
   ]
  },
  {
   "cell_type": "code",
   "execution_count": 9,
   "metadata": {},
   "outputs": [
    {
     "output_type": "stream",
     "name": "stdout",
     "text": [
      "200\n{\"displayFieldName\":\"PCD\",\"fieldAliases\":{\"objectid\":\"objectid\",\"pcd\":\"pcd\",\"pcd2\":\"pcd2\",\"pcds\":\"pcds\",\"nhser\":\"nhser\",\"ctry\":\"ctry\",\"rgn\":\"rgn\",\"pcon\":\"pcon\",\"eer\":\"eer\",\"ttwa\":\"ttwa\",\"nuts\":\"nuts\",\"park\":\"park\",\"oa11\":\"oa11\",\"lsoa11\":\"lsoa11\",\"msoa11\":\"msoa11\",\"parish\":\"parish\",\"wz11\":\"wz11\",\"lat\":\"lat\",\"long\":\"long\",\"lep1\":\"lep1\",\"lep2\":\"lep2\",\"pfa\":\"pfa\",\"imd\":\"imd\",\"calncv\":\"calncv\",\"stp\":\"stp\",\"pcdn\":\"pcdn\"},\"geometryType\":\"esriGeometryPoint\",\"spatialReference\":{\"wkid\":4326,\"latestWkid\":4326},\"fields\":[{\"name\":\"objectid\",\"type\":\"esriFieldTypeOID\",\"alias\":\"objectid\"},{\"name\":\"pcd\",\"type\":\"esriFieldTypeString\",\"alias\":\"pcd\",\"length\":7},{\"name\":\"pcd2\",\"type\":\"esriFieldTypeString\",\"alias\":\"pcd2\",\"length\":8},{\"name\":\"pcds\",\"type\":\"esriFieldTypeString\",\"alias\":\"pcds\",\"length\":8},{\"name\":\"nhser\",\"type\":\"esriFieldTypeString\",\"alias\":\"nhser\",\"length\":9},{\"name\":\"ctry\",\"type\":\"esriFieldTypeString\",\"alias\":\"ctry\",\"length\":9},{\"name\":\"rgn\",\"type\":\"esriFieldTypeString\",\"alias\":\"rgn\",\"length\":9},{\"name\":\"pcon\",\"type\":\"esriFieldTypeString\",\"alias\":\"pcon\",\"length\":9},{\"name\":\"eer\",\"type\":\"esriFieldTypeString\",\"alias\":\"eer\",\"length\":9},{\"name\":\"ttwa\",\"type\":\"esriFieldTypeString\",\"alias\":\"ttwa\",\"length\":9},{\"name\":\"nuts\",\"type\":\"esriFieldTypeString\",\"alias\":\"nuts\",\"length\":10},{\"name\":\"park\",\"type\":\"esriFieldTypeString\",\"alias\":\"park\",\"length\":9},{\"name\":\"oa11\",\"type\":\"esriFieldTypeString\",\"alias\":\"oa11\",\"length\":9},{\"name\":\"lsoa11\",\"type\":\"esriFieldTypeString\",\"alias\":\"lsoa11\",\"length\":9},{\"name\":\"msoa11\",\"type\":\"esriFieldTypeString\",\"alias\":\"msoa11\",\"length\":9},{\"name\":\"parish\",\"type\":\"esriFieldTypeString\",\"alias\":\"parish\",\"length\":9},{\"name\":\"wz11\",\"type\":\"esriFieldTypeString\",\"alias\":\"wz11\",\"length\":9},{\"name\":\"lat\",\"type\":\"esriFieldTypeDouble\",\"alias\":\"lat\"},{\"name\":\"long\",\"type\":\"esriFieldTypeDouble\",\"alias\":\"long\"},{\"name\":\"lep1\",\"type\":\"esriFieldTypeString\",\"alias\":\"lep1\",\"length\":9},{\"name\":\"lep2\",\"type\":\"esriFieldTypeString\",\"alias\":\"lep2\",\"length\":9},{\"name\":\"pfa\",\"type\":\"esriFieldTypeString\",\"alias\":\"pfa\",\"length\":9},{\"name\":\"imd\",\"type\":\"esriFieldTypeInteger\",\"alias\":\"imd\"},{\"name\":\"calncv\",\"type\":\"esriFieldTypeString\",\"alias\":\"calncv\",\"length\":9},{\"name\":\"stp\",\"type\":\"esriFieldTypeString\",\"alias\":\"stp\",\"length\":9},{\"name\":\"pcdn\",\"type\":\"esriFieldTypeString\",\"alias\":\"pcdn\",\"length\":7}],\"features\":[]}\n"
     ]
    }
   ],
   "source": [
    "print(response.status_code)     # To print http response code  \n",
    "print(response.text)"
   ]
  },
  {
   "cell_type": "code",
   "execution_count": 43,
   "metadata": {},
   "outputs": [
    {
     "output_type": "error",
     "ename": "NameError",
     "evalue": "name 'url' is not defined",
     "traceback": [
      "\u001b[0;31m---------------------------------------------------------------------------\u001b[0m",
      "\u001b[0;31mNameError\u001b[0m                                 Traceback (most recent call last)",
      "\u001b[0;32m<ipython-input-43-0dd681911dcc>\u001b[0m in \u001b[0;36m<module>\u001b[0;34m\u001b[0m\n\u001b[1;32m      1\u001b[0m \u001b[0mheaders\u001b[0m \u001b[0;34m=\u001b[0m \u001b[0;34m{\u001b[0m\u001b[0;34m'user-agent'\u001b[0m\u001b[0;34m:\u001b[0m \u001b[0;34m'customize header string'\u001b[0m\u001b[0;34m,\u001b[0m \u001b[0;34m'Content-Type'\u001b[0m\u001b[0;34m:\u001b[0m \u001b[0;34m'application/json; charset=utf-8'\u001b[0m\u001b[0;34m}\u001b[0m\u001b[0;34m\u001b[0m\u001b[0;34m\u001b[0m\u001b[0m\n\u001b[0;32m----> 2\u001b[0;31m \u001b[0mresponse\u001b[0m \u001b[0;34m=\u001b[0m \u001b[0mrequests\u001b[0m\u001b[0;34m.\u001b[0m\u001b[0mget\u001b[0m\u001b[0;34m(\u001b[0m\u001b[0murl\u001b[0m\u001b[0;34m,\u001b[0m \u001b[0mheaders\u001b[0m\u001b[0;34m=\u001b[0m\u001b[0mheaders\u001b[0m\u001b[0;34m)\u001b[0m   \u001b[0;31m# modify request headers\u001b[0m\u001b[0;34m\u001b[0m\u001b[0;34m\u001b[0m\u001b[0m\n\u001b[0m\u001b[1;32m      3\u001b[0m \u001b[0mprint\u001b[0m\u001b[0;34m(\u001b[0m\u001b[0mresponse\u001b[0m\u001b[0;34m.\u001b[0m\u001b[0mheaders\u001b[0m\u001b[0;34m)\u001b[0m                         \u001b[0;31m# print response headers\u001b[0m\u001b[0;34m\u001b[0m\u001b[0;34m\u001b[0m\u001b[0m\n\u001b[1;32m      4\u001b[0m \u001b[0mprint\u001b[0m\u001b[0;34m(\u001b[0m\u001b[0mresponse\u001b[0m\u001b[0;34m.\u001b[0m\u001b[0mheaders\u001b[0m\u001b[0;34m[\u001b[0m\u001b[0;34m'Content-Type'\u001b[0m\u001b[0;34m]\u001b[0m\u001b[0;34m)\u001b[0m\u001b[0;34m\u001b[0m\u001b[0;34m\u001b[0m\u001b[0m\n",
      "\u001b[0;31mNameError\u001b[0m: name 'url' is not defined"
     ]
    }
   ],
   "source": [
    "headers = {'user-agent': 'customize header string', 'Content-Type': 'application/json; charset=utf-8'}  \n",
    "response = requests.get(response, headers=headers)   # modify request headers \n",
    "print(response.headers)                         # print response headers \n",
    "print(response.headers['Content-Type'])  "
   ]
  }
 ],
 "metadata": {
  "kernelspec": {
   "display_name": "Python 3",
   "language": "python",
   "name": "python3"
  },
  "language_info": {
   "codemirror_mode": {
    "name": "ipython",
    "version": 3
   },
   "file_extension": ".py",
   "mimetype": "text/x-python",
   "name": "python",
   "nbconvert_exporter": "python",
   "pygments_lexer": "ipython3",
   "version": "3.8.3-final"
  }
 },
 "nbformat": 4,
 "nbformat_minor": 4
}